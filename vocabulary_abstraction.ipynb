{
 "cells": [
  {
   "cell_type": "code",
   "execution_count": 2,
   "metadata": {},
   "outputs": [],
   "source": [
    "import os\n",
    "import pandas as pd\n",
    "import nltk\n",
    "wn = nltk.corpus.wordnet\n",
    "from digital_manuscript import BnF"
   ]
  },
  {
   "cell_type": "code",
   "execution_count": 4,
   "metadata": {},
   "outputs": [
    {
     "output_type": "execute_result",
     "data": {
      "text/plain": "[Synset('entity.n.01')]"
     },
     "metadata": {},
     "execution_count": 4
    }
   ],
   "source": [
    "term = 'physical_entity'\n",
    "dog = wn.synsets(term, pos=wn.NOUN)\n",
    "dog[0].hypernyms()\n",
    "# hyper = dog[0].hypernyms()\n",
    "# for x in hyper:\n",
    "#     print(x, x.hypernyms())\n",
    "\n",
    "# from nltk.corpus import wordnet as wn\n",
    "# for ss in wn.synsets(term):\n",
    "#     print (ss, ss.hypernyms())"
   ]
  },
  {
   "cell_type": "code",
   "execution_count": 6,
   "metadata": {},
   "outputs": [],
   "source": [
    "animal = wn.synset('animal.n.01')\n",
    "artifact = wn.synset('artifact.n.01')\n",
    "\n",
    "class r_node:\n",
    "    def __init__(self, lemma, children=[]):\n",
    "        self.lemma = lemma\n",
    "        \n",
    "#         if lemma == animal:\n",
    "#             print(children + [lemma,])\n",
    "        self.children = children\n",
    "        self.hypernyms = lemma.hypernyms()\n",
    "        self.parents = [r_node(h, children + [lemma,]) for h in self.hypernyms]\n",
    "        \n",
    "    def return_animal_path(self):\n",
    "        if self.lemma == wn.synset('animal.n.01'):\n",
    "            return [[self.lemma,],]\n",
    "        else:\n",
    "            parent_paths = [n.return_animal_path() for n in self.parents]\n",
    "            parent_paths = [p for p in parent_paths if len(p) > 0]\n",
    "            paths = []\n",
    "            for p in parent_paths:\n",
    "                paths += p\n",
    "            for p in paths:\n",
    "                p.append(self.lemma)\n",
    "            return paths\n",
    "\n",
    "    def return_concept_path(self):\n",
    "        if self.lemma == wn.synset('entity.n.01'):\n",
    "            return [[self.lemma,],]\n",
    "        else:\n",
    "            parent_paths = [n.return_concept_path() for n in self.parents]\n",
    "            parent_paths = [p for p in parent_paths if len(p) > 0]\n",
    "            paths = []\n",
    "            for p in parent_paths:\n",
    "                paths += p\n",
    "            for p in paths:\n",
    "                p.append(self.lemma)\n",
    "            return paths"
   ]
  },
  {
   "cell_type": "code",
   "execution_count": 8,
   "metadata": {},
   "outputs": [
    {
     "output_type": "execute_result",
     "data": {
      "text/plain": "[[Synset('entity.n.01'),\n  Synset('physical_entity.n.01'),\n  Synset('object.n.01'),\n  Synset('whole.n.02'),\n  Synset('artifact.n.01'),\n  Synset('fabric.n.01')]]"
     },
     "metadata": {},
     "execution_count": 8
    }
   ],
   "source": [
    "dog = wn.synsets('cloth', pos=wn.NOUN)[0]\n",
    "dn = r_node(dog)\n",
    "dn.return_concept_path()\n",
    "# print([p.parents[0].lemma for p in dn.parents])\n",
    "\n",
    "# animal"
   ]
  },
  {
   "cell_type": "code",
   "execution_count": 10,
   "metadata": {},
   "outputs": [
    {
     "output_type": "execute_result",
     "data": {
      "text/plain": "[[Synset('animal.n.01'),\n  Synset('chordate.n.01'),\n  Synset('vertebrate.n.01'),\n  Synset('mammal.n.01'),\n  Synset('placental.n.01'),\n  Synset('rodent.n.01'),\n  Synset('squirrel.n.01')]]"
     },
     "metadata": {},
     "execution_count": 10
    }
   ],
   "source": [
    "squirrel = wn.synsets('squirrel')[0]\n",
    "sn = r_node(squirrel)\n",
    "sn.return_animal_path()"
   ]
  },
  {
   "cell_type": "code",
   "execution_count": 12,
   "metadata": {},
   "outputs": [
    {
     "output_type": "execute_result",
     "data": {
      "text/plain": "[[Synset('animal.n.01'),\n  Synset('chordate.n.01'),\n  Synset('vertebrate.n.01'),\n  Synset('aquatic_vertebrate.n.01'),\n  Synset('fish.n.01')]]"
     },
     "metadata": {},
     "execution_count": 12
    }
   ],
   "source": [
    "fish = wn.synsets('fish', pos=wn.NOUN)[0]\n",
    "fn = r_node(fish)\n",
    "fn.return_animal_path()"
   ]
  },
  {
   "cell_type": "code",
   "execution_count": 14,
   "metadata": {},
   "outputs": [
    {
     "output_type": "execute_result",
     "data": {
      "text/plain": "[[Synset('animal.n.01'),\n  Synset('invertebrate.n.01'),\n  Synset('arthropod.n.01'),\n  Synset('insect.n.01'),\n  Synset('louse.n.01')]]"
     },
     "metadata": {},
     "execution_count": 14
    }
   ],
   "source": [
    "louse = wn.synsets('louse')[0]\n",
    "ln = r_node(louse)\n",
    "ln.return_animal_path()"
   ]
  },
  {
   "cell_type": "code",
   "execution_count": 16,
   "metadata": {},
   "outputs": [
    {
     "output_type": "execute_result",
     "data": {
      "text/plain": "[[Synset('animal.n.01'),\n  Synset('invertebrate.n.01'),\n  Synset('mollusk.n.01'),\n  Synset('bivalve.n.01'),\n  Synset('oyster.n.01')]]"
     },
     "metadata": {},
     "execution_count": 16
    }
   ],
   "source": [
    "oyster = wn.synsets('oyster')[0]\n",
    "on = r_node(oyster)\n",
    "on.return_animal_path()"
   ]
  },
  {
   "cell_type": "code",
   "execution_count": 18,
   "metadata": {},
   "outputs": [
    {
     "output_type": "stream",
     "name": "stdout",
     "text": "[Synset('vertebrate.n.01')]\n[Synset('vertebrate.n.01')]\n[Synset('reptile.n.01')]\n[Synset('vertebrate.n.01')]\n[Synset('vertebrate.n.01')]\n[Synset('vertebrate.n.01')]\n[Synset('animal.n.01')]\n[Synset('invertebrate.n.01')]\n"
    }
   ],
   "source": [
    "squirrel = wn.synsets('squirrel')[0]\n",
    "weasel = wn.synsets('weasel')[1] # index 0 is a sneaky person\n",
    "squirrel.lowest_common_hypernyms(weasel)\n",
    "\n",
    "snake = wn.synsets('snake')[0]\n",
    "print(snake.lowest_common_hypernyms(weasel))\n",
    "print(snake.lowest_common_hypernyms(squirrel))\n",
    "\n",
    "turtle = wn.synsets('turtle')[1] # index 0 is a turtleneck (lmao)\n",
    "print(turtle.lowest_common_hypernyms(snake))\n",
    "print(turtle.lowest_common_hypernyms(squirrel))\n",
    "\n",
    "fish = wn.synsets('fish', pos=wn.NOUN)[0] # pos = part of speech\n",
    "swan = wn.synsets('swan')[0]\n",
    "print(fish.lowest_common_hypernyms(turtle))\n",
    "print(fish.lowest_common_hypernyms(snake))\n",
    "\n",
    "louse = wn.synsets('louse')[0]\n",
    "oyster = wn.synsets('oyster')[0]\n",
    "print(louse.lowest_common_hypernyms(snake))\n",
    "print(louse.lowest_common_hypernyms(oyster))"
   ]
  },
  {
   "cell_type": "code",
   "execution_count": 20,
   "metadata": {
    "tags": [
     "outputPrepend"
    ]
   },
   "outputs": [],
   "source": [
    "path = os.getcwd() + '/../manuscript-object/thesaurus/animal.csv'\n",
    "\n",
    "df = pd.read_csv(path)\n",
    "terms = list(set(df['prefLabel_en']))\n",
    "simple_terms = [t for t in terms if ' ' not in t]\n",
    "simple_terms\n",
    "\n",
    "\n",
    "for i in range(len(simple_terms)) :\n",
    "    if simple_terms[i] in ['weasel','turtle','cuckoo','codfish','mussel','chicken','goldfinch','turtledofe','linnet', 'water-dog']: #first meaning is not the animal. Birds tend to have another bird as first meaning\n",
    "        if simple_terms[i]=='turtledofe':\n",
    "            simple_terms[i]='turtledove'\n",
    "        elif simple_terms[i]=='water-dog':\n",
    "            simple_terms[i]='water_dog'\n",
    "        lit = [simple_terms[i],1]\n",
    "    elif simple_terms[i] in ['ewe','swallow','crayfish','partridge','hart',\"calendra\",'calandra','hog']:#have to go to third meaning to get the animal or the right bird\n",
    "        if simple_terms[i] in [\"calendra\",'calandra']:\n",
    "            simple_terms[i]='lark'\n",
    "        lit = [simple_terms[i],2]\n",
    "    elif simple_terms[i] in ['dragon']:#the mythical creature does not have a link to animal. This is \"any of several small tropical Asian lizards capable of gliding by spreading winglike membranes on each side of the body\"\n",
    "        lit = [simple_terms[i],3]\n",
    "    else :\n",
    "        lit = [simple_terms[i],0]\n",
    "    simple_terms[i]=lit\n",
    "\n",
    "for i in range(len(simple_terms)):\n",
    "    word=simple_terms[i][0]\n",
    "    liste = wn.synsets(word,pos=wn.NOUN)\n",
    "    for item in liste:\n",
    "        ani = r_node(item)\n",
    "        if ani.return_animal_path()!=[]:\n",
    "            simple_terms[i].append(item.definition())\n",
    "        else : \n",
    "            simple_terms[i].append(item.definition() + \" (not in tree)\")"
   ]
  },
  {
   "cell_type": "code",
   "execution_count": 22,
   "metadata": {},
   "outputs": [],
   "source": [
    "df = pd.DataFrame(simple_terms)\n",
    "#df.to_csv('./simple_terms.csv',sep=',',index=False)"
   ]
  },
  {
   "cell_type": "code",
   "execution_count": 24,
   "metadata": {},
   "outputs": [],
   "source": [
    "class Node(object):\n",
    "\n",
    "    def __init__(self, value, parent):\n",
    "        self.value = value\n",
    "        self.children = []\n",
    "        if parent is not None:\n",
    "            parent.children.append(self)"
   ]
  },
  {
   "cell_type": "code",
   "execution_count": 26,
   "metadata": {},
   "outputs": [],
   "source": [
    "from print_tree import print_tree   #actually using package print-tree2 from pypi\n",
    "\n",
    "class print_custom_tree(print_tree):\n",
    "\n",
    "    def get_children(self, node):\n",
    "        return node.children\n",
    "\n",
    "    def get_node_str(self, node):\n",
    "        return str(node.value)"
   ]
  },
  {
   "cell_type": "code",
   "execution_count": 28,
   "metadata": {
    "tags": [
     "outputPrepend"
    ]
   },
   "outputs": [
    {
     "output_type": "stream",
     "name": "stdout",
     "text": "\n                                  ┌musteline_mammal─weasel\n                                  │      ┌wolf\n                        ┌carnivore┼canine┤\n                        │         │      └dog─hunting_dog─water_dog\n                        │         └feline─cat\n                        │      ┌squirrel\n                        │      ├dormouse\n                        ├rodent┼mouse\n                        │      ├rat\n                        │      └porcupine\n                        ├swine─hog\n                        │      ┌horse\n                        ├equine┤\n                        │      └mule\n                 ┌mammal┤\n                 │      ├primate─homo\n                 │      │        ┌sheep─ewe\n                 │      │        │      ┌cow\n                 │      │        ├cattle┼beef\n                 │      │        │      └ox\n                 │      ├ruminant┤\n                 │      │        ├goat\n                 │      │        └deer─hart\n                 │      ├bat\n                 │      └rabbit\n                 │                 ┌waterfowl─duck\n                 │    ┌aquatic_bird┼swan\n                 │    │            └heron─bittern\n                 │    │         ┌lark\n                 │    │         ├new_world_oriole─meadowlark\n                 │    │         │     ┌linnet\n                 │    │         │     ├chaffinch\n                 │    │         ├finch┼goldfinch\n                 │    │         │     ├siskin\n                 │    │         │     └bunting─ortolan\n                 │    ├passerine┤\n                 │    │         ├crow\n                 │    │         ├nightingale\n                 │    │         └swallow\n                 ├bird┼bird_of_prey─eagle\n                 │    │                 ┌game_bird─partridge\n                 │    │                 │                     ┌hen\n                 │    ├gallinaceous_bird┼domestic_fowl─chicken┤\n                 │    │                 │                     └chick\n                 │    │                 └pigeon─dove─turtledove\n                 │    └cuckoo\n                 │    ┌cod\n      ┌vertebrate┼fish┤\n      │          │    └bowfin\n      │          │       ┌snake─viper\n      │          ├reptile┼turtle\n      │          │       └saurian─lizard─dragon\n      │          └amphibian─frog\n      │     ┌mealworm\n      ├larva┤\n      │     └caterpillar─silkworm\nanimal┤\n      │                    ┌cephalopod─cuttlefish\n      │            ┌mollusk┼gastropod─snail\n      │            │       │       ┌oyster\n      │            │       └bivalve┤\n      │            │               └mussel\n      │            │                ┌lepidopterous_insect─butterfly\n      │            │                ├flea\n      │            │                ├homopterous_insect─cicada\n      │            │         ┌insect┼louse\n      │            │         │      ├grasshopper\n      │            │         │      ├hymenopterous_insect─ant\n      │            │         │      └dipterous_insect─fly\n      ├invertebrate┼arthropod┼arachnid─spider\n      │            │         │          ┌crayfish\n      │            │         └crustacean┤\n      │            │                    └crab\n      │            └worm─earthworm\n      │                  ┌calf\n      └young─young_mammal┼lamb\n                         └foal─colt\n"
    },
    {
     "output_type": "execute_result",
     "data": {
      "text/plain": "<__main__.print_custom_tree at 0x24f50ddfd88>"
     },
     "metadata": {},
     "execution_count": 28
    }
   ],
   "source": [
    "animaln = Node('animal', None)\n",
    "visited = []\n",
    "skipped=0\n",
    "path = os.getcwd() + '/../manuscript-object/simple_terms.csv'\n",
    "words = pd.read_csv(path)\n",
    "\n",
    "for animals in words.itertuples() :\n",
    "    if animals[1] not in ['bombicum','og','verdaule','tellin','petit-gri','aucupio','daot','shell','mutton','barbel','pork']:   #not in wordnet or not in tree\n",
    "        ani = wn.synsets(animals[1])[animals[2]]\n",
    "        an = r_node(ani)\n",
    "        lis = an.return_animal_path()[0]\n",
    "        for i in range (1,len(lis)):\n",
    "            name = lis[i].name().split('.')[0]\n",
    "            if name in ['even-toed_ungulate','odd-toed_ungulate','orthopterous_insect','chordate','placental','ungulate','thrush','oscine','leporid','lagomorph','decapod_crustacean','chordate','diapsid','anapsid','chelonian','bovid','bovine',\"anseriform_bird\",'wading_bird','columbiform_bird','corvine_bird','cuculiform_bird','aquatic_vertebrate','bony_fish','teleost_fish','gadoid','ganoid','annelid','oligochaete','decapod','soft-finned_fish','phasianid','ambystomid','red_deer','hominid','agamid', 'sporting_dog']: #- make everything go boom also things I don't care about\n",
    "                skipped+=1\n",
    "                visited.append(name)\n",
    "            elif name not in visited :\n",
    "                name_prec = lis[i-1-skipped].name().split('.')[0]\n",
    "                skipped=0\n",
    "                string = name+'n'+' = Node(name,'+ name_prec+'n)'\n",
    "                exec(string)\n",
    "                visited.append(name)\n",
    "            else :\n",
    "                skipped=0\n",
    "\n",
    "print_custom_tree(animaln) "
   ]
  },
  {
   "cell_type": "code",
   "execution_count": 30,
   "metadata": {
    "collapsed": true,
    "tags": [
     "outputPrepend"
    ]
   },
   "outputs": [],
   "source": [
    "path = os.getcwd() + '/../manuscript-object/thesaurus/material.csv'\n",
    "\n",
    "df = pd.read_csv(path)\n",
    "terms = list(set(df['prefLabel_en']))\n",
    "terms.pop(0)\n",
    "simple_terms = [t for t in terms if ' ' not in t]\n",
    "\n",
    "for i in range(len(simple_terms)):\n",
    "    if simple_terms[i] in ['earth','soil','lead','filing','spat','ocher','perfume','mold','coral','germ','phlegm','foam','or','ebony','amber','carton','blue','egg']:\n",
    "        simple_terms[i]=[simple_terms[i],1]\n",
    "    elif simple_terms[i] in ['pitch','distemper','gold']:\n",
    "        simple_terms[i]=[simple_terms[i],2]\n",
    "    elif simple_terms[i] in ['scale']:\n",
    "        simple_terms[i]=[simple_terms[i],6]\n",
    "    elif simple_terms[i] in ['black']:\n",
    "        simple_terms[i]=[simple_terms[i],4]\n",
    "    else :\n",
    "        simple_terms[i]=[simple_terms[i],0]\n",
    "\n",
    "for i in range(len(simple_terms)):\n",
    "    word=simple_terms[i][0]\n",
    "    liste = wn.synsets(word,pos=wn.NOUN)\n",
    "    for item in liste:\n",
    "        ani = r_node(item)\n",
    "        if ani.return_concept_path()!=[]:\n",
    "            simple_terms[i].append(item.definition())\n",
    "        else : \n",
    "            simple_terms[i].append(item.definition() + \" (not an entity)\")"
   ]
  },
  {
   "cell_type": "code",
   "execution_count": 32,
   "metadata": {},
   "outputs": [],
   "source": [
    "df = pd.DataFrame(simple_terms)\n",
    "#df.to_csv('./material_terms.csv',sep=',',index=False)"
   ]
  },
  {
   "cell_type": "code",
   "execution_count": 34,
   "metadata": {
    "scrolled": false,
    "tags": [
     "outputPrepend"
    ]
   },
   "outputs": [
    {
     "output_type": "stream",
     "name": "stdout",
     "text": "         │     │                           │    │                             ┌wheat\n                             │     │                           │    ├gramineous_plant─grass─cereal┤\n                             │     │                           │    │                             └millet\n                             │     │                           │    ├viola─pansy\n                             │     │                           │    ├rosemary\n                             │     │                           │    └fraxinella\n                             │     │                           │                ┌elm\n                             │     │                           │                │                  ┌fruit_tree─almond_tree─almond\n                             │     │                           │           ┌tree┼angiospermous_tree┤\n                             │     │                           │           │    │                  └nut_tree─hazelnut\n                             │     │                           │           │    └willow\n                             │     │                           ├woody_plant┤\n                             │     │                           │           │     ┌saltwort\n                             │     │                           │           └shrub┼rose\n                             │     │                           │                 └heath─heather\n                             │     │                           ├spermatophyte─angiosperm─madderwort─madder\n                             │     │                     ┌plant┤\n                             │     │                     │     ├pteridophyte─fern_ally─horsetail\n                             │     │                     │     │             ┌iridaceous_plant─crocus─saffron\n                             │     │                     │     ├bulbous_plant┤\n                             │     │                     │     │             └liliaceous_plant─alliaceous_plant─garlic\n                             │     │                     │     └succulent─aloe\n                             │     │                     │               ┌carnivore─viverrine─civet\n                             │     │                     │      ┌chordate┤\n                             │     │                     │      │        │                       ┌bovine─cattle─beef\n                             │     │                     │      │        └ungulate─ruminant─bovid┤\n                             │     │                     │      │                                └sheep\n                             │     └living_thing─organism┼animal┼larva─mealworm\n                             │                           │      │            ┌arthropod─arachnid─spider\n                             │                           │      └invertebrate┤\n                             │                           │                   └worm─annelid─oligochaete─earthworm\n                             │                           │      ┌basidiomycete─agaric─mushroom\n                             │                           └fungus┤\n                             │                                  └puffball\n                      ┌object┤\n                      │      │                    ┌center\n                      │      │               ┌area┤\n                      │      │               │    └room─operating_room\n                      │      │        ┌region┤\n                      │      │        │      └layer─crust\n                      │      └location┤\n                      │               └point─position─pitch\n                      │                                                   ┌condiment─vinegar\n                      │                                          ┌flavorer┤\n                      │                                          │        │          ┌honey\n                      │                                          │        └sweetening┼syrup\n                      │                                          │                   └sugar\n                      │                               ┌ingredient┤\n                      │                               │          └egg_yolk\n                      │                               ├flour\n                      │                               │             ┌butter\n                      │                     ┌foodstuff┼dairy_product┤\n                      │                     │         │             └cheese\n                      │                     │         ├egg\n                      │                     │         └concoction─dough\n                      │                     │                        ┌pea\n                      │                     ├produce─vegetable─legume┤\n                      │                     │                        └bean\n                      │                     │                ┌gelatin\n                      │                     │         ┌dainty┤\n                      │                     │         │      └sweet─chewing_gum\n                      │                     ├nutriment┤\n                      │                     │         └dish─soup─broth\n                      │                ┌food┤\n                      │                │    ├feed─fodder─hay\n                      │                │    │        ┌alcohol─wine\n                      │                │    ├beverage┼tea─herb_tea─tisane\n                      │                │    │        └milk\n                      │                │    └baked_goods─bread\n                      │                │                ┌hemimorphite\n                      │                │                │     ┌aquamarine\n                      │                │                ├beryl┤\n                      │                │                │     └emerald\n                      │                │                ├orpiment\n                      │                │                │                 ┌bloodstone\n                      │                │                │      ┌chalcedony┤\n                      │                │                │      │          └agate\n                      │                │                ├quartz┼topaz\n                      │                │                │      └amethyst\n                      │                │                ├emery\n                      │                │                ├mica\n                      │                │                ├spar─calcite─chalk\n                      │                │                ├ore─lead_ore─massicot\n                      │                │        ┌mineral┤\n                      │                │        │       ├borax\n                      │                │        │       │           ┌umber\n                      │                │        │       ├earth_color┤\n                      │                │        │       │           └ocher\n                      │                │        │       ├cinnabar\n                      │                │        │       ├corundom─sapphire\n                      │                │        │       ├garnet\n                      │                │        │       ├realgar\n                      │                │        │       ├zircon─hyacinth\n                      │                │        │       └talc\n                      │                │        ├sealing_material─lute\n                      │                │        │                                       ┌fresh_water─rain\n                      │                │        │                 ┌binary_compound─water┤\n                      │                │        │                 │                     └seawater\n                      │                │        │                 │    ┌calcium_sulphate─gypsum─alabaster\n                      │                │        │                 ├salt┤\n                      │                │        │                 │    └cream_of_tartar\n                      │                │        │                 │    ┌carboxylic_acid─acetic_acid─acetum\n                      │                │        │                 ├acid┤\n                      │                │        │                 │    └vitriol\n                      │                │        │                 │     ┌ferric_oxide─rust\n                      │                │        │                 │     ├trioxide─arsenic\n                      │                │        │                 ├oxide┼red_lead\n                      │                │        │                 │     ├silica─flint─firestone\n                      │                │        │                 │     └calcium_oxide\n                      │                │        │                 ├hydroxide─calcium_hydroxide\n                      │                │        │        ┌compound┤\n                      │                │        │        │        ├organic_compound─resin\n                      │                │        │        │        ├formulation─cleansing_agent─soap\n                      │                │        │        │        ├incense\n                      │                │        │        │        ├nitrate─potassium_nitrate\n                      │                │        │        │        └caustic─lye\n                      │                │        ├chemical┤\n                      │                │        │        └fertilizer─organic─manure\n                      │                │        │                            ┌oleoresin─turpentine\n                      │                │        │                            ├colophony\n                      │                │        │                            ├mastic\n                      │                │        │              ┌natural_resin┼camphor\n                      │                │        │              │             ├amber\n                      │                │        │              │             ├storax\n                      │                │        │              │             └gum_resin─benzoin\n                      │                │        │              │    ┌chestnut\n                      │                │        │              │    ├sandalwood\n                      │                │        │              │    ├wicker\n                      │                │        │              │    ├fir\n                      │                │        │              │    ├sandarac\n                      │                │        ├plant_material┼wood┤\n                      │                │        │              │    ├brazilwood\n                      │                │        │              │    ├ebony\n                      │                │        │              │    ├maple\n                      │                │        │              │    ├sumac\n                      │                │        │              │    └boxwood\n                      │                │        │              └chaff─bran\n                      │                │        │                        ┌glue\n                      │                │        ├adhesive_material─cement┤\n                      │                │        │                        └putty\n                      │                │        │          ┌mud\n                      │                │        ├earth─soil┼sand\n                      │                │        │          └clay\n                      │                │        │          ┌rye\n                      │                │        │    ┌grain┤\n                      │                │        │    │     └barley\n                      │                │        ├atom┤\n                      │                │        │    └grinding\n                      │                │        │     ┌parchment\n                      │                │        ├paper┤\n                      │                │        │     └card\n                      │                │        │     ┌impurity\n                      │                ├material┼waste┤\n                      │                │        │     │          ┌urine\n                      │                │        │     └body_waste┤\n                      │                │        │                └fecal_matter─droppings\n                      │                │        ├particulate─dust\n                      │                │        │               ┌dentine─ivory\n                      │                │        │               │              ┌animal_fiber─horsehair\n                      │                │        │               ├animal_product┤\n                      │                │        │               │              └animal_skin─leather\n                      │                │        ├animal_material┤\n                      │                │        │               ├animal_oil─tallow\n                      │                │        │               └feather─down\n                      │                │        │                 ┌dye─cochineal\n                      │                │        │                 │       ┌bister\n                      │                │        ├coloring_material┼pigment┼white_lead\n                      │                │        │                 │       └bole\n                      │                │        │                 └tincture\n                      │                │        │         ┌silver\n                      │                │        ├conductor┤\n                      │                │        │         └copper\n                      │                │        │                     ┌ammoniac\n                      │                │        ├discharge─exudate─gum┤\n                      │                │        │                     └tragacanth\n                      │                │        │                               ┌straw\n                      │                │        ├fiber─natural_fiber─plant_fiber┤\n                      │                │        │                               └cotton\n                      │                │        ├packing_material─cardboard\n                      │                │        └foam\n                      │                │             ┌bronze\n                      │                │             ├brass─latten\n                      │                │             ├steel\n                      │                │       ┌alloy┤\n                      │                │       │     ├electrum\n                      │                │       │     ├amalgam\n                      │                │       │     └solder\n                      │                │       ├composition─paste\n                      │      ┌substance┼mixture┤\n                      │      │         │       ├solution─sap\n                      │      │         │       └colloid─sol\n                      │      │         │                                    ┌blood\n                      │      │         │                                    │         ┌saliva\n                      │      │         │              ┌liquid_body_substance┼secretion┼mucus─phlegm\n                      │      │         │              │                     │         └musk\n                      │      │         │              │                     └juice─digestive_juice─bile\n                      │      │         ├body_substance┤\n                      │      │         │              └solid_body_substance─enamel\n                      │      │         │                                 ┌mercury\n                      │      │         │                                 ├lead\n                      │      │         │                                 ├tin\n                      │      │         │                                 ├aluminum─alum\n                      │      │         │                ┌metallic_element┤\n                      │      │         │                │                ├manganese\n                      │      │         │                │                ├iron\n                      │      │         │                │                ├antimony\n                      │      │         │                │                └noble_metal─gold\n                      │      │         │                │      ┌carbon_black\n                      │      │         └chemical_element┼carbon┤\n                      │      │                          │      └charcoal\n                      │      │                          └sulfur\n                      │      │         ┌air\n                      │      │     ┌gas┤\n                      │      │     │   └sublimate\n                      │      ├fluid┤\n                      │      │     └liquid─ink\n                      ├matter┤\n                      │      │     ┌glass\n                      │      │     │                      ┌coral\n                      │      │     ├crystal─gem─opaque_gem┤\n                      │      │     │                      └jasper\n                      │      ├solid┤\n                      │      │     ├powder\n                      │      │     └precipitate─sludge\n                      │      └residue─ash\n      ┌physical_entity┼process─phenomenon─natural_phenomenon─physical_phenomenon─cloud─aerosol─smoke\n      │               │                                       ┌wax─cerumen\n      │               │                                 ┌lipid┼fat─lard\n      │               │                                 │     └oil─grease\n      │               │     ┌unit─molecule─macromolecule┤\n      │               │     │                           └carbohydrate─polysaccharide─starch─arum\n      │               │     │             ┌filing\n      │               │     │    ┌fragment┤\n      │               │     │    │        └ember\n      │               ├thing┼part┤\n      │               │     │    │                   ┌horny_structure─nail\n      │               │     │    │         ┌structure┼building_complex\n      │               │     │    │         │         └germ\n      │               │     │    └body_part┤\n      │               │     │              │      ┌flesh\n      │               │     │              └tissue┤\n      │               │     │                     │                 ┌marrow\n      │               │     │                     └connective_tissue┤\n      │               │     │                                       └bone\n      │               │     └body_of_water─lake\n      │               │                       ┌medicine─remedy─ointment\n      │               │            ┌agent─drug┤\n      │               │            │          └narcotic─opiate\n      │               │            │      ┌black\n      │               └causal_agent┼person┼white\n      │                            │      └bad_person─victimizer─slaver\n      │                            └vital_principle─spirit\nentity┤\n      │                                                        ┌unsanitariness─filth\n      │                     ┌state─condition─sanitary_condition┤\n      │                     │                                  └dirtiness─dirt\n      │                     │                                              ┌blue─azure\n      │           ┌attribute┼property─visual_property─color─chromatic_color┼purple\n      │           │         │                                              │   ┌scarlet\n      │           │         │                                              └red┤\n      │           │         │                                                  └crimson\n      │           │         └shape─amorphous_shape─space─expanse\n      │           ├measure─system_of_measurement─standard\n      │           │                               ┌action─change─change_of_integrity─joining─fastening─bonding\n      └abstraction┼psychological_feature─event─act┼propulsion─pull─draw─tow\n                  │                               └activity─work─labor─manual_labor─application─tinning\n                  ├communication─language─natural_language─afroasiatic─semitic─arabic\n                  │     ┌collection─agglomeration─bunch─tuft─wisp\n                  └group┤\n                        └social_group─organization─association─club\n"
    },
    {
     "output_type": "execute_result",
     "data": {
      "text/plain": "<__main__.print_custom_tree at 0x24f50dc9ac8>"
     },
     "metadata": {},
     "execution_count": 34
    }
   ],
   "source": [
    "entityn = Node('entity', None)\n",
    "visited = []\n",
    "skipped=0\n",
    "\n",
    "path = os.getcwd() + '/../manuscript-object/material_terms.csv'\n",
    "words = pd.read_csv(path)\n",
    "\n",
    "\n",
    "for material in words.itertuples() :\n",
    "    if material[1] not in ['☉','☾','☼','☀','glueing','coryal','incarnadine','flin','spalt','grai','aquaforti','colla','vetro', 'goumiche','arene', 'theriac', 'bituman', 'aceto', 'wooden','zedoary','stagno','basan','rowan,','antho','☿','waxed','toadstone','glair', 'sandiver','fustet','potin','dyeing','taffetum','bullitoyre','ferro','canva','muddying','ferlin','leaded','salted','lucertum','soldered','glued','rooftile','earthen','milla','metalline','ambergri','stavesacre','bullitoire','couleur','arrabeic','charcoaled','cendrée','cristallin','porfidio','ferri','smoked','maplewood','arène','vernice','brouillamini','whitening','real','salpeter','k','♀','bronzing','preserf','thunderstone','clofe','litharge','purpurina','salty','felin','tinned','prele','crocum','tint','verdigri','silvered','pumouse','fremouse','fresil','verdet','dyed','oiled','horsedung','cocon.','billon','tuf','vermiculari','pulverin','unleaded','solle','felinder','coppera','quarton','batture','eau-de-vie','florey','taffer','wallwort','enameled','ferret-silk','ardide','porkfat','sanguine','magistra','vermeille','cornaline','niello','enamelling','cocon','aspalt','damascening','melli','grè','rocaille','crêpe','aurea','aspalte','solfo','chimolée','enamelled','sap-green','rutum','trwood','stuf','leady','debri','luted','galipot','vermillion','enameling','pearled','persicaire','enilanroc','oiling','otnegra','marcasite','oily','verjuice','gilded','verd','asphaltum','regulu']:   #not in wordnet or not in entity tree\n",
    "        mater = wn.synsets(material[1])[material[2]]\n",
    "        mat = r_node(mater)\n",
    "        lis = mat.return_concept_path()[0]\n",
    "        for i in range (1,len(lis)):\n",
    "            name = lis[i].name().split('.')[0]\n",
    "            if name in ['even-toed_ungulate', 'high-angle_gun','copper-base_alloy','ovum',\"dyer's_rocket\",'edible_fat','heavier-than-air_craft','reproductive_structure','legging','consumer_goods','ceramic_ware','source_of_illumination','baseball_equipment','hospital_room','sheet_metal','vascular_plant','vertebrate','mammal','placental','plant_product','animal_tissue']: #- make everything go boom also things I don't care about\n",
    "                skipped+=1\n",
    "                visited.append(name)\n",
    "            elif name not in visited :\n",
    "                name_prec = lis[i-1-skipped].name().split('.')[0]\n",
    "                skipped=0\n",
    "                string = name+'n'+' = Node(name,'+ name_prec+'n)'\n",
    "                exec(string)\n",
    "                visited.append(name)\n",
    "            else :\n",
    "                skipped=0\n",
    "\n",
    "print_custom_tree(entityn)"
   ]
  },
  {
   "cell_type": "code",
   "execution_count": null,
   "metadata": {},
   "outputs": [],
   "source": []
  }
 ],
 "metadata": {
  "kernelspec": {
   "display_name": "Python 3",
   "language": "python",
   "name": "python3"
  },
  "language_info": {
   "codemirror_mode": {
    "name": "ipython",
    "version": 3
   },
   "file_extension": ".py",
   "mimetype": "text/x-python",
   "name": "python",
   "nbconvert_exporter": "python",
   "pygments_lexer": "ipython3",
   "version": "3.7.6-final"
  }
 },
 "nbformat": 4,
 "nbformat_minor": 4
}