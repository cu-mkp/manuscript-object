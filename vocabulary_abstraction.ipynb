{
 "cells": [
  {
   "cell_type": "code",
   "execution_count": 16,
   "metadata": {},
   "outputs": [
    {
     "output_type": "stream",
     "name": "stderr",
     "text": "[nltk_data] Downloading package wordnet to\n[nltk_data]     C:\\Users\\danac\\AppData\\Roaming\\nltk_data...\n[nltk_data]   Package wordnet is already up-to-date!\n"
    }
   ],
   "source": [
    "import os\n",
    "import pandas as pd\n",
    "import nltk\n",
    "nltk.download('wordnet')\n",
    "wn = nltk.corpus.wordnet\n",
    "from digital_manuscript import BnF"
   ]
  },
  {
   "cell_type": "code",
   "execution_count": 17,
   "metadata": {},
   "outputs": [
    {
     "output_type": "execute_result",
     "data": {
      "text/plain": "['lizard',\n 'wolf',\n 'chicken',\n 'calendra',\n 'barbel',\n 'crab',\n 'hen',\n 'verdaule',\n 'codfish',\n 'shell',\n 'swine',\n 'swan',\n 'calandra',\n 'hog',\n 'duck',\n 'partridge',\n 'mealworm',\n 'mouse',\n 'grasshopper',\n 'tellin',\n 'pork',\n 'rat',\n 'fish',\n 'beef',\n 'linnet',\n 'silkworm',\n 'sheep',\n 'bittern',\n 'animal',\n 'lark',\n 'lamb',\n 'colt',\n 'rabbit',\n 'hart',\n 'goat',\n 'toad',\n 'mutton',\n 'mule',\n 'squirrel',\n 'viper',\n 'nightingale',\n 'dog',\n 'cuckoo',\n 'siskin',\n 'turtledofe',\n 'ortolan',\n 'crow',\n 'ox',\n 'daot',\n 'chick',\n 'horse',\n 'butterfly',\n 'earthworm',\n 'cuttlefish',\n 'water-dog',\n 'snake',\n 'frog',\n 'bat',\n 'swallow',\n 'worm',\n 'bombicum',\n 'eagle',\n 'flea',\n 'turtle',\n 'mussel',\n 'human',\n 'bird',\n 'og',\n 'spider',\n 'dragon',\n 'passerine',\n 'dormouse',\n 'chaffinch',\n 'crayfish',\n 'cat',\n 'oyster',\n 'ewe',\n 'snail',\n 'fly',\n 'pig',\n 'calf',\n 'ant',\n 'porcupine',\n 'pigeon',\n 'dogfish',\n 'cow',\n 'cicada',\n 'goldfinch',\n 'petit-gri',\n 'aucupio',\n 'weasel',\n 'louse']"
     },
     "metadata": {},
     "execution_count": 17
    }
   ],
   "source": [
    "path = os.getcwd() + '/../manuscript-object/thesaurus/animal.csv'\n",
    "\n",
    "df = pd.read_csv(path)\n",
    "terms = list(set(df['prefLabel_en']))\n",
    "simple_terms = [t for t in terms if ' ' not in t]\n",
    "simple_terms"
   ]
  },
  {
   "cell_type": "code",
   "execution_count": 18,
   "metadata": {},
   "outputs": [
    {
     "output_type": "execute_result",
     "data": {
      "text/plain": "[Synset('dog.n.01'),\n Synset('frump.n.01'),\n Synset('dog.n.03'),\n Synset('cad.n.01'),\n Synset('frank.n.02'),\n Synset('pawl.n.01'),\n Synset('andiron.n.01')]"
     },
     "metadata": {},
     "execution_count": 18
    }
   ],
   "source": [
    "term = 'dog'\n",
    "dog = wn.synsets(term, pos=wn.NOUN)\n",
    "dog\n",
    "# hyper = dog[0].hypernyms()\n",
    "# for x in hyper:\n",
    "#     print(x, x.hypernyms())\n",
    "\n",
    "# from nltk.corpus import wordnet as wn\n",
    "# for ss in wn.synsets(term):\n",
    "#     print (ss, ss.hypernyms())"
   ]
  },
  {
   "cell_type": "code",
   "execution_count": 19,
   "metadata": {},
   "outputs": [],
   "source": [
    "animal = wn.synset('animal.n.01')\n",
    "\n",
    "class r_node:\n",
    "    def __init__(self, lemma, children=[]):\n",
    "        self.lemma = lemma\n",
    "        \n",
    "#         if lemma == animal:\n",
    "#             print(children + [lemma,])\n",
    "        \n",
    "        self.children = children\n",
    "        self.hypernyms = lemma.hypernyms()\n",
    "        self.parents = [r_node(h, children + [lemma,]) for h in self.hypernyms]\n",
    "        \n",
    "    def return_animal_path(self):\n",
    "        if self.lemma == animal:\n",
    "            return [[self.lemma,],]\n",
    "        else:\n",
    "            parent_paths = [n.return_animal_path() for n in self.parents]\n",
    "            parent_paths = [p for p in parent_paths if len(p) > 0]\n",
    "            paths = []\n",
    "            for p in parent_paths:\n",
    "                paths += p\n",
    "            for p in paths:\n",
    "                p.append(self.lemma)\n",
    "            return paths"
   ]
  },
  {
   "cell_type": "code",
   "execution_count": 20,
   "metadata": {},
   "outputs": [
    {
     "output_type": "execute_result",
     "data": {
      "text/plain": "[[Synset('animal.n.01'),\n  Synset('chordate.n.01'),\n  Synset('vertebrate.n.01'),\n  Synset('mammal.n.01'),\n  Synset('placental.n.01'),\n  Synset('carnivore.n.01'),\n  Synset('canine.n.02'),\n  Synset('dog.n.01')],\n [Synset('animal.n.01'), Synset('domestic_animal.n.01'), Synset('dog.n.01')]]"
     },
     "metadata": {},
     "execution_count": 20
    }
   ],
   "source": [
    "dog = wn.synsets('dog', pos=wn.NOUN)[0]\n",
    "dn = r_node(dog)\n",
    "dn.return_animal_path()\n",
    "# print([p.parents[0].lemma for p in dn.parents])\n",
    "\n",
    "# animal\n"
   ]
  },
  {
   "cell_type": "code",
   "execution_count": 21,
   "metadata": {},
   "outputs": [
    {
     "output_type": "execute_result",
     "data": {
      "text/plain": "[[Synset('animal.n.01'),\n  Synset('chordate.n.01'),\n  Synset('vertebrate.n.01'),\n  Synset('mammal.n.01'),\n  Synset('placental.n.01'),\n  Synset('rodent.n.01'),\n  Synset('squirrel.n.01')]]"
     },
     "metadata": {},
     "execution_count": 21
    }
   ],
   "source": [
    "squirrel = wn.synsets('squirrel')[0]\n",
    "sn = r_node(squirrel)\n",
    "sn.return_animal_path()"
   ]
  },
  {
   "cell_type": "code",
   "execution_count": 22,
   "metadata": {},
   "outputs": [
    {
     "output_type": "execute_result",
     "data": {
      "text/plain": "[[Synset('animal.n.01'),\n  Synset('chordate.n.01'),\n  Synset('vertebrate.n.01'),\n  Synset('aquatic_vertebrate.n.01'),\n  Synset('fish.n.01')]]"
     },
     "metadata": {},
     "execution_count": 22
    }
   ],
   "source": [
    "fish = wn.synsets('fish', pos=wn.NOUN)[0]\n",
    "fn = r_node(fish)\n",
    "fn.return_animal_path()"
   ]
  },
  {
   "cell_type": "code",
   "execution_count": 23,
   "metadata": {},
   "outputs": [
    {
     "output_type": "execute_result",
     "data": {
      "text/plain": "[[Synset('animal.n.01'),\n  Synset('invertebrate.n.01'),\n  Synset('arthropod.n.01'),\n  Synset('insect.n.01'),\n  Synset('louse.n.01')]]"
     },
     "metadata": {},
     "execution_count": 23
    }
   ],
   "source": [
    "louse = wn.synsets('louse')[0]\n",
    "ln = r_node(louse)\n",
    "ln.return_animal_path()"
   ]
  },
  {
   "cell_type": "code",
   "execution_count": 24,
   "metadata": {},
   "outputs": [
    {
     "output_type": "execute_result",
     "data": {
      "text/plain": "[[Synset('animal.n.01'),\n  Synset('invertebrate.n.01'),\n  Synset('mollusk.n.01'),\n  Synset('bivalve.n.01'),\n  Synset('oyster.n.01')]]"
     },
     "metadata": {},
     "execution_count": 24
    }
   ],
   "source": [
    "oyster = wn.synsets('oyster')[0]\n",
    "on = r_node(oyster)\n",
    "on.return_animal_path()"
   ]
  },
  {
   "cell_type": "code",
   "execution_count": null,
   "metadata": {},
   "outputs": [],
   "source": []
  },
  {
   "cell_type": "code",
   "execution_count": null,
   "metadata": {},
   "outputs": [],
   "source": []
  },
  {
   "cell_type": "code",
   "execution_count": 25,
   "metadata": {},
   "outputs": [],
   "source": [
    "def get_animal_paths(lemma):\n",
    "    paths = []\n",
    "    node = r_node(lemma)\n",
    "    \n",
    "    \n",
    "    \n",
    "    "
   ]
  },
  {
   "cell_type": "code",
   "execution_count": 26,
   "metadata": {},
   "outputs": [
    {
     "output_type": "stream",
     "name": "stdout",
     "text": "[Synset('vertebrate.n.01')]\n[Synset('vertebrate.n.01')]\n[Synset('reptile.n.01')]\n[Synset('vertebrate.n.01')]\n[Synset('vertebrate.n.01')]\n[Synset('vertebrate.n.01')]\n[Synset('animal.n.01')]\n[Synset('invertebrate.n.01')]\n"
    }
   ],
   "source": [
    "squirrel = wn.synsets('squirrel')[0]\n",
    "weasel = wn.synsets('weasel')[1] # index 0 is a sneaky person\n",
    "squirrel.lowest_common_hypernyms(weasel)\n",
    "\n",
    "snake = wn.synsets('snake')[0]\n",
    "print(snake.lowest_common_hypernyms(weasel))\n",
    "print(snake.lowest_common_hypernyms(squirrel))\n",
    "\n",
    "turtle = wn.synsets('turtle')[1] # index 0 is a turtleneck (lmao)\n",
    "print(turtle.lowest_common_hypernyms(snake))\n",
    "print(turtle.lowest_common_hypernyms(squirrel))\n",
    "\n",
    "fish = wn.synsets('fish', pos=wn.NOUN)[0] # pos = part of speech\n",
    "swan = wn.synsets('swan')[0]\n",
    "print(fish.lowest_common_hypernyms(turtle))\n",
    "print(fish.lowest_common_hypernyms(snake))\n",
    "\n",
    "louse = wn.synsets('louse')[0]\n",
    "oyster = wn.synsets('oyster')[0]\n",
    "print(louse.lowest_common_hypernyms(snake))\n",
    "print(louse.lowest_common_hypernyms(oyster))"
   ]
  },
  {
   "cell_type": "code",
   "execution_count": 27,
   "metadata": {},
   "outputs": [],
   "source": [
    "class Node(object):\n",
    "\n",
    "    def __init__(self, value, parent):\n",
    "        self.value = value\n",
    "        self.children = []\n",
    "        if parent is not None:\n",
    "            parent.children.append(self)"
   ]
  },
  {
   "cell_type": "code",
   "execution_count": 28,
   "metadata": {},
   "outputs": [],
   "source": [
    "from print_tree import print_tree\n",
    "\n",
    "class print_custom_tree(print_tree):\n",
    "\n",
    "    def get_children(self, node):\n",
    "        return node.children\n",
    "\n",
    "    def get_node_str(self, node):\n",
    "        return str(node.value)"
   ]
  },
  {
   "cell_type": "code",
   "execution_count": 39,
   "metadata": {
    "tags": [
     "outputPrepend"
    ]
   },
   "outputs": [
    {
     "output_type": "stream",
     "name": "stdout",
     "text": "\n                         ┌saurian─lizard\n                 ┌reptile┼snake─viper\n                 │       └turtle\n                 │                       ┌wolf\n                 │                ┌canine┤\n                 │                │      └dog\n                 │      ┌carnivore┼feline─cat\n                 │      │         └musteline_mammal─weasel\n                 │      ├swine\n                 │      │      ┌mouse\n                 │      │      ├rat\n                 │      ├rodent┼squirrel\n                 │      │      ├dormouse\n                 │      │      └porcupine\n                 │      │               ┌beef\n                 │      │        ┌cattle┼ox\n                 │      │        │      └cow\n                 ├mammal┼ruminant┼sheep─ewe\n                 │      │        └goat\n                 │      ├rabbit\n                 │      │      ┌mule\n                 │      ├equine┤\n                 │      │      └horse\n                 │      └bat\n                 │                                            ┌hen\n                 │                      ┌domestic_fowl─chicken┤\n                 │                      │                     └chick\n                 │    ┌gallinaceous_bird┼game_bird─tinamou\n                 │    │                 └pigeon\n                 │    │            ┌swan\n                 │    ├aquatic_bird┼waterfowl─duck\n                 │    │            └heron─bittern\n                 │    │               ┌house_finch\n                 │    │               ├siskin\n                 │    │         ┌finch┼bunting─ortolan\n                 │    │         │     ├chaffinch\n                 │    │         │     └new_world_goldfinch\n                 │    │         ├new_world_oriole─meadowlark\n      ┌vertebrate┼bird┼passerine┼nightingale\n      │          │    │         ├crow\n      │          │    │         └swallow\n      │          │    ├cuckoo\n      │          │    └bird_of_prey─eagle\n      │          ├fish─bowfin\n      │          └amphibian─frog\n      │                      ┌crustacean─crab\n      │                      │      ┌grasshopper\n      │                      │      ├lepidopterous_insect─butterfly\n      │                      │      ├flea\n      │            ┌arthropod┼insect┼dipterous_insect─fly\n      │            │         │      ├hymenopterous_insect─ant\n      │            │         │      ├homopterous_insect─cicada\n      │            │         │      └louse\n      │            │         └arachnid─spider\n      ├invertebrate┼worm─earthworm\n      │            │       ┌cephalopod─cuttlefish\n      │            └mollusk┼bivalve─oyster\n      │                    └gastropod─snail\nanimal┤\n      │                  ┌lamb─hog\n      ├young─young_mammal┼foal─colt\n      │                  └calf\n      │     ┌mealworm\n      └larva┤\n            └caterpillar─silkworm\n"
    },
    {
     "output_type": "execute_result",
     "data": {
      "text/plain": "<__main__.print_custom_tree at 0x205064a50f0>"
     },
     "metadata": {},
     "execution_count": 39
    }
   ],
   "source": [
    "animaln = Node('animal', None)\n",
    "visited = []\n",
    "c=0\n",
    "\n",
    "for animals in simple_terms :\n",
    "    if animals not in ['calendra','bombicum','water-dog','og','turtledofe','calandra','verdaule','tellin','petit-gri','aucupio','daot','shell','hart','mutton','dragon','mussel','barbel','codfish','crayfish','pork','human']:   #not in wordnet or not in tree\n",
    "        if animals in ['weasel','hog','partridge','chicken','turtle','cuckoo']: #first meaning is not the animal\n",
    "            ani = wn.synsets(animals)[1]\n",
    "        elif animals in ['ewe','swallow']:  #have to go to third meaning to get the animal\n",
    "             ani = wn.synsets(animals)[2]  \n",
    "        else :\n",
    "            ani = wn.synsets(animals)[0]\n",
    "        an = r_node(ani)\n",
    "        lis = an.return_animal_path()[0]\n",
    "        for i in range (1,len(lis)):\n",
    "            name = lis[i].name().split('.')[0]\n",
    "            if name in ['even-toed_ungulate','odd-toed_ungulate','orthopterous_insect','chordate','placental','ungulate','thrush','oscine','leporid','lagomorph','decapod_crustacean','chordate','diapsid','anapsid','chelonian','bovid','bovine',\"anseriform_bird\",'wading_bird','columbiform_bird','corvine_bird','cuculiform_bird','aquatic_vertebrate','bony_fish','teleost_fish','ganoid','annelid','oligochaete','decapod']: #- make everything go boom also things I don't care about\n",
    "                c+=1\n",
    "                visited.append(name)\n",
    "            elif name not in visited :\n",
    "                name_prec = lis[i-1-c].name().split('.')[0]\n",
    "                c=0\n",
    "                string = name+'n'+' = Node(name,'+ name_prec+'n)'\n",
    "                exec(string)\n",
    "                visited.append(name)\n",
    "            else :\n",
    "                c=0\n",
    "\n",
    "print_custom_tree(animaln) "
   ]
  },
  {
   "cell_type": "code",
   "execution_count": null,
   "metadata": {},
   "outputs": [],
   "source": []
  }
 ],
 "metadata": {
  "kernelspec": {
   "display_name": "Python 3",
   "language": "python",
   "name": "python3"
  },
  "language_info": {
   "codemirror_mode": {
    "name": "ipython",
    "version": 3
   },
   "file_extension": ".py",
   "mimetype": "text/x-python",
   "name": "python",
   "nbconvert_exporter": "python",
   "pygments_lexer": "ipython3",
   "version": "3.7.3-final"
  }
 },
 "nbformat": 4,
 "nbformat_minor": 4
}