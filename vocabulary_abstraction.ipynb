{
 "cells": [
  {
   "cell_type": "code",
   "execution_count": 1,
   "metadata": {},
   "outputs": [],
   "source": [
    "import os\n",
    "import pandas as pd\n",
    "import nltk\n",
    "wn = nltk.corpus.wordnet\n",
    "from digital_manuscript import BnF"
   ]
  },
  {
   "cell_type": "code",
   "execution_count": 2,
   "metadata": {},
   "outputs": [
    {
     "output_type": "execute_result",
     "data": {
      "text/plain": "[Synset('dog.n.01'),\n Synset('frump.n.01'),\n Synset('dog.n.03'),\n Synset('cad.n.01'),\n Synset('frank.n.02'),\n Synset('pawl.n.01'),\n Synset('andiron.n.01')]"
     },
     "metadata": {},
     "execution_count": 2
    }
   ],
   "source": [
    "term = 'dog'\n",
    "dog = wn.synsets(term, pos=wn.NOUN)\n",
    "dog\n",
    "# hyper = dog[0].hypernyms()\n",
    "# for x in hyper:\n",
    "#     print(x, x.hypernyms())\n",
    "\n",
    "# from nltk.corpus import wordnet as wn\n",
    "# for ss in wn.synsets(term):\n",
    "#     print (ss, ss.hypernyms())"
   ]
  },
  {
   "cell_type": "code",
   "execution_count": 3,
   "metadata": {},
   "outputs": [],
   "source": [
    "animal = wn.synset('animal.n.01')\n",
    "\n",
    "class r_node:\n",
    "    def __init__(self, lemma, children=[]):\n",
    "        self.lemma = lemma\n",
    "        \n",
    "#         if lemma == animal:\n",
    "#             print(children + [lemma,])\n",
    "        self.children = children\n",
    "        self.hypernyms = lemma.hypernyms()\n",
    "        self.parents = [r_node(h, children + [lemma,]) for h in self.hypernyms]\n",
    "        \n",
    "    def return_animal_path(self):\n",
    "        if self.lemma == wn.synset('animal.n.01'):\n",
    "            return [[self.lemma,],]\n",
    "        else:\n",
    "            parent_paths = [n.return_animal_path() for n in self.parents]\n",
    "            parent_paths = [p for p in parent_paths if len(p) > 0]\n",
    "            paths = []\n",
    "            for p in parent_paths:\n",
    "                paths += p\n",
    "            for p in paths:\n",
    "                p.append(self.lemma)\n",
    "            return paths"
   ]
  },
  {
   "cell_type": "code",
   "execution_count": 4,
   "metadata": {},
   "outputs": [
    {
     "output_type": "execute_result",
     "data": {
      "text/plain": "[[Synset('animal.n.01'),\n  Synset('chordate.n.01'),\n  Synset('vertebrate.n.01'),\n  Synset('mammal.n.01'),\n  Synset('placental.n.01'),\n  Synset('carnivore.n.01'),\n  Synset('canine.n.02'),\n  Synset('dog.n.01')],\n [Synset('animal.n.01'), Synset('domestic_animal.n.01'), Synset('dog.n.01')]]"
     },
     "metadata": {},
     "execution_count": 4
    }
   ],
   "source": [
    "dog = wn.synsets('dog', pos=wn.NOUN)[0]\n",
    "dn = r_node(dog)\n",
    "dn.return_animal_path()\n",
    "# print([p.parents[0].lemma for p in dn.parents])\n",
    "\n",
    "# animal"
   ]
  },
  {
   "cell_type": "code",
   "execution_count": 5,
   "metadata": {},
   "outputs": [
    {
     "output_type": "execute_result",
     "data": {
      "text/plain": "[[Synset('animal.n.01'),\n  Synset('chordate.n.01'),\n  Synset('vertebrate.n.01'),\n  Synset('mammal.n.01'),\n  Synset('placental.n.01'),\n  Synset('rodent.n.01'),\n  Synset('squirrel.n.01')]]"
     },
     "metadata": {},
     "execution_count": 5
    }
   ],
   "source": [
    "squirrel = wn.synsets('squirrel')[0]\n",
    "sn = r_node(squirrel)\n",
    "sn.return_animal_path()"
   ]
  },
  {
   "cell_type": "code",
   "execution_count": 6,
   "metadata": {},
   "outputs": [
    {
     "output_type": "execute_result",
     "data": {
      "text/plain": "[[Synset('animal.n.01'),\n  Synset('chordate.n.01'),\n  Synset('vertebrate.n.01'),\n  Synset('aquatic_vertebrate.n.01'),\n  Synset('fish.n.01')]]"
     },
     "metadata": {},
     "execution_count": 6
    }
   ],
   "source": [
    "fish = wn.synsets('fish', pos=wn.NOUN)[0]\n",
    "fn = r_node(fish)\n",
    "fn.return_animal_path()"
   ]
  },
  {
   "cell_type": "code",
   "execution_count": 7,
   "metadata": {},
   "outputs": [
    {
     "output_type": "execute_result",
     "data": {
      "text/plain": "[[Synset('animal.n.01'),\n  Synset('invertebrate.n.01'),\n  Synset('arthropod.n.01'),\n  Synset('insect.n.01'),\n  Synset('louse.n.01')]]"
     },
     "metadata": {},
     "execution_count": 7
    }
   ],
   "source": [
    "louse = wn.synsets('louse')[0]\n",
    "ln = r_node(louse)\n",
    "ln.return_animal_path()"
   ]
  },
  {
   "cell_type": "code",
   "execution_count": 8,
   "metadata": {},
   "outputs": [
    {
     "output_type": "execute_result",
     "data": {
      "text/plain": "[[Synset('animal.n.01'),\n  Synset('invertebrate.n.01'),\n  Synset('mollusk.n.01'),\n  Synset('bivalve.n.01'),\n  Synset('oyster.n.01')]]"
     },
     "metadata": {},
     "execution_count": 8
    }
   ],
   "source": [
    "oyster = wn.synsets('oyster')[0]\n",
    "on = r_node(oyster)\n",
    "on.return_animal_path()"
   ]
  },
  {
   "cell_type": "code",
   "execution_count": 9,
   "metadata": {},
   "outputs": [
    {
     "output_type": "stream",
     "name": "stdout",
     "text": "[Synset('vertebrate.n.01')]\n[Synset('vertebrate.n.01')]\n[Synset('reptile.n.01')]\n[Synset('vertebrate.n.01')]\n[Synset('vertebrate.n.01')]\n[Synset('vertebrate.n.01')]\n[Synset('animal.n.01')]\n[Synset('invertebrate.n.01')]\n"
    }
   ],
   "source": [
    "squirrel = wn.synsets('squirrel')[0]\n",
    "weasel = wn.synsets('weasel')[1] # index 0 is a sneaky person\n",
    "squirrel.lowest_common_hypernyms(weasel)\n",
    "\n",
    "snake = wn.synsets('snake')[0]\n",
    "print(snake.lowest_common_hypernyms(weasel))\n",
    "print(snake.lowest_common_hypernyms(squirrel))\n",
    "\n",
    "turtle = wn.synsets('turtle')[1] # index 0 is a turtleneck (lmao)\n",
    "print(turtle.lowest_common_hypernyms(snake))\n",
    "print(turtle.lowest_common_hypernyms(squirrel))\n",
    "\n",
    "fish = wn.synsets('fish', pos=wn.NOUN)[0] # pos = part of speech\n",
    "swan = wn.synsets('swan')[0]\n",
    "print(fish.lowest_common_hypernyms(turtle))\n",
    "print(fish.lowest_common_hypernyms(snake))\n",
    "\n",
    "louse = wn.synsets('louse')[0]\n",
    "oyster = wn.synsets('oyster')[0]\n",
    "print(louse.lowest_common_hypernyms(snake))\n",
    "print(louse.lowest_common_hypernyms(oyster))"
   ]
  },
  {
   "cell_type": "code",
   "execution_count": 10,
   "metadata": {
    "tags": [
     "outputPrepend"
    ]
   },
   "outputs": [
    {
     "output_type": "error",
     "ename": "NameError",
     "evalue": "name 'visited' is not defined",
     "traceback": [
      "\u001b[1;31m---------------------------------------------------------------------------\u001b[0m",
      "\u001b[1;31mNameError\u001b[0m                                 Traceback (most recent call last)",
      "\u001b[1;32m<ipython-input-10-74d5046be8f8>\u001b[0m in \u001b[0;36m<module>\u001b[1;34m\u001b[0m\n\u001b[0;32m     29\u001b[0m     \u001b[1;32mfor\u001b[0m \u001b[0mitem\u001b[0m \u001b[1;32min\u001b[0m \u001b[0mliste\u001b[0m\u001b[1;33m:\u001b[0m\u001b[1;33m\u001b[0m\u001b[1;33m\u001b[0m\u001b[0m\n\u001b[0;32m     30\u001b[0m         \u001b[0mani\u001b[0m \u001b[1;33m=\u001b[0m \u001b[0mr_node\u001b[0m\u001b[1;33m(\u001b[0m\u001b[0mitem\u001b[0m\u001b[1;33m)\u001b[0m\u001b[1;33m\u001b[0m\u001b[1;33m\u001b[0m\u001b[0m\n\u001b[1;32m---> 31\u001b[1;33m         \u001b[0mvisited\u001b[0m\u001b[1;33m.\u001b[0m\u001b[0mappend\u001b[0m\u001b[1;33m(\u001b[0m\u001b[0mitem\u001b[0m\u001b[1;33m)\u001b[0m\u001b[1;33m\u001b[0m\u001b[1;33m\u001b[0m\u001b[0m\n\u001b[0m\u001b[0;32m     32\u001b[0m         \u001b[1;32mif\u001b[0m \u001b[0mani\u001b[0m\u001b[1;33m.\u001b[0m\u001b[0mreturn_animal_path\u001b[0m\u001b[1;33m(\u001b[0m\u001b[1;33m)\u001b[0m\u001b[1;33m!=\u001b[0m\u001b[1;33m[\u001b[0m\u001b[1;33m]\u001b[0m\u001b[1;33m:\u001b[0m\u001b[1;33m\u001b[0m\u001b[1;33m\u001b[0m\u001b[0m\n\u001b[0;32m     33\u001b[0m             \u001b[0msimple_terms\u001b[0m\u001b[1;33m[\u001b[0m\u001b[0mi\u001b[0m\u001b[1;33m]\u001b[0m\u001b[1;33m.\u001b[0m\u001b[0mappend\u001b[0m\u001b[1;33m(\u001b[0m\u001b[0mitem\u001b[0m\u001b[1;33m.\u001b[0m\u001b[0mdefinition\u001b[0m\u001b[1;33m(\u001b[0m\u001b[1;33m)\u001b[0m\u001b[1;33m)\u001b[0m\u001b[1;33m\u001b[0m\u001b[1;33m\u001b[0m\u001b[0m\n",
      "\u001b[1;31mNameError\u001b[0m: name 'visited' is not defined"
     ]
    }
   ],
   "source": [
    "path = os.getcwd() + '/../manuscript-object/thesaurus/animal.csv'\n",
    "\n",
    "df = pd.read_csv(path)\n",
    "terms = list(set(df['prefLabel_en']))\n",
    "simple_terms = [t for t in terms if ' ' not in t]\n",
    "simple_terms\n",
    "\n",
    "\n",
    "for i in range(len(simple_terms)) :\n",
    "    if simple_terms[i] in ['weasel','turtle','cuckoo','codfish','mussel','chicken','goldfinch','turtledofe','linnet', 'water-dog']: #first meaning is not the animal. Birds tend to have another bird as first meaning\n",
    "        if simple_terms[i]=='turtledofe':\n",
    "            simple_terms[i]='turtledove'\n",
    "        elif simple_terms[i]=='water-dog':\n",
    "            simple_terms[i]='water_dog'\n",
    "        lit = [simple_terms[i],1]\n",
    "    elif simple_terms[i] in ['ewe','swallow','crayfish','partridge','hart',\"calendra\",'calandra','hog']:#have to go to third meaning to get the animal or the right bird\n",
    "        if simple_terms[i] in [\"calendra\",'calandra']:\n",
    "            simple_terms[i]='lark'\n",
    "        lit = [simple_terms[i],2]\n",
    "    elif simple_terms[i] in ['dragon']:#the mythical creature does not have a link to animal. This is \"any of several small tropical Asian lizards capable of gliding by spreading winglike membranes on each side of the body\"\n",
    "        lit = [simple_terms[i],3]\n",
    "    else :\n",
    "        lit = [simple_terms[i],0]\n",
    "    simple_terms[i]=lit\n",
    "\n",
    "for i in range(len(simple_terms)):\n",
    "    word=simple_terms[i][0]\n",
    "    liste = wn.synsets(word,pos=wn.NOUN)\n",
    "    for item in liste:\n",
    "        ani = r_node(item)\n",
    "        visited.append(item)\n",
    "        if ani.return_animal_path()!=[]:\n",
    "            simple_terms[i].append(item.definition())\n",
    "        else : \n",
    "            simple_terms[i].append(item.definition() + \" (not in tree)\")"
   ]
  },
  {
   "cell_type": "code",
   "execution_count": 11,
   "metadata": {},
   "outputs": [],
   "source": [
    "df = pd.DataFrame(simple_terms)\n",
    "#df.to_csv('./simple_terms.csv',sep=',',index=False)"
   ]
  },
  {
   "cell_type": "code",
   "execution_count": 12,
   "metadata": {},
   "outputs": [],
   "source": [
    "class Node(object):\n",
    "\n",
    "    def __init__(self, value, parent):\n",
    "        self.value = value\n",
    "        self.children = []\n",
    "        if parent is not None:\n",
    "            parent.children.append(self)"
   ]
  },
  {
   "cell_type": "code",
   "execution_count": 13,
   "metadata": {},
   "outputs": [],
   "source": [
    "from print_tree import print_tree   #actually using package print-tree2 from pypi\n",
    "\n",
    "class print_custom_tree(print_tree):\n",
    "\n",
    "    def get_children(self, node):\n",
    "        return node.children\n",
    "\n",
    "    def get_node_str(self, node):\n",
    "        return str(node.value)"
   ]
  },
  {
   "cell_type": "code",
   "execution_count": 14,
   "metadata": {
    "tags": [
     "outputPrepend"
    ]
   },
   "outputs": [
    {
     "output_type": "stream",
     "name": "stdout",
     "text": "\n                                  ┌musteline_mammal─weasel\n                                  │      ┌wolf\n                        ┌carnivore┼canine┤\n                        │         │      └dog─hunting_dog─water_dog\n                        │         └feline─cat\n                        │      ┌squirrel\n                        │      ├dormouse\n                        ├rodent┼mouse\n                        │      ├rat\n                        │      └porcupine\n                        ├swine─hog\n                        │      ┌horse\n                        ├equine┤\n                        │      └mule\n                 ┌mammal┤\n                 │      ├primate─homo\n                 │      │        ┌sheep─ewe\n                 │      │        │      ┌cow\n                 │      │        ├cattle┼beef\n                 │      │        │      └ox\n                 │      ├ruminant┤\n                 │      │        ├goat\n                 │      │        └deer─hart\n                 │      ├bat\n                 │      └rabbit\n                 │                 ┌waterfowl─duck\n                 │    ┌aquatic_bird┼swan\n                 │    │            └heron─bittern\n                 │    │         ┌lark\n                 │    │         ├new_world_oriole─meadowlark\n                 │    │         │     ┌linnet\n                 │    │         │     ├chaffinch\n                 │    │         ├finch┼goldfinch\n                 │    │         │     ├siskin\n                 │    │         │     └bunting─ortolan\n                 │    ├passerine┤\n                 │    │         ├crow\n                 │    │         ├nightingale\n                 │    │         └swallow\n                 ├bird┼bird_of_prey─eagle\n                 │    │                 ┌game_bird─partridge\n                 │    │                 │                     ┌hen\n                 │    ├gallinaceous_bird┼domestic_fowl─chicken┤\n                 │    │                 │                     └chick\n                 │    │                 └pigeon─dove─turtledove\n                 │    └cuckoo\n                 │    ┌cod\n      ┌vertebrate┼fish┤\n      │          │    └bowfin\n      │          │       ┌snake─viper\n      │          ├reptile┼turtle\n      │          │       └saurian─lizard─dragon\n      │          └amphibian─frog\n      │     ┌mealworm\n      ├larva┤\n      │     └caterpillar─silkworm\nanimal┤\n      │                    ┌cephalopod─cuttlefish\n      │            ┌mollusk┼gastropod─snail\n      │            │       │       ┌oyster\n      │            │       └bivalve┤\n      │            │               └mussel\n      │            │                ┌lepidopterous_insect─butterfly\n      │            │                ├flea\n      │            │                ├homopterous_insect─cicada\n      │            │         ┌insect┼louse\n      │            │         │      ├grasshopper\n      │            │         │      ├hymenopterous_insect─ant\n      │            │         │      └dipterous_insect─fly\n      ├invertebrate┼arthropod┼arachnid─spider\n      │            │         │          ┌crayfish\n      │            │         └crustacean┤\n      │            │                    └crab\n      │            └worm─earthworm\n      │                  ┌calf\n      └young─young_mammal┼lamb\n                         └foal─colt\n"
    },
    {
     "output_type": "execute_result",
     "data": {
      "text/plain": "<__main__.print_custom_tree at 0x20d0be6bd08>"
     },
     "metadata": {},
     "execution_count": 14
    }
   ],
   "source": [
    "animaln = Node('animal', None)\n",
    "visited = []\n",
    "skipped=0\n",
    "path = os.getcwd() + '/../manuscript-object/simple_terms.csv'\n",
    "terms = pd.read_csv(path)\n",
    "\n",
    "for animals in terms.itertuples() :\n",
    "    if animals[1] not in ['bombicum','og','verdaule','tellin','petit-gri','aucupio','daot','shell','mutton','barbel','pork']:   #not in wordnet or not in tree\n",
    "        ani = wn.synsets(animals[1])[animals[2]]\n",
    "        an = r_node(ani)\n",
    "        lis = an.return_animal_path()[0]\n",
    "        for i in range (1,len(lis)):\n",
    "            name = lis[i].name().split('.')[0]\n",
    "            if name in ['even-toed_ungulate','odd-toed_ungulate','orthopterous_insect','chordate','placental','ungulate','thrush','oscine','leporid','lagomorph','decapod_crustacean','chordate','diapsid','anapsid','chelonian','bovid','bovine',\"anseriform_bird\",'wading_bird','columbiform_bird','corvine_bird','cuculiform_bird','aquatic_vertebrate','bony_fish','teleost_fish','gadoid','ganoid','annelid','oligochaete','decapod','soft-finned_fish','phasianid','ambystomid','red_deer','hominid','agamid', 'sporting_dog']: #- make everything go boom also things I don't care about\n",
    "                skipped+=1\n",
    "                visited.append(name)\n",
    "            elif name not in visited :\n",
    "                name_prec = lis[i-1-skipped].name().split('.')[0]\n",
    "                skipped=0\n",
    "                string = name+'n'+' = Node(name,'+ name_prec+'n)'\n",
    "                exec(string)\n",
    "                visited.append(name)\n",
    "            else :\n",
    "                skipped=0\n",
    "\n",
    "print_custom_tree(animaln) "
   ]
  },
  {
   "cell_type": "code",
   "execution_count": null,
   "metadata": {},
   "outputs": [],
   "source": []
  }
 ],
 "metadata": {
  "kernelspec": {
   "display_name": "Python 3",
   "language": "python",
   "name": "python3"
  },
  "language_info": {
   "codemirror_mode": {
    "name": "ipython",
    "version": 3
   },
   "file_extension": ".py",
   "mimetype": "text/x-python",
   "name": "python",
   "nbconvert_exporter": "python",
   "pygments_lexer": "ipython3",
   "version": "3.7.6-final"
  }
 },
 "nbformat": 4,
 "nbformat_minor": 4
}