{
 "cells": [
  {
   "cell_type": "code",
   "execution_count": 44,
   "metadata": {},
   "outputs": [],
   "source": [
    "import os\n",
    "import pandas as pd\n",
    "import nltk\n",
    "wn = nltk.corpus.wordnet\n",
    "from digital_manuscript import BnF"
   ]
  },
  {
   "cell_type": "code",
   "execution_count": 2,
   "metadata": {},
   "outputs": [
    {
     "output_type": "execute_result",
     "data": {
      "text/plain": "['weasel',\n 'aucupio',\n 'wolf',\n 'duck',\n 'squirrel',\n 'calendra',\n 'mealworm',\n 'eagle',\n 'petit-gri',\n 'codfish',\n 'pig',\n 'tellin',\n 'horse',\n 'og',\n 'calandra',\n 'human',\n 'cuttlefish',\n 'lark',\n 'butterfly',\n 'snake',\n 'mutton',\n 'dormouse',\n 'calf',\n 'turtle',\n 'pork',\n 'partridge',\n 'ewe',\n 'viper',\n 'linnet',\n 'worm',\n 'bat',\n 'chicken',\n 'spider',\n 'rabbit',\n 'frog',\n 'passerine',\n 'lamb',\n 'water-dog',\n 'toad',\n 'daot',\n 'animal',\n 'verdaule',\n 'lizard',\n 'dog',\n 'cuckoo',\n 'cow',\n 'dragon',\n 'crayfish',\n 'chaffinch',\n 'mouse',\n 'goat',\n 'barbel',\n 'fish',\n 'earthworm',\n 'bird',\n 'flea',\n 'crow',\n 'snail',\n 'crab',\n 'goldfinch',\n 'pigeon',\n 'cicada',\n 'sheep',\n 'hart',\n 'hen',\n 'nightingale',\n 'louse',\n 'grasshopper',\n 'ant',\n 'hog',\n 'fly',\n 'cat',\n 'bombicum',\n 'siskin',\n 'mule',\n 'beef',\n 'rat',\n 'swine',\n 'swan',\n 'ox',\n 'colt',\n 'silkworm',\n 'turtledofe',\n 'shell',\n 'bittern',\n 'swallow',\n 'chick',\n 'porcupine',\n 'oyster',\n 'dogfish',\n 'mussel',\n 'ortolan']"
     },
     "metadata": {},
     "execution_count": 2
    }
   ],
   "source": []
  },
  {
   "cell_type": "code",
   "execution_count": 45,
   "metadata": {},
   "outputs": [
    {
     "output_type": "execute_result",
     "data": {
      "text/plain": "[Synset('dog.n.01'),\n Synset('frump.n.01'),\n Synset('dog.n.03'),\n Synset('cad.n.01'),\n Synset('frank.n.02'),\n Synset('pawl.n.01'),\n Synset('andiron.n.01')]"
     },
     "metadata": {},
     "execution_count": 45
    }
   ],
   "source": [
    "term = 'dog'\n",
    "dog = wn.synsets(term, pos=wn.NOUN)\n",
    "dog\n",
    "# hyper = dog[0].hypernyms()\n",
    "# for x in hyper:\n",
    "#     print(x, x.hypernyms())\n",
    "\n",
    "# from nltk.corpus import wordnet as wn\n",
    "# for ss in wn.synsets(term):\n",
    "#     print (ss, ss.hypernyms())"
   ]
  },
  {
   "cell_type": "code",
   "execution_count": 46,
   "metadata": {},
   "outputs": [],
   "source": [
    "animal = wn.synset('animal.n.01')\n",
    "\n",
    "class r_node:\n",
    "    def __init__(self, lemma, children=[]):\n",
    "        self.lemma = lemma\n",
    "        \n",
    "#         if lemma == animal:\n",
    "#             print(children + [lemma,])\n",
    "        self.children = children\n",
    "        self.hypernyms = lemma.hypernyms()\n",
    "        self.parents = [r_node(h, children + [lemma,]) for h in self.hypernyms]\n",
    "        \n",
    "    def return_animal_path(self):\n",
    "        if self.lemma == wn.synset('animal.n.01'):\n",
    "            return [[self.lemma,],]\n",
    "        else:\n",
    "            parent_paths = [n.return_animal_path() for n in self.parents]\n",
    "            parent_paths = [p for p in parent_paths if len(p) > 0]\n",
    "            paths = []\n",
    "            for p in parent_paths:\n",
    "                paths += p\n",
    "            for p in paths:\n",
    "                p.append(self.lemma)\n",
    "            return paths"
   ]
  },
  {
   "cell_type": "code",
   "execution_count": 47,
   "metadata": {},
   "outputs": [
    {
     "output_type": "execute_result",
     "data": {
      "text/plain": "[[Synset('animal.n.01'),\n  Synset('chordate.n.01'),\n  Synset('vertebrate.n.01'),\n  Synset('mammal.n.01'),\n  Synset('placental.n.01'),\n  Synset('carnivore.n.01'),\n  Synset('canine.n.02'),\n  Synset('dog.n.01')],\n [Synset('animal.n.01'), Synset('domestic_animal.n.01'), Synset('dog.n.01')]]"
     },
     "metadata": {},
     "execution_count": 47
    }
   ],
   "source": [
    "dog = wn.synsets('dog', pos=wn.NOUN)[0]\n",
    "dn = r_node(dog)\n",
    "dn.return_animal_path()\n",
    "# print([p.parents[0].lemma for p in dn.parents])\n",
    "\n",
    "# animal"
   ]
  },
  {
   "cell_type": "code",
   "execution_count": 48,
   "metadata": {},
   "outputs": [
    {
     "output_type": "execute_result",
     "data": {
      "text/plain": "[[Synset('animal.n.01'),\n  Synset('chordate.n.01'),\n  Synset('vertebrate.n.01'),\n  Synset('mammal.n.01'),\n  Synset('placental.n.01'),\n  Synset('rodent.n.01'),\n  Synset('squirrel.n.01')]]"
     },
     "metadata": {},
     "execution_count": 48
    }
   ],
   "source": [
    "squirrel = wn.synsets('squirrel')[0]\n",
    "sn = r_node(squirrel)\n",
    "sn.return_animal_path()"
   ]
  },
  {
   "cell_type": "code",
   "execution_count": 49,
   "metadata": {},
   "outputs": [
    {
     "output_type": "execute_result",
     "data": {
      "text/plain": "[[Synset('animal.n.01'),\n  Synset('chordate.n.01'),\n  Synset('vertebrate.n.01'),\n  Synset('aquatic_vertebrate.n.01'),\n  Synset('fish.n.01')]]"
     },
     "metadata": {},
     "execution_count": 49
    }
   ],
   "source": [
    "fish = wn.synsets('fish', pos=wn.NOUN)[0]\n",
    "fn = r_node(fish)\n",
    "fn.return_animal_path()"
   ]
  },
  {
   "cell_type": "code",
   "execution_count": 50,
   "metadata": {},
   "outputs": [
    {
     "output_type": "execute_result",
     "data": {
      "text/plain": "[[Synset('animal.n.01'),\n  Synset('invertebrate.n.01'),\n  Synset('arthropod.n.01'),\n  Synset('insect.n.01'),\n  Synset('louse.n.01')]]"
     },
     "metadata": {},
     "execution_count": 50
    }
   ],
   "source": [
    "louse = wn.synsets('louse')[0]\n",
    "ln = r_node(louse)\n",
    "ln.return_animal_path()"
   ]
  },
  {
   "cell_type": "code",
   "execution_count": 51,
   "metadata": {},
   "outputs": [
    {
     "output_type": "execute_result",
     "data": {
      "text/plain": "[[Synset('animal.n.01'),\n  Synset('invertebrate.n.01'),\n  Synset('mollusk.n.01'),\n  Synset('bivalve.n.01'),\n  Synset('oyster.n.01')]]"
     },
     "metadata": {},
     "execution_count": 51
    }
   ],
   "source": [
    "oyster = wn.synsets('oyster')[0]\n",
    "on = r_node(oyster)\n",
    "on.return_animal_path()"
   ]
  },
  {
   "cell_type": "code",
   "execution_count": 52,
   "metadata": {},
   "outputs": [
    {
     "output_type": "stream",
     "name": "stdout",
     "text": "[Synset('vertebrate.n.01')]\n[Synset('vertebrate.n.01')]\n[Synset('reptile.n.01')]\n[Synset('vertebrate.n.01')]\n[Synset('vertebrate.n.01')]\n[Synset('vertebrate.n.01')]\n[Synset('animal.n.01')]\n[Synset('invertebrate.n.01')]\n"
    }
   ],
   "source": [
    "squirrel = wn.synsets('squirrel')[0]\n",
    "weasel = wn.synsets('weasel')[1] # index 0 is a sneaky person\n",
    "squirrel.lowest_common_hypernyms(weasel)\n",
    "\n",
    "snake = wn.synsets('snake')[0]\n",
    "print(snake.lowest_common_hypernyms(weasel))\n",
    "print(snake.lowest_common_hypernyms(squirrel))\n",
    "\n",
    "turtle = wn.synsets('turtle')[1] # index 0 is a turtleneck (lmao)\n",
    "print(turtle.lowest_common_hypernyms(snake))\n",
    "print(turtle.lowest_common_hypernyms(squirrel))\n",
    "\n",
    "fish = wn.synsets('fish', pos=wn.NOUN)[0] # pos = part of speech\n",
    "swan = wn.synsets('swan')[0]\n",
    "print(fish.lowest_common_hypernyms(turtle))\n",
    "print(fish.lowest_common_hypernyms(snake))\n",
    "\n",
    "louse = wn.synsets('louse')[0]\n",
    "oyster = wn.synsets('oyster')[0]\n",
    "print(louse.lowest_common_hypernyms(snake))\n",
    "print(louse.lowest_common_hypernyms(oyster))"
   ]
  },
  {
   "cell_type": "code",
   "execution_count": 53,
   "metadata": {
    "tags": [
     "outputPrepend"
    ]
   },
   "outputs": [
    {
     "output_type": "execute_result",
     "data": {
      "text/plain": "in in the United States worth 10 dollars (not in tree)',\n  'an emblem representing power (not in tree)'],\n ['petit-gri', 0],\n ['codfish',\n  1,\n  'lean white flesh of important North Atlantic food fish; usually baked or poached (not in tree)',\n  'major food fish of Arctic and cold-temperate waters'],\n ['pig',\n  0,\n  'domestic swine',\n  'a coarse obnoxious person (not in tree)',\n  'a person regarded as greedy and pig-like (not in tree)',\n  'uncomplimentary terms for a policeman (not in tree)',\n  'mold consisting of a bed of sand in which pig iron is cast (not in tree)',\n  'a crude block of metal (lead or iron) poured from a smelting furnace (not in tree)'],\n ['tellin', 0],\n ['horse',\n  0,\n  'solid-hoofed herbivorous quadruped domesticated since prehistoric times',\n  'a padded gymnastic apparatus on legs (not in tree)',\n  'troops trained to fight on horseback (not in tree)',\n  'a framework for holding wood that is being sawed (not in tree)',\n  'a chessman shaped to resemble the head of a horse; can move two squares horizontally and one vertically (or vice versa) (not in tree)'],\n ['og', 0],\n ['lark',\n  2,\n  'North American songbirds having a yellow breast',\n  'a songbird that lives mainly on the ground in open country; has streaky brown plumage',\n  'any of numerous predominantly Old World birds noted for their singing',\n  'any carefree episode (not in tree)'],\n ['human',\n  0,\n  'any living or extinct member of the family Hominidae characterized by superior intelligence, articulate speech, and erect carriage'],\n ['cuttlefish',\n  0,\n  'ten-armed oval-bodied cephalopod with narrow fins as long as the body and a large calcareous internal shell'],\n ['lark',\n  0,\n  'North American songbirds having a yellow breast',\n  'a songbird that lives mainly on the ground in open country; has streaky brown plumage',\n  'any of numerous predominantly Old World birds noted for their singing',\n  'any carefree episode (not in tree)'],\n ['butterfly',\n  0,\n  'diurnal insect typically having a slender body with knobbed antennae and broad colorful wings',\n  'a swimming stroke in which the arms are thrown forward together out of the water while the feet kick up and down (not in tree)'],\n ['snake',\n  0,\n  'limbless scaly elongate reptile; some are venomous',\n  'a deceitful or treacherous person (not in tree)',\n  'a tributary of the Columbia River that rises in Wyoming and flows westward; discovered in 1805 by the Lewis and Clark Expedition (not in tree)',\n  'a long faint constellation in the southern hemisphere near the equator stretching between Virgo and Cancer (not in tree)',\n  'something long, thin, and flexible that resembles a snake (not in tree)'],\n ['mutton', 0, 'meat from a mature domestic sheep (not in tree)'],\n ['dormouse',\n  0,\n  'small furry-tailed squirrel-like Old World rodent that becomes torpid in cold weather'],\n ['calf',\n  0,\n  'young of domestic cattle',\n  'the muscular back part of the shank (not in tree)',\n  'fine leather from the skin of a calf (not in tree)',\n  'young of various large placental mammals e.g. whale or giraffe or elephant or buffalo'],\n ['turtle',\n  1,\n  'a sweater or jersey with a high close-fitting collar (not in tree)',\n  'any of various aquatic and land reptiles having a bony shell and flipper-like limbs for swimming'],\n ['pork',\n  0,\n  'meat from a domestic hog or pig (not in tree)',\n  'a legislative appropriation designed to ingratiate legislators with their constituents (not in tree)'],\n ['partridge',\n  2,\n  'flesh of either quail or grouse (not in tree)',\n  'heavy-bodied small-winged South American game bird resembling a gallinaceous bird but related to the ratite birds',\n  'small Old World gallinaceous game birds',\n  'a popular North American game bird; named for its call',\n  'valued as a game bird in eastern United States and Canada'],\n ['ewe',\n  2,\n  'a member of a people living in southern Benin and Togo and southeastern Ghana (not in tree)',\n  'a Kwa language spoken by the Ewe in Ghana and Togo and Benin (not in tree)',\n  'female sheep'],\n ['viper',\n  0,\n  'venomous Old World snakes characterized by hollow venom-conducting fangs in the upper jaw'],\n ['linnet',\n  1,\n  'small finch originally of the western United States and Mexico',\n  'small Old World finch whose male has a red breast and forehead'],\n ['worm',\n  0,\n  'any of numerous relatively small elongated soft-bodied animals especially of the phyla Annelida and Chaetognatha and Nematoda and Nemertea and Platyhelminthes; also many insect larvae',\n  'a person who has a nasty or unethical character undeserving of respect (not in tree)',\n  'a software program capable of reproducing itself that can spread from one computer to the next over a network (not in tree)',\n  'screw thread on a gear with the teeth of a worm wheel or rack (not in tree)'],\n ['bat',\n  0,\n  'nocturnal mouselike mammal with forelimbs modified to form membranous wings and anatomical adaptations for echolocation by which they navigate',\n  '(baseball) a turn trying to get a hit (not in tree)',\n  'a small racket with a long handle used for playing squash (not in tree)',\n  'the club used in playing cricket (not in tree)',\n  'a club used for hitting a ball in various games (not in tree)'],\n ['chicken',\n  1,\n  'the flesh of a chicken used for food (not in tree)',\n  'a domestic fowl bred for flesh or eggs; believed to have been developed from the red jungle fowl',\n  'a person who lacks confidence, is irresolute and wishy-washy (not in tree)',\n  'a foolhardy competition; a dangerous activity that is continued until one competitor becomes afraid and stops (not in tree)'],\n ['spider',\n  0,\n  'predatory arachnid with eight legs, two poison fangs, two feelers, and usually two silk-spinning organs at the back end of the body; they spin silk to make cocoons for eggs or traps for prey',\n  'a computer program that prowls the internet looking for publicly accessible resources that can be added to a database; the database can then be searched with a search engine (not in tree)',\n  'a skillet made of cast iron (not in tree)'],\n ['rabbit',\n  0,\n  'any of various burrowing animals of the family Leporidae having long ears and short tails; some domesticated and raised for pets or food',\n  'the fur of a rabbit (not in tree)',\n  'flesh of any of various rabbits or hares (wild or domesticated) eaten as food (not in tree)'],\n ['frog',\n  0,\n  'any of various tailless stout-bodied amphibians with long hind limbs for leaping; semiaquatic and terrestrial species',\n  'a person of French descent (not in tree)',\n  'a decorative loop of braid or cord (not in tree)'],\n ['passerine',\n  0,\n  'perching birds mostly small and living near the ground with feet having 4 toes arranged to allow for gripping the perch; most are songbirds; hatchlings are helpless'],\n ['lamb',\n  0,\n  'young sheep',\n  'English essayist (1775-1834) (not in tree)',\n  'a person easily deceived or cheated (especially in financial matters) (not in tree)',\n  'a sweet innocent mild-mannered person (especially a child) (not in tree)',\n  'the flesh of a young domestic sheep eaten as food (not in tree)'],\n ['water_dog',\n  1,\n  'a person who enjoys being in or on the water (not in tree)',\n  'a dog accustomed to water and usually trained to retrieve waterfowl'],\n ['toad',\n  0,\n  'any of various tailless stout-bodied amphibians with long hind limbs for leaping; semiaquatic and terrestrial species'],\n ['daot', 0],\n ['animal', 0, 'a living organism characterized by voluntary movement'],\n ['verdaule', 0],\n ['lizard',\n  0,\n  'relatively long-bodied reptile with usually two pairs of legs and a tapering tail',\n  'a man who idles about in the lounges of hotels and bars in search of women who would support him (not in tree)'],\n ['dog',\n  0,\n  'a member of the genus Canis (probably descended from the common wolf) that has been domesticated by man since prehistoric times; occurs in many breeds',\n  'a dull unattractive unpleasant girl or woman (not in tree)',\n  'informal term for a man (not in tree)',\n  'someone who is morally reprehensible (not in tree)',\n  'a smooth-textured sausage of minced beef or pork usually smoked; often served on a bread roll (not in tree)',\n  'a hinged catch that fits into a notch of a ratchet to move a wheel forward or prevent it from moving backward (not in tree)',\n  'metal supports for logs in a fireplace (not in tree)'],\n ['cuckoo',\n  1,\n  'a man who is a stupid incompetent fool (not in tree)',\n  'any of numerous European and North American birds having pointed wings and a long tail'],\n ['cow',\n  0,\n  'female of domestic cattle:',\n  \"mature female of mammals of which the male is called `bull'\",\n  'a large unpleasant woman (not in tree)'],\n ['dragon',\n  3,\n  'a creature of Teutonic mythology; usually represented as breathing fire and having a reptilian body and sometimes wings (not in tree)',\n  'a fiercely vigilant and unpleasant woman (not in tree)',\n  'a faint constellation twisting around the north celestial pole and lying between Ursa Major and Cepheus (not in tree)',\n  'any of several small tropical Asian lizards capable of gliding by spreading winglike membranes on each side of the body'],\n ['crayfish',\n  2,\n  'warm-water lobsters without claws; those from Australia and South Africa usually marketed as frozen tails; caught also in Florida and California (not in tree)',\n  'tiny lobster-like crustaceans usually boiled briefly (not in tree)',\n  'small freshwater decapod crustacean that resembles a lobster',\n  'large edible marine crustacean having a spiny carapace but lacking the large pincers of true lobsters'],\n ['chaffinch', 0, 'small European finch with a cheerful song'],\n ['mouse',\n  0,\n  'any of numerous small rodents typically resembling diminutive rats having pointed snouts and small ears on elongated bodies with slender usually hairless tails',\n  'a swollen bruise caused by a blow to the eye (not in tree)',\n  'person who is quiet or timid (not in tree)',\n  'a hand-operated electronic device that controls the coordinates of a cursor on your computer screen as you move it around on a pad; on the bottom of the device is a ball that rolls on the surface of the pad (not in tree)'],\n ['goat',\n  0,\n  'any of numerous agile ruminants related to sheep but having a beard and straight horns',\n  'a victim of ridicule or pranks (not in tree)',\n  '(astrology) a person who is born while the sun is in Capricorn (not in tree)',\n  'the tenth sign of the zodiac; the sun is in this sign from about December 22 to January 19 (not in tree)'],\n ['barbel', 0, 'slender tactile process on the jaws of a fish (not in tree)'],\n ['fish',\n  0,\n  'any of various mostly cold-blooded aquatic vertebrates usually having scales and breathing through gills',\n  'the flesh of fish used as food (not in tree)',\n  '(astrology) a person who is born while the sun is in Pisces (not in tree)',\n  'the twelfth sign of the zodiac; the sun is in this sign from about February 19 to March 20 (not in tree)'],\n ['earthworm',\n  0,\n  'terrestrial worm that burrows into and helps aerate soil; often surfaces when the ground is cool or wet; used as bait by anglers'],\n ['bird',\n  0,\n  'warm-blooded egg-laying vertebrates characterized by feathers and forelimbs modified as wings',\n  'the flesh of a bird or fowl (wild or domestic) used as food (not in tree)',\n  'informal terms for a (young) woman (not in tree)',\n  'a cry or noise made to express displeasure or contempt (not in tree)',\n  'badminton equipment consisting of a ball of cork or rubber with a crown of feathers (not in tree)'],\n ['flea',\n  0,\n  'any wingless bloodsucking parasitic insect noted for ability to leap'],\n ['crow',\n  0,\n  'black birds having a raucous call',\n  'the cry of a cock (or an imitation of it) (not in tree)',\n  'a member of the Siouan people formerly living in eastern Montana (not in tree)',\n  'a small quadrilateral constellation in the southern hemisphere near Virgo (not in tree)',\n  'an instance of boastful talk (not in tree)',\n  'a Siouan language spoken by the Crow (not in tree)'],\n ['snail',\n  0,\n  'freshwater or marine or terrestrial gastropod mollusk usually having an external enclosing spiral shell',\n  'edible terrestrial snail usually served in the shell with a sauce of melted butter and garlic (not in tree)'],\n ['crab',\n  0,\n  'decapod having eyes on short stalks and a broad flattened carapace with a small abdomen folded under the thorax and pincers',\n  'a quarrelsome grouch (not in tree)',\n  '(astrology) a person who is born while the sun is in Cancer (not in tree)',\n  'the fourth sign of the zodiac; the sun is in this sign from about June 21 to July 22 (not in tree)',\n  'the edible flesh of any of various crabs (not in tree)',\n  'a louse that infests the pubic region of the human body',\n  'a stroke of the oar that either misses the water or digs too deeply (not in tree)'],\n ['goldfinch',\n  1,\n  'American finch whose male has yellow body plumage in summer',\n  'small European finch having a crimson face and yellow-and-black wings'],\n ['pigeon',\n  0,\n  'wild and domesticated birds having a heavy body and short legs'],\n ['cicada',\n  0,\n  'stout-bodied insect with large membranous wings; male has drum-like organs for producing a high-pitched drone'],\n ['sheep',\n  0,\n  'woolly usually horned ruminant mammal related to the goat',\n  'a timid defenseless simpleton who is readily preyed upon (not in tree)',\n  'a docile and vulnerable person who would rather follow than make an independent decision (not in tree)'],\n ['hart',\n  2,\n  'United States playwright who collaborated with George S. Kaufman (1904-1961) (not in tree)',\n  'United States lyricist who collaborated with Richard Rodgers (1895-1943) (not in tree)',\n  'a male deer, especially an adult male red deer'],\n ['hen',\n  0,\n  'adult female chicken',\n  'adult female bird',\n  'flesh of an older chicken suitable for stewing (not in tree)',\n  'female of certain aquatic animals e.g. octopus or lobster'],\n ['nightingale',\n  0,\n  'European songbird noted for its melodious nocturnal song',\n  'English nurse remembered for her work during the Crimean War (1820-1910) (not in tree)'],\n ['louse',\n  0,\n  'wingless usually flattened bloodsucking insect parasitic on warm-blooded animals',\n  'a person who has a nasty or unethical character undeserving of respect (not in tree)',\n  'any of several small insects especially aphids that feed by sucking the juices from plants',\n  'wingless insect with mouth parts adapted for biting; mostly parasitic on birds'],\n ['grasshopper',\n  0,\n  'terrestrial plant-eating insect with hind legs adapted for leaping',\n  'a cocktail made of creme de menthe and cream (sometimes with creme de cacao) (not in tree)'],\n ['ant',\n  0,\n  'social insect living in organized colonies; characteristically the males and fertile queen have wings during breeding season; wingless sterile females are the workers'],\n ['hog',\n  2,\n  'a person regarded as greedy and pig-like (not in tree)',\n  'a sheep up to the age of one year; one yet to be sheared',\n  'domestic swine'],\n ['fly',\n  0,\n  'two-winged insects characterized by active flight',\n  'flap consisting of a piece of canvas that can be drawn back to provide entrance to a tent (not in tree)',\n  'an opening in a garment that is closed by a zipper or by buttons concealed under a fold of cloth (not in tree)',\n  '(baseball) a hit that flies up in the air (not in tree)',\n  \"fisherman's lure consisting of a fishhook decorated to look like an insect (not in tree)\"],\n ['cat',\n  0,\n  'feline mammal usually having thick soft fur and no ability to roar: domestic cats; wildcats',\n  'an informal term for a youth or man (not in tree)',\n  'a spiteful woman gossip (not in tree)',\n  'the leaves of the shrub Catha edulis which are chewed like tobacco or used to make tea; has the effect of a euphoric stimulant (not in tree)',\n  'a whip with nine knotted cords (not in tree)',\n  'a large tracked vehicle that is propelled by two endless metal belts; frequently used for moving earth in construction and farm work (not in tree)',\n  'any of several large cats typically able to roar and living in the wild',\n  'a method of examining body organs by scanning them with X rays and using a computer to construct a series of cross-sectional scans along a single axis (not in tree)'],\n ['bombicum', 0],\n ['siskin', 0, 'small yellow-and-black Eurasian finch with a sharp beak'],\n ['mule',\n  0,\n  'hybrid offspring of a male donkey and a female horse; usually sterile',\n  'a slipper that has no fitting around the heel (not in tree)'],\n ['beef',\n  0,\n  'cattle that are reared for their meat',\n  'meat from an adult domestic bovine (not in tree)',\n  'informal terms for objecting (not in tree)'],\n ['rat',\n  0,\n  'any of various long-tailed rodents similar to but larger than a mouse',\n  'someone who works (or provides workers) during a strike (not in tree)',\n  'a person who is deemed to be despicable or contemptible (not in tree)',\n  'one who reveals confidential information in return for money (not in tree)',\n  \"a pad (usually made of hair) worn as part of a woman's coiffure (not in tree)\"],\n ['swine', 0, 'stout-bodied short-legged omnivorous animals'],\n ['swan',\n  0,\n  'stately heavy-bodied aquatic bird with very long neck and usually white plumage as adult'],\n ['ox',\n  0,\n  'an adult castrated bull of the genus Bos; especially Bos taurus',\n  'any of various wild bovines especially of the genera Bos or closely related Bibos'],\n ['colt',\n  0,\n  'a young male horse under the age of four',\n  'a kind of revolver (not in tree)'],\n ['silkworm',\n  0,\n  'the commercially bred hairless white caterpillar of the domestic silkworm moth which spins a cocoon that can be processed to yield silk fiber; the principal source of commercial silk',\n  'larva of a saturniid moth; spins a large amount of strong silk in constructing its cocoon'],\n ['turtledove',\n  1,\n  'small Australian dove',\n  'any of several Old World wild doves'],\n ['shell',\n  0,\n  'ammunition consisting of a cylindrical metal casing containing an explosive charge and a projectile; fired from a large gun (not in tree)',\n  'the material that forms the hard outer covering of many animals (not in tree)',\n  'hard outer covering or case of certain organisms such as arthropods and turtles (not in tree)',\n  'the hard usually fibrous outer layer of some fruits especially nuts (not in tree)',\n  \"the exterior covering of a bird's egg (not in tree)\",\n  'a rigid covering that envelops an object (not in tree)',\n  'a very light narrow racing boat (not in tree)',\n  'the housing or outer covering of something (not in tree)',\n  'a metal sheathing of uniform thickness (such as the shield attached to an artillery piece to protect the gunners) (not in tree)',\n  'the hard largely calcareous covering of a mollusc or a brachiopod (not in tree)'],\n ['bittern',\n  0,\n  'relatively small compact tawny-brown heron with nocturnal habits and a booming cry; found in marshes'],\n ['swallow',\n  2,\n  'a small amount of liquid food (not in tree)',\n  'the act of swallowing (not in tree)',\n  'small long-winged songbird noted for swift graceful flight and the regularity of its migrations'],\n ['chick',\n  0,\n  'young bird especially of domestic fowl',\n  'informal terms for a (young) woman (not in tree)'],\n ['porcupine',\n  0,\n  'relatively large rodents with sharp erectile bristles mingled with the fur'],\n ['oyster',\n  0,\n  'marine mollusks having a rough irregular shell; found on the sea bed mostly in coastal waters',\n  'edible body of any of numerous oysters (not in tree)',\n  'a small muscle on each side of the back of a fowl (not in tree)'],\n ['dogfish',\n  0,\n  'primitive long-bodied carnivorous freshwater fish with a very long dorsal fin; found in sluggish waters of North America',\n  'any of several small sharks'],\n ['mussel',\n  1,\n  'black marine bivalves usually steamed in wine (not in tree)',\n  'marine or freshwater bivalve mollusk that lives attached to rocks etc.'],\n ['ortolan', 0, 'brownish Old World bunting often eaten as a delicacy']]"
     },
     "metadata": {},
     "execution_count": 53
    }
   ],
   "source": [
    "path = os.getcwd() + '/../manuscript-object/thesaurus/animal.csv'\n",
    "\n",
    "df = pd.read_csv(path)\n",
    "terms = list(set(df['prefLabel_en']))\n",
    "simple_terms = [t for t in terms if ' ' not in t]\n",
    "simple_terms\n",
    "\n",
    "\n",
    "for i in range(len(simple_terms)) :\n",
    "    if simple_terms[i] in ['weasel','turtle','cuckoo','codfish','mussel','chicken','goldfinch','turtledofe','linnet', 'water-dog']: #first meaning is not the animal. Birds tend to have another bird as first meaning\n",
    "        if simple_terms[i]=='turtledofe':\n",
    "            simple_terms[i]='turtledove'\n",
    "        elif simple_terms[i]=='water-dog':\n",
    "            simple_terms[i]='water_dog'\n",
    "        lit = [simple_terms[i],1]\n",
    "    elif simple_terms[i] in ['ewe','swallow','crayfish','partridge','hart',\"calendra\",'calandra','hog']:#have to go to third meaning to get the animal or the right bird\n",
    "        if simple_terms[i] in [\"calendra\",'calandra']:\n",
    "            simple_terms[i]='lark'\n",
    "        lit = [simple_terms[i],2]\n",
    "    elif simple_terms[i] in ['dragon']:#the mythical creature does not have a link to animal. This is \"any of several small tropical Asian lizards capable of gliding by spreading winglike membranes on each side of the body\"\n",
    "        lit = [simple_terms[i],3]\n",
    "    else :\n",
    "        lit = [simple_terms[i],0]\n",
    "    simple_terms[i]=lit\n",
    "\n",
    "for i in range(len(simple_terms)):\n",
    "    word=simple_terms[i][0]\n",
    "    liste = wn.synsets(word,pos=wn.NOUN)\n",
    "    for item in liste:\n",
    "        ani = r_node(item)\n",
    "        visited.append(item)\n",
    "        if ani.return_animal_path()!=[]:\n",
    "            simple_terms[i].append(item.definition())\n",
    "        else : \n",
    "            simple_terms[i].append(item.definition() + \" (not in tree)\")\n",
    "simple_terms"
   ]
  },
  {
   "cell_type": "code",
   "execution_count": 58,
   "metadata": {},
   "outputs": [],
   "source": [
    "df = pd.DataFrame(simple_terms)\n",
    "df.to_csv('./simple_terms.csv',sep=',',index=False)"
   ]
  },
  {
   "cell_type": "code",
   "execution_count": 55,
   "metadata": {},
   "outputs": [],
   "source": [
    "class Node(object):\n",
    "\n",
    "    def __init__(self, value, parent):\n",
    "        self.value = value\n",
    "        self.children = []\n",
    "        if parent is not None:\n",
    "            parent.children.append(self)"
   ]
  },
  {
   "cell_type": "code",
   "execution_count": 56,
   "metadata": {},
   "outputs": [],
   "source": [
    "from print_tree import print_tree   #actually using package print-tree2 from pypi\n",
    "\n",
    "class print_custom_tree(print_tree):\n",
    "\n",
    "    def get_children(self, node):\n",
    "        return node.children\n",
    "\n",
    "    def get_node_str(self, node):\n",
    "        return str(node.value)"
   ]
  },
  {
   "cell_type": "code",
   "execution_count": 57,
   "metadata": {
    "tags": [
     "outputPrepend"
    ]
   },
   "outputs": [
    {
     "output_type": "stream",
     "name": "stdout",
     "text": "\n                                  ┌musteline_mammal─weasel\n                                  │      ┌wolf\n                        ┌carnivore┼canine┤\n                        │         │      └dog─hunting_dog─water_dog\n                        │         └feline─cat\n                        │      ┌squirrel\n                        │      ├dormouse\n                        ├rodent┼mouse\n                        │      ├rat\n                        │      └porcupine\n                        ├swine─hog\n                        │      ┌horse\n                        ├equine┤\n                        │      └mule\n                 ┌mammal┤\n                 │      ├primate─homo\n                 │      │        ┌sheep─ewe\n                 │      │        │      ┌cow\n                 │      │        ├cattle┼beef\n                 │      │        │      └ox\n                 │      ├ruminant┤\n                 │      │        ├goat\n                 │      │        └deer─hart\n                 │      ├bat\n                 │      └rabbit\n                 │                 ┌waterfowl─duck\n                 │    ┌aquatic_bird┼swan\n                 │    │            └heron─bittern\n                 │    │         ┌lark\n                 │    │         ├new_world_oriole─meadowlark\n                 │    │         │     ┌linnet\n                 │    │         │     ├chaffinch\n                 │    │         ├finch┼goldfinch\n                 │    │         │     ├siskin\n                 │    │         │     └bunting─ortolan\n                 │    ├passerine┤\n                 │    │         ├crow\n                 │    │         ├nightingale\n                 │    │         └swallow\n                 ├bird┼bird_of_prey─eagle\n                 │    │                 ┌game_bird─partridge\n                 │    │                 │                     ┌hen\n                 │    ├gallinaceous_bird┼domestic_fowl─chicken┤\n                 │    │                 │                     └chick\n                 │    │                 └pigeon─dove─turtledove\n                 │    └cuckoo\n                 │    ┌cod\n      ┌vertebrate┼fish┤\n      │          │    └bowfin\n      │          │       ┌snake─viper\n      │          ├reptile┼turtle\n      │          │       └saurian─lizard─dragon\n      │          └amphibian─frog\n      │     ┌mealworm\n      ├larva┤\n      │     └caterpillar─silkworm\nanimal┤\n      │                    ┌cephalopod─cuttlefish\n      │            ┌mollusk┼gastropod─snail\n      │            │       │       ┌oyster\n      │            │       └bivalve┤\n      │            │               └mussel\n      │            │                ┌lepidopterous_insect─butterfly\n      │            │                ├flea\n      │            │                ├homopterous_insect─cicada\n      │            │         ┌insect┼louse\n      │            │         │      ├grasshopper\n      │            │         │      ├hymenopterous_insect─ant\n      │            │         │      └dipterous_insect─fly\n      ├invertebrate┼arthropod┼arachnid─spider\n      │            │         │          ┌crayfish\n      │            │         └crustacean┤\n      │            │                    └crab\n      │            └worm─earthworm\n      │                  ┌calf\n      └young─young_mammal┼lamb\n                         └foal─colt\n"
    },
    {
     "output_type": "execute_result",
     "data": {
      "text/plain": "<__main__.print_custom_tree at 0x1f4a7b84348>"
     },
     "metadata": {},
     "execution_count": 57
    }
   ],
   "source": [
    "animaln = Node('animal', None)\n",
    "visited = []\n",
    "skipped=0\n",
    "\n",
    "for animals in simple_terms :\n",
    "    if animals[0] not in ['bombicum','og','verdaule','tellin','petit-gri','aucupio','daot','shell','mutton','barbel','pork']:   #not in wordnet or not in tree\n",
    "        ani = wn.synsets(animals[0])[animals[1]]\n",
    "        an = r_node(ani)\n",
    "        lis = an.return_animal_path()[0]\n",
    "        for i in range (1,len(lis)):\n",
    "            name = lis[i].name().split('.')[0]\n",
    "            if name in ['even-toed_ungulate','odd-toed_ungulate','orthopterous_insect','chordate','placental','ungulate','thrush','oscine','leporid','lagomorph','decapod_crustacean','chordate','diapsid','anapsid','chelonian','bovid','bovine',\"anseriform_bird\",'wading_bird','columbiform_bird','corvine_bird','cuculiform_bird','aquatic_vertebrate','bony_fish','teleost_fish','gadoid','ganoid','annelid','oligochaete','decapod','soft-finned_fish','phasianid','ambystomid','red_deer','hominid','agamid', 'sporting_dog']: #- make everything go boom also things I don't care about\n",
    "                skipped+=1\n",
    "                visited.append(name)\n",
    "            elif name not in visited :\n",
    "                name_prec = lis[i-1-skipped].name().split('.')[0]\n",
    "                skipped=0\n",
    "                string = name+'n'+' = Node(name,'+ name_prec+'n)'\n",
    "                exec(string)\n",
    "                visited.append(name)\n",
    "            else :\n",
    "                skipped=0\n",
    "\n",
    "print_custom_tree(animaln) "
   ]
  },
  {
   "cell_type": "code",
   "execution_count": null,
   "metadata": {},
   "outputs": [],
   "source": []
  }
 ],
 "metadata": {
  "kernelspec": {
   "display_name": "Python 3",
   "language": "python",
   "name": "python3"
  },
  "language_info": {
   "codemirror_mode": {
    "name": "ipython",
    "version": 3
   },
   "file_extension": ".py",
   "mimetype": "text/x-python",
   "name": "python",
   "nbconvert_exporter": "python",
   "pygments_lexer": "ipython3",
   "version": "3.7.6-final"
  }
 },
 "nbformat": 4,
 "nbformat_minor": 4
}