{
 "cells": [
  {
   "cell_type": "code",
   "execution_count": 1,
   "metadata": {},
   "outputs": [
    {
     "output_type": "stream",
     "name": "stderr",
     "text": "[nltk_data] Downloading package wordnet to\n[nltk_data]     C:\\Users\\danac\\AppData\\Roaming\\nltk_data...\n[nltk_data]   Package wordnet is already up-to-date!\n"
    }
   ],
   "source": [
    "import os\n",
    "import pandas as pd\n",
    "import nltk\n",
    "nltk.download('wordnet')\n",
    "wn = nltk.corpus.wordnet\n",
    "from digital_manuscript import BnF"
   ]
  },
  {
   "cell_type": "code",
   "execution_count": 2,
   "metadata": {},
   "outputs": [
    {
     "output_type": "execute_result",
     "data": {
      "text/plain": "['petit-gri',\n 'squirrel',\n 'cat',\n 'turtle',\n 'daot',\n 'ortolan',\n 'mealworm',\n 'turtledofe',\n 'mutton',\n 'crab',\n 'weasel',\n 'earthworm',\n 'duck',\n 'silkworm',\n 'codfish',\n 'spider',\n 'louse',\n 'passerine',\n 'cicada',\n 'fish',\n 'mussel',\n 'water-dog',\n 'bittern',\n 'pig',\n 'oyster',\n 'lamb',\n 'viper',\n 'nightingale',\n 'beef',\n 'snake',\n 'sheep',\n 'pigeon',\n 'hog',\n 'cow',\n 'eagle',\n 'colt',\n 'lizard',\n 'snail',\n 'wolf',\n 'goldfinch',\n 'rabbit',\n 'mule',\n 'porcupine',\n 'partridge',\n 'lark',\n 'toad',\n 'ant',\n 'horse',\n 'dogfish',\n 'calandra',\n 'frog',\n 'barbel',\n 'grasshopper',\n 'cuckoo',\n 'flea',\n 'hen',\n 'fly',\n 'dog',\n 'rat',\n 'og',\n 'shell',\n 'swine',\n 'calendra',\n 'hart',\n 'calf',\n 'butterfly',\n 'ox',\n 'mouse',\n 'crayfish',\n 'aucupio',\n 'verdaule',\n 'bombicum',\n 'siskin',\n 'bird',\n 'chaffinch',\n 'pork',\n 'dragon',\n 'chicken',\n 'chick',\n 'dormouse',\n 'worm',\n 'cuttlefish',\n 'linnet',\n 'tellin',\n 'swallow',\n 'bat',\n 'swan',\n 'goat',\n 'ewe',\n 'crow',\n 'animal',\n 'human']"
     },
     "metadata": {},
     "execution_count": 2
    }
   ],
   "source": [
    "path = os.getcwd() + '/../manuscript-object/thesaurus/animal.csv'\n",
    "\n",
    "df = pd.read_csv(path)\n",
    "terms = list(set(df['prefLabel_en']))\n",
    "simple_terms = [t for t in terms if ' ' not in t]\n",
    "simple_terms"
   ]
  },
  {
   "cell_type": "code",
   "execution_count": 3,
   "metadata": {},
   "outputs": [
    {
     "output_type": "execute_result",
     "data": {
      "text/plain": "[Synset('dog.n.01'),\n Synset('frump.n.01'),\n Synset('dog.n.03'),\n Synset('cad.n.01'),\n Synset('frank.n.02'),\n Synset('pawl.n.01'),\n Synset('andiron.n.01')]"
     },
     "metadata": {},
     "execution_count": 3
    }
   ],
   "source": [
    "term = 'dog'\n",
    "dog = wn.synsets(term, pos=wn.NOUN)\n",
    "dog\n",
    "# hyper = dog[0].hypernyms()\n",
    "# for x in hyper:\n",
    "#     print(x, x.hypernyms())\n",
    "\n",
    "# from nltk.corpus import wordnet as wn\n",
    "# for ss in wn.synsets(term):\n",
    "#     print (ss, ss.hypernyms())"
   ]
  },
  {
   "cell_type": "code",
   "execution_count": 4,
   "metadata": {},
   "outputs": [],
   "source": [
    "animal = wn.synset('animal.n.01')\n",
    "\n",
    "class r_node:\n",
    "    def __init__(self, lemma, children=[]):\n",
    "        self.lemma = lemma\n",
    "        \n",
    "#         if lemma == animal:\n",
    "#             print(children + [lemma,])\n",
    "        \n",
    "        self.children = children\n",
    "        self.hypernyms = lemma.hypernyms()\n",
    "        self.parents = [r_node(h, children + [lemma,]) for h in self.hypernyms]\n",
    "        \n",
    "    def return_animal_path(self):\n",
    "        if self.lemma == animal:\n",
    "            return [[self.lemma,],]\n",
    "        else:\n",
    "            parent_paths = [n.return_animal_path() for n in self.parents]\n",
    "            parent_paths = [p for p in parent_paths if len(p) > 0]\n",
    "            paths = []\n",
    "            for p in parent_paths:\n",
    "                paths += p\n",
    "            for p in paths:\n",
    "                p.append(self.lemma)\n",
    "            return paths"
   ]
  },
  {
   "cell_type": "code",
   "execution_count": 5,
   "metadata": {},
   "outputs": [
    {
     "output_type": "execute_result",
     "data": {
      "text/plain": "[[Synset('animal.n.01'),\n  Synset('chordate.n.01'),\n  Synset('vertebrate.n.01'),\n  Synset('mammal.n.01'),\n  Synset('placental.n.01'),\n  Synset('carnivore.n.01'),\n  Synset('canine.n.02'),\n  Synset('dog.n.01')],\n [Synset('animal.n.01'), Synset('domestic_animal.n.01'), Synset('dog.n.01')]]"
     },
     "metadata": {},
     "execution_count": 5
    }
   ],
   "source": [
    "dog = wn.synsets('dog', pos=wn.NOUN)[0]\n",
    "dn = r_node(dog)\n",
    "dn.return_animal_path()\n",
    "# print([p.parents[0].lemma for p in dn.parents])\n",
    "\n",
    "# animal\n"
   ]
  },
  {
   "cell_type": "code",
   "execution_count": 6,
   "metadata": {},
   "outputs": [
    {
     "output_type": "execute_result",
     "data": {
      "text/plain": "[[Synset('animal.n.01'),\n  Synset('chordate.n.01'),\n  Synset('vertebrate.n.01'),\n  Synset('mammal.n.01'),\n  Synset('placental.n.01'),\n  Synset('rodent.n.01'),\n  Synset('squirrel.n.01')]]"
     },
     "metadata": {},
     "execution_count": 6
    }
   ],
   "source": [
    "squirrel = wn.synsets('squirrel')[0]\n",
    "sn = r_node(squirrel)\n",
    "sn.return_animal_path()"
   ]
  },
  {
   "cell_type": "code",
   "execution_count": 7,
   "metadata": {},
   "outputs": [
    {
     "output_type": "execute_result",
     "data": {
      "text/plain": "[[Synset('animal.n.01'),\n  Synset('chordate.n.01'),\n  Synset('vertebrate.n.01'),\n  Synset('aquatic_vertebrate.n.01'),\n  Synset('fish.n.01')]]"
     },
     "metadata": {},
     "execution_count": 7
    }
   ],
   "source": [
    "fish = wn.synsets('fish', pos=wn.NOUN)[0]\n",
    "fn = r_node(fish)\n",
    "fn.return_animal_path()"
   ]
  },
  {
   "cell_type": "code",
   "execution_count": 8,
   "metadata": {},
   "outputs": [
    {
     "output_type": "execute_result",
     "data": {
      "text/plain": "[[Synset('animal.n.01'),\n  Synset('invertebrate.n.01'),\n  Synset('arthropod.n.01'),\n  Synset('insect.n.01'),\n  Synset('louse.n.01')]]"
     },
     "metadata": {},
     "execution_count": 8
    }
   ],
   "source": [
    "louse = wn.synsets('louse')[0]\n",
    "ln = r_node(louse)\n",
    "ln.return_animal_path()"
   ]
  },
  {
   "cell_type": "code",
   "execution_count": 9,
   "metadata": {},
   "outputs": [
    {
     "output_type": "execute_result",
     "data": {
      "text/plain": "[[Synset('animal.n.01'),\n  Synset('invertebrate.n.01'),\n  Synset('mollusk.n.01'),\n  Synset('bivalve.n.01'),\n  Synset('oyster.n.01')]]"
     },
     "metadata": {},
     "execution_count": 9
    }
   ],
   "source": [
    "oyster = wn.synsets('oyster')[0]\n",
    "on = r_node(oyster)\n",
    "on.return_animal_path()"
   ]
  },
  {
   "cell_type": "code",
   "execution_count": null,
   "metadata": {},
   "outputs": [],
   "source": []
  },
  {
   "cell_type": "code",
   "execution_count": null,
   "metadata": {},
   "outputs": [],
   "source": []
  },
  {
   "cell_type": "code",
   "execution_count": 10,
   "metadata": {},
   "outputs": [],
   "source": [
    "def get_animal_paths(lemma):\n",
    "    paths = []\n",
    "    node = r_node(lemma)\n",
    "    \n",
    "    \n",
    "    \n",
    "    "
   ]
  },
  {
   "cell_type": "code",
   "execution_count": 11,
   "metadata": {},
   "outputs": [
    {
     "output_type": "stream",
     "name": "stdout",
     "text": "[Synset('vertebrate.n.01')]\n[Synset('vertebrate.n.01')]\n[Synset('reptile.n.01')]\n[Synset('vertebrate.n.01')]\n[Synset('vertebrate.n.01')]\n[Synset('vertebrate.n.01')]\n[Synset('animal.n.01')]\n[Synset('invertebrate.n.01')]\n"
    }
   ],
   "source": [
    "squirrel = wn.synsets('squirrel')[0]\n",
    "weasel = wn.synsets('weasel')[1] # index 0 is a sneaky person\n",
    "squirrel.lowest_common_hypernyms(weasel)\n",
    "\n",
    "snake = wn.synsets('snake')[0]\n",
    "print(snake.lowest_common_hypernyms(weasel))\n",
    "print(snake.lowest_common_hypernyms(squirrel))\n",
    "\n",
    "turtle = wn.synsets('turtle')[1] # index 0 is a turtleneck (lmao)\n",
    "print(turtle.lowest_common_hypernyms(snake))\n",
    "print(turtle.lowest_common_hypernyms(squirrel))\n",
    "\n",
    "fish = wn.synsets('fish', pos=wn.NOUN)[0] # pos = part of speech\n",
    "swan = wn.synsets('swan')[0]\n",
    "print(fish.lowest_common_hypernyms(turtle))\n",
    "print(fish.lowest_common_hypernyms(snake))\n",
    "\n",
    "louse = wn.synsets('louse')[0]\n",
    "oyster = wn.synsets('oyster')[0]\n",
    "print(louse.lowest_common_hypernyms(snake))\n",
    "print(louse.lowest_common_hypernyms(oyster))"
   ]
  },
  {
   "cell_type": "code",
   "execution_count": 12,
   "metadata": {},
   "outputs": [],
   "source": [
    "class Node(object):\n",
    "\n",
    "    def __init__(self, value, parent):\n",
    "        self.value = value\n",
    "        self.children = []\n",
    "        if parent is not None:\n",
    "            parent.children.append(self)"
   ]
  },
  {
   "cell_type": "code",
   "execution_count": 13,
   "metadata": {},
   "outputs": [],
   "source": [
    "from print_tree import print_tree   #actually using package print-tree2 from pypi\n",
    "\n",
    "class print_custom_tree(print_tree):\n",
    "\n",
    "    def get_children(self, node):\n",
    "        return node.children\n",
    "\n",
    "    def get_node_str(self, node):\n",
    "        return str(node.value)"
   ]
  },
  {
   "cell_type": "code",
   "execution_count": 15,
   "metadata": {
    "tags": [
     "outputPrepend"
    ]
   },
   "outputs": [
    {
     "output_type": "stream",
     "name": "stdout",
     "text": "any of several small tropical Asian lizards capable of gliding by spreading winglike membranes on each side of the body\n\n                               ┌squirrel\n                               ├porcupine\n                        ┌rodent┼rat\n                        │      ├mouse\n                        │      └dormouse\n                        │         ┌feline─cat\n                        ├carnivore┼musteline_mammal─weasel\n                        │         │      ┌wolf\n                        │         └canine┤\n                        │                └dog\n                        ├swine─hog\n                        │               ┌beef\n                        │        ┌cattle┼cow\n                        │        │      └ox\n                        │        ├sheep─ewe\n                        ├ruminant┤\n                        │        ├deer─hart\n                        │        └goat\n                 ┌mammal┤\n                 │      ├rabbit\n                 │      │      ┌mule\n                 │      ├equine┤\n                 │      │      └horse\n                 │      ├bat\n                 │      └primate─homo\n                 │       ┌turtle\n                 ├reptile┼snake─viper\n                 │       └saurian─lizard─dragon\n                 │                    ┌bunting─ortolan\n                 │                    ├goldfinch\n                 │              ┌finch┼siskin\n                 │              │     ├chaffinch\n                 │              │     └linnet\n                 │              ├nightingale\n                 │    ┌passerine┼lark\n                 │    │         ├swallow\n                 │    │         └crow\n                 │    │                 ┌pigeon─dove─turtledove\n                 │    ├gallinaceous_bird┼game_bird─partridge\n                 │    │                 │                     ┌hen\n                 │    │                 └domestic_fowl─chicken┤\n                 │    │                                       └chick\n                 │    │            ┌waterfowl─duck\n      ┌vertebrate┼bird┼aquatic_bird┼heron─bittern\n      │          │    │            └swan\n      │          │    ├bird_of_prey─eagle\n      │          │    └cuckoo\n      │          │    ┌cod\n      │          ├fish┤\n      │          │    └bowfin\n      │          │         ┌salamander─waterdog\n      │          └amphibian┤\n      │                    └frog\n      │     ┌mealworm\n      ├larva┤\n      │     └caterpillar─silkworm\nanimal┤\n      │                                 ┌crab\n      │                      ┌crustacean┤\n      │                      │          └crayfish\n      │            ┌arthropod┼arachnid─spider\n      │            │         │      ┌louse\n      │            │         │      ├homopterous_insect─cicada\n      │            │         │      ├hymenopterous_insect─ant\n      │            │         └insect┼grasshopper\n      │            │                ├flea\n      │            │                ├dipterous_insect─fly\n      │            │                └lepidopterous_insect─butterfly\n      ├invertebrate┼worm─earthworm\n      │            │               ┌mussel\n      │            │       ┌bivalve┤\n      │            │       │       └oyster\n      │            └mollusk┼gastropod─snail\n      │                    └cephalopod─cuttlefish\n      │                  ┌lamb\n      └young─young_mammal┼foal─colt\n                         └calf\n"
    },
    {
     "output_type": "execute_result",
     "data": {
      "text/plain": "<__main__.print_custom_tree at 0x1cdfae8b0f0>"
     },
     "metadata": {},
     "execution_count": 15
    }
   ],
   "source": [
    "animaln = Node('animal', None)\n",
    "visited = []\n",
    "skipped=0\n",
    "\n",
    "for animals in simple_terms :\n",
    "    if animals not in ['bombicum','og','verdaule','tellin','petit-gri','aucupio','daot','shell','mutton','barbel','pork']:   #not in wordnet or not in tree\n",
    "        if animals == \"turtledofe\" :\n",
    "            animals = \"turtledove\"\n",
    "        elif animals in [\"calendra\",'calandra']:\n",
    "            animals = 'lark'\n",
    "        elif animals == 'water-dog':\n",
    "            animals = 'waterdog'\n",
    "        if animals in ['weasel','hog','turtle','cuckoo','codfish','mussel','chicken','goldfinch','turtledove','linnet']: #first meaning is not the animal. Birds tend to have another bird as first meaning\n",
    "            ani = wn.synsets(animals)[1]\n",
    "        elif animals in ['ewe','swallow','crayfish','partridge','hart','lark']:  #have to go to third meaning to get the animal\n",
    "             ani = wn.synsets(animals)[2]\n",
    "        elif animals in ['dragon']: #the mythical creature does not have a link to animal. This is \"any of several small tropical Asian lizards capable of gliding by spreading winglike membranes on each side of the body\"\n",
    "            ani = wn.synsets(animals)[3]\n",
    "            print(ani.definition())\n",
    "        else :\n",
    "            ani = wn.synsets(animals)[0]\n",
    "        an = r_node(ani)\n",
    "        lis = an.return_animal_path()[0]\n",
    "        for i in range (1,len(lis)):\n",
    "            name = lis[i].name().split('.')[0]\n",
    "            if name in ['even-toed_ungulate','odd-toed_ungulate','orthopterous_insect','chordate','placental','ungulate','thrush','oscine','leporid','lagomorph','decapod_crustacean','chordate','diapsid','anapsid','chelonian','bovid','bovine',\"anseriform_bird\",'wading_bird','columbiform_bird','corvine_bird','cuculiform_bird','aquatic_vertebrate','bony_fish','teleost_fish','gadoid','ganoid','annelid','oligochaete','decapod','soft-finned_fish','phasianid','ambystomid','red_deer','hominid','agamid']: #- make everything go boom also things I don't care about\n",
    "                skipped+=1\n",
    "                visited.append(name)\n",
    "            elif name not in visited :\n",
    "                name_prec = lis[i-1-skipped].name().split('.')[0]\n",
    "                skipped=0\n",
    "                string = name+'n'+' = Node(name,'+ name_prec+'n)'\n",
    "                exec(string)\n",
    "                visited.append(name)\n",
    "            else :\n",
    "                skipped=0\n",
    "\n",
    "print_custom_tree(animaln) "
   ]
  },
  {
   "cell_type": "code",
   "execution_count": null,
   "metadata": {},
   "outputs": [],
   "source": []
  }
 ],
 "metadata": {
  "kernelspec": {
   "display_name": "Python 3",
   "language": "python",
   "name": "python3"
  },
  "language_info": {
   "codemirror_mode": {
    "name": "ipython",
    "version": 3
   },
   "file_extension": ".py",
   "mimetype": "text/x-python",
   "name": "python",
   "nbconvert_exporter": "python",
   "pygments_lexer": "ipython3",
   "version": "3.7.3-final"
  }
 },
 "nbformat": 4,
 "nbformat_minor": 4
}