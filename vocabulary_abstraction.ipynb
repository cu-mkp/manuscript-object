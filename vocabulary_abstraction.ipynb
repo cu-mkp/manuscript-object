{
 "cells": [
  {
   "cell_type": "code",
   "execution_count": 1,
   "metadata": {},
   "outputs": [],
   "source": [
    "import os\n",
    "import pandas as pd\n",
    "import nltk\n",
    "wn = nltk.corpus.wordnet\n",
    "from digital_manuscript import BnF"
   ]
  },
  {
   "cell_type": "code",
   "execution_count": 2,
   "metadata": {},
   "outputs": [
    {
     "output_type": "execute_result",
     "data": {
      "text/plain": "[Synset('entity.n.01')]"
     },
     "metadata": {},
     "execution_count": 2
    }
   ],
   "source": [
    "term = 'physical_entity'\n",
    "dog = wn.synsets(term, pos=wn.NOUN)\n",
    "dog[0].hypernyms()\n",
    "# hyper = dog[0].hypernyms()\n",
    "# for x in hyper:\n",
    "#     print(x, x.hypernyms())\n",
    "\n",
    "# from nltk.corpus import wordnet as wn\n",
    "# for ss in wn.synsets(term):\n",
    "#     print (ss, ss.hypernyms())"
   ]
  },
  {
   "cell_type": "code",
   "execution_count": 3,
   "metadata": {},
   "outputs": [],
   "source": [
    "animal = wn.synset('animal.n.01')\n",
    "artifact = wn.synset('artifact.n.01')\n",
    "\n",
    "class r_node:\n",
    "    def __init__(self, lemma, children=[]):\n",
    "        self.lemma = lemma\n",
    "        \n",
    "#         if lemma == animal:\n",
    "#             print(children + [lemma,])\n",
    "        self.children = children\n",
    "        self.hypernyms = lemma.hypernyms()\n",
    "        self.parents = [r_node(h, children + [lemma,]) for h in self.hypernyms]\n",
    "        \n",
    "    def return_animal_path(self):\n",
    "        if self.lemma == wn.synset('animal.n.01'):\n",
    "            return [[self.lemma,],]\n",
    "        else:\n",
    "            parent_paths = [n.return_animal_path() for n in self.parents]\n",
    "            parent_paths = [p for p in parent_paths if len(p) > 0]\n",
    "            paths = []\n",
    "            for p in parent_paths:\n",
    "                paths += p\n",
    "            for p in paths:\n",
    "                p.append(self.lemma)\n",
    "            return paths\n",
    "\n",
    "    def return_concept_path(self):\n",
    "        if self.lemma == wn.synset('entity.n.01'):\n",
    "            return [[self.lemma,],]\n",
    "        else:\n",
    "            parent_paths = [n.return_concept_path() for n in self.parents]\n",
    "            parent_paths = [p for p in parent_paths if len(p) > 0]\n",
    "            paths = []\n",
    "            for p in parent_paths:\n",
    "                paths += p\n",
    "            for p in paths:\n",
    "                p.append(self.lemma)\n",
    "            return paths"
   ]
  },
  {
   "cell_type": "code",
   "execution_count": 4,
   "metadata": {},
   "outputs": [
    {
     "output_type": "execute_result",
     "data": {
      "text/plain": "[[Synset('entity.n.01'),\n  Synset('physical_entity.n.01'),\n  Synset('object.n.01'),\n  Synset('whole.n.02'),\n  Synset('artifact.n.01'),\n  Synset('fabric.n.01')]]"
     },
     "metadata": {},
     "execution_count": 4
    }
   ],
   "source": [
    "dog = wn.synsets('cloth', pos=wn.NOUN)[0]\n",
    "dn = r_node(dog)\n",
    "dn.return_concept_path()\n",
    "# print([p.parents[0].lemma for p in dn.parents])\n",
    "\n",
    "# animal"
   ]
  },
  {
   "cell_type": "code",
   "execution_count": 5,
   "metadata": {},
   "outputs": [
    {
     "output_type": "execute_result",
     "data": {
      "text/plain": "[[Synset('animal.n.01'),\n  Synset('chordate.n.01'),\n  Synset('vertebrate.n.01'),\n  Synset('mammal.n.01'),\n  Synset('placental.n.01'),\n  Synset('rodent.n.01'),\n  Synset('squirrel.n.01')]]"
     },
     "metadata": {},
     "execution_count": 5
    }
   ],
   "source": [
    "squirrel = wn.synsets('squirrel')[0]\n",
    "sn = r_node(squirrel)\n",
    "sn.return_animal_path()"
   ]
  },
  {
   "cell_type": "code",
   "execution_count": 6,
   "metadata": {},
   "outputs": [
    {
     "output_type": "execute_result",
     "data": {
      "text/plain": "[[Synset('animal.n.01'),\n  Synset('chordate.n.01'),\n  Synset('vertebrate.n.01'),\n  Synset('aquatic_vertebrate.n.01'),\n  Synset('fish.n.01')]]"
     },
     "metadata": {},
     "execution_count": 6
    }
   ],
   "source": [
    "fish = wn.synsets('fish', pos=wn.NOUN)[0]\n",
    "fn = r_node(fish)\n",
    "fn.return_animal_path()"
   ]
  },
  {
   "cell_type": "code",
   "execution_count": 7,
   "metadata": {},
   "outputs": [
    {
     "output_type": "execute_result",
     "data": {
      "text/plain": "[[Synset('animal.n.01'),\n  Synset('invertebrate.n.01'),\n  Synset('arthropod.n.01'),\n  Synset('insect.n.01'),\n  Synset('louse.n.01')]]"
     },
     "metadata": {},
     "execution_count": 7
    }
   ],
   "source": [
    "louse = wn.synsets('louse')[0]\n",
    "ln = r_node(louse)\n",
    "ln.return_animal_path()"
   ]
  },
  {
   "cell_type": "code",
   "execution_count": 8,
   "metadata": {},
   "outputs": [
    {
     "output_type": "execute_result",
     "data": {
      "text/plain": "[[Synset('animal.n.01'),\n  Synset('invertebrate.n.01'),\n  Synset('mollusk.n.01'),\n  Synset('bivalve.n.01'),\n  Synset('oyster.n.01')]]"
     },
     "metadata": {},
     "execution_count": 8
    }
   ],
   "source": [
    "oyster = wn.synsets('oyster')[0]\n",
    "on = r_node(oyster)\n",
    "on.return_animal_path()"
   ]
  },
  {
   "cell_type": "code",
   "execution_count": 9,
   "metadata": {},
   "outputs": [
    {
     "output_type": "stream",
     "name": "stdout",
     "text": "[Synset('vertebrate.n.01')]\n[Synset('vertebrate.n.01')]\n[Synset('reptile.n.01')]\n[Synset('vertebrate.n.01')]\n[Synset('vertebrate.n.01')]\n[Synset('vertebrate.n.01')]\n[Synset('animal.n.01')]\n[Synset('invertebrate.n.01')]\n"
    }
   ],
   "source": [
    "squirrel = wn.synsets('squirrel')[0]\n",
    "weasel = wn.synsets('weasel')[1] # index 0 is a sneaky person\n",
    "squirrel.lowest_common_hypernyms(weasel)\n",
    "\n",
    "snake = wn.synsets('snake')[0]\n",
    "print(snake.lowest_common_hypernyms(weasel))\n",
    "print(snake.lowest_common_hypernyms(squirrel))\n",
    "\n",
    "turtle = wn.synsets('turtle')[1] # index 0 is a turtleneck (lmao)\n",
    "print(turtle.lowest_common_hypernyms(snake))\n",
    "print(turtle.lowest_common_hypernyms(squirrel))\n",
    "\n",
    "fish = wn.synsets('fish', pos=wn.NOUN)[0] # pos = part of speech\n",
    "swan = wn.synsets('swan')[0]\n",
    "print(fish.lowest_common_hypernyms(turtle))\n",
    "print(fish.lowest_common_hypernyms(snake))\n",
    "\n",
    "louse = wn.synsets('louse')[0]\n",
    "oyster = wn.synsets('oyster')[0]\n",
    "print(louse.lowest_common_hypernyms(snake))\n",
    "print(louse.lowest_common_hypernyms(oyster))"
   ]
  },
  {
   "cell_type": "code",
   "execution_count": 10,
   "metadata": {
    "tags": [
     "outputPrepend"
    ]
   },
   "outputs": [],
   "source": [
    "path = os.getcwd() + '/../manuscript-object/thesaurus/animal.csv'\n",
    "\n",
    "df = pd.read_csv(path)\n",
    "terms = list(set(df['prefLabel_en']))\n",
    "simple_terms = [t for t in terms if ' ' not in t]\n",
    "simple_terms\n",
    "\n",
    "\n",
    "for i in range(len(simple_terms)) :\n",
    "    if simple_terms[i] in ['weasel','turtle','cuckoo','codfish','mussel','chicken','goldfinch','turtledofe','linnet', 'water-dog']: #first meaning is not the animal. Birds tend to have another bird as first meaning\n",
    "        if simple_terms[i]=='turtledofe':\n",
    "            simple_terms[i]='turtledove'\n",
    "        elif simple_terms[i]=='water-dog':\n",
    "            simple_terms[i]='water_dog'\n",
    "        lit = [simple_terms[i],1]\n",
    "    elif simple_terms[i] in ['ewe','swallow','crayfish','partridge','hart',\"calendra\",'calandra','hog']:#have to go to third meaning to get the animal or the right bird\n",
    "        if simple_terms[i] in [\"calendra\",'calandra']:\n",
    "            simple_terms[i]='lark'\n",
    "        lit = [simple_terms[i],2]\n",
    "    elif simple_terms[i] in ['dragon']:#the mythical creature does not have a link to animal. This is \"any of several small tropical Asian lizards capable of gliding by spreading winglike membranes on each side of the body\"\n",
    "        lit = [simple_terms[i],3]\n",
    "    else :\n",
    "        lit = [simple_terms[i],0]\n",
    "    simple_terms[i]=lit\n",
    "\n",
    "for i in range(len(simple_terms)):\n",
    "    word=simple_terms[i][0]\n",
    "    liste = wn.synsets(word,pos=wn.NOUN)\n",
    "    for item in liste:\n",
    "        ani = r_node(item)\n",
    "        if ani.return_animal_path()!=[]:\n",
    "            simple_terms[i].append(item.definition())\n",
    "        else : \n",
    "            simple_terms[i].append(item.definition() + \" (not in tree)\")"
   ]
  },
  {
   "cell_type": "code",
   "execution_count": 11,
   "metadata": {},
   "outputs": [],
   "source": [
    "df = pd.DataFrame(simple_terms)\n",
    "#df.to_csv('./simple_terms.csv',sep=',',index=False)"
   ]
  },
  {
   "cell_type": "code",
   "execution_count": 12,
   "metadata": {},
   "outputs": [],
   "source": [
    "class Node(object):\n",
    "\n",
    "    def __init__(self, value, parent):\n",
    "        self.value = value\n",
    "        self.children = []\n",
    "        if parent is not None:\n",
    "            parent.children.append(self)"
   ]
  },
  {
   "cell_type": "code",
   "execution_count": 13,
   "metadata": {},
   "outputs": [],
   "source": [
    "from print_tree import print_tree   #actually using package print-tree2 from pypi\n",
    "\n",
    "class print_custom_tree(print_tree):\n",
    "\n",
    "    def get_children(self, node):\n",
    "        return node.children\n",
    "\n",
    "    def get_node_str(self, node):\n",
    "        return str(node.value)"
   ]
  },
  {
   "cell_type": "code",
   "execution_count": 14,
   "metadata": {
    "tags": [
     "outputPrepend"
    ]
   },
   "outputs": [
    {
     "output_type": "stream",
     "name": "stdout",
     "text": "\n                                  ┌musteline_mammal─weasel\n                                  │      ┌wolf\n                        ┌carnivore┼canine┤\n                        │         │      └dog─hunting_dog─water_dog\n                        │         └feline─cat\n                        │      ┌squirrel\n                        │      ├dormouse\n                        ├rodent┼mouse\n                        │      ├rat\n                        │      └porcupine\n                        ├swine─hog\n                        │      ┌horse\n                        ├equine┤\n                        │      └mule\n                 ┌mammal┤\n                 │      ├primate─homo\n                 │      │        ┌sheep─ewe\n                 │      │        │      ┌cow\n                 │      │        ├cattle┼beef\n                 │      │        │      └ox\n                 │      ├ruminant┤\n                 │      │        ├goat\n                 │      │        └deer─hart\n                 │      ├bat\n                 │      └rabbit\n                 │                 ┌waterfowl─duck\n                 │    ┌aquatic_bird┼swan\n                 │    │            └heron─bittern\n                 │    │         ┌lark\n                 │    │         ├new_world_oriole─meadowlark\n                 │    │         │     ┌linnet\n                 │    │         │     ├chaffinch\n                 │    │         ├finch┼goldfinch\n                 │    │         │     ├siskin\n                 │    │         │     └bunting─ortolan\n                 │    ├passerine┤\n                 │    │         ├crow\n                 │    │         ├nightingale\n                 │    │         └swallow\n                 ├bird┼bird_of_prey─eagle\n                 │    │                 ┌game_bird─partridge\n                 │    │                 │                     ┌hen\n                 │    ├gallinaceous_bird┼domestic_fowl─chicken┤\n                 │    │                 │                     └chick\n                 │    │                 └pigeon─dove─turtledove\n                 │    └cuckoo\n                 │    ┌cod\n      ┌vertebrate┼fish┤\n      │          │    └bowfin\n      │          │       ┌snake─viper\n      │          ├reptile┼turtle\n      │          │       └saurian─lizard─dragon\n      │          └amphibian─frog\n      │     ┌mealworm\n      ├larva┤\n      │     └caterpillar─silkworm\nanimal┤\n      │                    ┌cephalopod─cuttlefish\n      │            ┌mollusk┼gastropod─snail\n      │            │       │       ┌oyster\n      │            │       └bivalve┤\n      │            │               └mussel\n      │            │                ┌lepidopterous_insect─butterfly\n      │            │                ├flea\n      │            │                ├homopterous_insect─cicada\n      │            │         ┌insect┼louse\n      │            │         │      ├grasshopper\n      │            │         │      ├hymenopterous_insect─ant\n      │            │         │      └dipterous_insect─fly\n      ├invertebrate┼arthropod┼arachnid─spider\n      │            │         │          ┌crayfish\n      │            │         └crustacean┤\n      │            │                    └crab\n      │            └worm─earthworm\n      │                  ┌calf\n      └young─young_mammal┼lamb\n                         └foal─colt\n"
    },
    {
     "output_type": "execute_result",
     "data": {
      "text/plain": "<__main__.print_custom_tree at 0x242c60e5b48>"
     },
     "metadata": {},
     "execution_count": 14
    }
   ],
   "source": [
    "animaln = Node('animal', None)\n",
    "visited = []\n",
    "skipped=0\n",
    "path = os.getcwd() + '/../manuscript-object/simple_terms.csv'\n",
    "words = pd.read_csv(path)\n",
    "\n",
    "for animals in words.itertuples() :\n",
    "    if animals[1] not in ['bombicum','og','verdaule','tellin','petit-gri','aucupio','daot','shell','mutton','barbel','pork']:   #not in wordnet or not in tree\n",
    "        ani = wn.synsets(animals[1])[animals[2]]\n",
    "        an = r_node(ani)\n",
    "        lis = an.return_animal_path()[0]\n",
    "        for i in range (1,len(lis)):\n",
    "            name = lis[i].name().split('.')[0]\n",
    "            if name in ['even-toed_ungulate','odd-toed_ungulate','orthopterous_insect','chordate','placental','ungulate','thrush','oscine','leporid','lagomorph','decapod_crustacean','chordate','diapsid','anapsid','chelonian','bovid','bovine',\"anseriform_bird\",'wading_bird','columbiform_bird','corvine_bird','cuculiform_bird','aquatic_vertebrate','bony_fish','teleost_fish','gadoid','ganoid','annelid','oligochaete','decapod','soft-finned_fish','phasianid','ambystomid','red_deer','hominid','agamid', 'sporting_dog']: #- make everything go boom also things I don't care about\n",
    "                skipped+=1\n",
    "                visited.append(name)\n",
    "            elif name not in visited :\n",
    "                name_prec = lis[i-1-skipped].name().split('.')[0]\n",
    "                skipped=0\n",
    "                string = name+'n'+' = Node(name,'+ name_prec+'n)'\n",
    "                exec(string)\n",
    "                visited.append(name)\n",
    "            else :\n",
    "                skipped=0\n",
    "\n",
    "print_custom_tree(animaln) "
   ]
  },
  {
   "cell_type": "code",
   "execution_count": 15,
   "metadata": {
    "collapsed": true,
    "tags": [
     "outputPrepend"
    ]
   },
   "outputs": [
    {
     "output_type": "execute_result",
     "data": {
      "text/plain": "['white',\n 'parchment',\n 'maple',\n 'toadstone',\n 'grease',\n 'acetum',\n 'brouillamini',\n 'mastic',\n 'calamine',\n 'leady',\n 'broth',\n 'bronze',\n 'marrow',\n 'real',\n 'mine',\n 'alabaster',\n 'sap',\n 'unleaded',\n 'millet',\n 'juice',\n 'regulu',\n 'sludge',\n 'gold',\n 'stucco',\n 'wicker',\n 'emerald',\n 'cement',\n 'gilt',\n 'earthenware',\n 'weld',\n 'gilded',\n 'felinder',\n 'coral',\n 'sol',\n 'drug',\n 'spirit',\n '☀',\n 'enamel',\n 'quicksilver',\n 'spider',\n 'wheat',\n 'brine',\n 'crocum',\n 'mercury',\n 'paste',\n 'verdigri',\n 'crayon',\n '☿',\n 'blood',\n 'lye',\n 'litharge',\n 'husk',\n 'crust',\n 'flint',\n 'velvet',\n 'madder',\n 'stagno',\n 'mushroom',\n 'glass',\n 'k',\n 'sublimate',\n 'canva',\n 'emery',\n 'mealworm',\n 'silver',\n 'plate',\n 'sand',\n 'hay',\n 'string',\n 'otnegra',\n 'ivory',\n 'lampblack',\n 'earth',\n 'hazelnut',\n 'sapphire',\n 'niello',\n 'jet',\n 'alum',\n 'electrum',\n 'foil',\n 'zedoary',\n 'umber',\n 'nastiness',\n 'cornaline',\n 'saltwort',\n 'isinglass',\n 'rowan,',\n 'solfo',\n 'colophony',\n 'vermiculari',\n 'solle',\n 'wallwort',\n 'tripoli',\n 'pulverin',\n 'bran',\n 'charcoaled',\n 'luting',\n 'aurea',\n 'damascening',\n 'sheet',\n 'stone',\n 'sandarac',\n 'pearled',\n 'cheese',\n 'porkfat',\n 'magnet',\n 'rose',\n 'antimony',\n 'rainwater',\n 'eggshell',\n 'horn',\n 'paint',\n 'metal',\n 'barley',\n 'columbine',\n 'sorrel',\n 'almond',\n 'purple',\n 'tint',\n 'nail',\n 'walnut',\n 'woollen',\n 'rocaille',\n 'grain',\n 'stavesacre',\n 'plaster',\n 'crêpe',\n 'gravel',\n 'tartar',\n 'lute',\n 'silvered',\n 'ember',\n 'resin',\n 'iron',\n 'saliva',\n 'rust',\n 'chimolée',\n 'black',\n 'pebble',\n 'shell',\n 'cocon',\n 'onion',\n 'ebony',\n 'enilanroc',\n 'honey',\n 'diamond',\n 'marble',\n 'ceruse',\n 'orange',\n 'scale',\n 'letter',\n 'musk',\n 'tisane',\n 'theriac',\n 'pumouse',\n 'perfume',\n 'linen',\n 'cardboard',\n 'fustet',\n 'willow',\n 'pansy',\n 'cotton',\n 'bullitoyre',\n 'opiate',\n 'salpeter',\n 'ferri',\n 'fruit',\n 'impurity',\n 'salt',\n 'gum',\n 'quill',\n 'beef',\n 'billon',\n 'thread',\n 'dough',\n 'saltpeter',\n 'pea',\n 'mold',\n 'soap',\n 'foam',\n 'oily',\n 'steel',\n 'arsenic',\n 'stuf',\n 'amber',\n 'incense',\n 'felin',\n 'verd',\n 'firestone',\n 'beryl',\n 'cornflower',\n 'fresil',\n 'paper',\n 'aloe',\n 'plumb',\n 'arum',\n 'flin',\n 'syrup',\n 'puffball',\n 'couleur',\n 'horsetail',\n 'tuf',\n 'crystal',\n 'oil',\n 'tile',\n 'garlic',\n 'boxwood',\n 'carton',\n 'ambergri',\n 'ink',\n 'lake',\n 'enameling',\n 'yolk',\n 'preserf',\n 'heather',\n 'residue',\n 'chestnut',\n 'gild',\n 'gemstone',\n 'filing',\n 'ruby',\n 'seed',\n 'smoked',\n 'leather',\n 'sandalwood',\n 'bituman',\n 'quarton',\n 'ointment',\n 'flesh',\n 'brazilwood',\n 'wire',\n 'sap-green',\n 'muddying',\n 'saltwater',\n 'galipot',\n 'flour',\n 'sumac',\n 'glued',\n 'enamelling',\n 'luted',\n 'nailhead',\n 'rye',\n 'foodstuff',\n 'wool',\n 'slate',\n 'tinned',\n 'fume',\n 'straw',\n 'asphaltum',\n 'azure',\n 'wine',\n 'plant',\n 'glueing',\n 'copper',\n 'buckram',\n '☾',\n 'cinnamon',\n 'mineral',\n 'trwood',\n 'taffetum',\n 'aquaforti',\n 'egg',\n 'turpentine',\n 'aspalte',\n 'skin',\n 'rosette',\n 'bullitoire',\n 'enamelled',\n 'piss',\n 'bile',\n 'gilding',\n 'air',\n 'cristallin',\n 'animal',\n 'prele',\n 'arabic',\n 'cork',\n 'agate',\n 'porphyry',\n 'marcasite',\n 'arrabeic',\n 'metalline',\n 'distemper',\n 'arene',\n 'metallic',\n 'horsehair',\n 'cendrée',\n 'clofe',\n 'cloth',\n 'florey',\n 'ocher',\n 'rock',\n 'rooftile',\n 'lard',\n 'starch',\n 'ironware',\n 'earthen',\n 'soil',\n 'ash',\n 'vermilion',\n 'salty',\n 'waxed',\n 'cinnabar',\n 'lime',\n 'satin',\n 'flower',\n 'dyed',\n 'civet',\n 'fir',\n 'hair',\n 'ammoniac',\n 'amalgam',\n 'ardide',\n 'arène',\n 'butter',\n 'amethyst',\n 'minium',\n 'jasper',\n 'thunderstone',\n 'jacinth',\n 'grai',\n 'ball',\n 'dust',\n 'urine',\n 'topaz',\n 'floret',\n 'sandiver',\n '☼',\n 'storax',\n 'vermillion',\n 'wooden',\n 'dye',\n 'quicklime',\n 'silk',\n 'mud',\n 'colla',\n 'wadding',\n 'oiled',\n 'tinsel',\n 'putty',\n 'milk',\n 'salted',\n 'wood',\n 'cocon.',\n 'shale',\n 'wax',\n 'feather',\n 'grime',\n 'soldering',\n 'dittany',\n 'camphor',\n 'garnet',\n 'lucertum',\n 'manure',\n 'coryal',\n 'cochineal',\n 'slaver',\n 'solder',\n 'milla',\n 'aspalt',\n 'earthworm',\n 'rutum',\n 'aceto',\n 'ferlin',\n 'mustard',\n 'purpurina',\n 'bistre',\n 'bone',\n 'blue',\n 'soot',\n 'fat',\n 'germ',\n 'orpiment',\n 'water',\n 'smoke',\n 'tow',\n 'whitening',\n 'massicot',\n 'ferret-silk',\n 'fenugreek',\n 'wisp',\n 'or',\n 'glair',\n 'borax',\n 'taffeta',\n 'ore',\n 'rapeseed',\n 'pearl',\n 'charcoal',\n 'center',\n 'taffer',\n 'verjuice',\n 'mortar',\n 'horsedung',\n 'sulfur',\n 'card',\n 'rosin',\n 'pith',\n 'soldered',\n 'coppera',\n 'grè',\n 'glue',\n 'debri',\n 'ferro',\n 'persicaire',\n 'tragacanth',\n 'magistra',\n 'realgar',\n 'eau-de-vie',\n 'tallow',\n 'lead',\n 'spat',\n 'tin',\n 'maplewood',\n 'clay',\n 'rosemary',\n 'candle',\n 'porfidio',\n 'bean',\n 'enameled',\n '☉',\n 'melli',\n 'vetro',\n 'sanguine',\n 'dung',\n 'basan',\n 'vinegar',\n 'sugar',\n 'elm',\n 'touchstone',\n 'felt',\n 'benzoin',\n 'spalt',\n 'phlegm',\n 'rue',\n 'bloodstone',\n 'goumiche',\n 'bronzing',\n 'vitriol',\n 'saffron',\n 'leaded',\n 'varnish',\n 'powder',\n 'cambric',\n 'talcum',\n 'bread',\n 'manganese',\n 'pitch',\n 'incarnadine',\n 'latten',\n 'vernice',\n 'oiling',\n 'tinning',\n 'chalk',\n 'food',\n 'verdet',\n 'down',\n 'jelly',\n 'potin',\n 'grinding',\n 'dyeing',\n 'sheep',\n 'batture',\n 'bole',\n 'cord',\n '♀',\n 'aquamarine',\n 'crimson',\n 'vermeille',\n 'filth',\n 'antho',\n 'tincture',\n 'brick',\n 'dirt',\n 'earwax']"
     },
     "metadata": {},
     "execution_count": 15
    }
   ],
   "source": [
    "path = os.getcwd() + '/../manuscript-object/thesaurus/material.csv'\n",
    "\n",
    "df = pd.read_csv(path)\n",
    "terms = list(set(df['prefLabel_en']))\n",
    "terms.pop(0)\n",
    "simple_terms = [t for t in terms if ' ' not in t]\n",
    "simple_terms\n",
    "\n"
   ]
  },
  {
   "cell_type": "code",
   "execution_count": 24,
   "metadata": {
    "scrolled": false,
    "tags": [
     "outputPrepend"
    ]
   },
   "outputs": [
    {
     "output_type": "stream",
     "name": "stdout",
     "text": "         │    ┌limestone─rottenstone\n                      │                         │    ├gravel\n                      │                         │    ├pebble\n                      │                         ├rock┤\n                      │                         │    ├marble\n                      │                         │    ├igneous_rock─porphyry\n                      │                         │    └sedimentary_rock─shale\n                      │                         ├sealing_material─lute\n                      │                ┌material┤\n                      │                │        ├atom─grinding\n                      │                │        │                         ┌white_lead\n                      │                │        │                 ┌pigment┼bister\n                      │                │        │                 │       └bole\n                      │                │        ├coloring_material┼dye─cochineal\n                      │                │        │                 └tincture\n                      │                │        ├packing_material─cardboard\n                      │                │        │                               ┌cotton\n                      │                │        ├fiber─natural_fiber─plant_fiber┤\n                      │                │        │                               └straw\n                      │                │        │     ┌impurity\n                      │                │        ├waste┤\n                      │                │        │     │          ┌urine\n                      │                │        │     └body_waste┤\n                      │                │        │                └fecal_matter─droppings\n                      │                │        ├foam\n                      │                │        │                     ┌ammoniac\n                      │                │        ├discharge─exudate─gum┤\n                      │                │        │                     └tragacanth\n                      │                │        ├particulate─dust\n                      │                │        └adhesive_material\n                      │                │              ┌dish─soup─broth\n                      │                │    ┌nutriment┤\n                      │                │    │         │      ┌sweet─chewing_gum\n                      │                │    │         └dainty┤\n                      │                │    │                └gelatin\n                      │                │    │         ┌juice─digestive_juice─bile\n                      │                │    │         │             ┌cheese\n                      │                │    │         ├dairy_product┤\n                      │                │    │         │             └butter\n                      │                │    │         │     ┌barley\n                      │                │    │         ├grain┤\n                      │                │    │         │     └rye\n                      │                │    │         │                              ┌honey\n                      │                │    │         │                   ┌sweetening┼syrup\n                      │                │    │         │                   │          └sugar\n                      │                │    │         │          ┌flavorer┤\n                      │                │    │         │          │        └condiment─vinegar\n                      │                │    ├foodstuff┼ingredient┤\n                      │                │    │         │          └egg_yolk\n                      │                │    │         ├concoction─dough\n                      │                │    │         ├flour\n                      │                │    │         └egg\n                      │                │    ├feed─fodder─hay\n                      │                ├food┤\n                      │                │    │        ┌tea─herb_tea─tisane\n                      │                │    ├beverage┼alcohol─wine\n                      │                │    │        └milk\n                      │                │    │                        ┌pea\n                      │                │    ├produce─vegetable─legume┤\n                      │                │    │                        └bean\n                      │                │    └baked_goods─bread\n                      │                │             ┌bronze\n                      │                │             ├electrum\n                      │                │             ├steel\n                      │                │       ┌alloy┤\n                      │                │       │     ├amalgam\n                      │                │       │     ├solder\n                      │                │       │     └brass─latten\n                      │                │       ├solution─sap\n                      │      ┌substance┼mixture┤\n                      │      │         │       ├colloid─sol\n                      │      │         │       └composition─paste\n                      │      │         │                                 ┌noble_metal─gold\n                      │      │         │                                 ├mercury\n                      │      │         │                                 ├aluminum─alum\n                      │      │         │                                 ├antimony\n                      │      │         │                ┌metallic_element┤\n                      │      │         │                │                ├iron\n                      │      │         │                │                ├lead\n                      │      │         │                │                ├tin\n                      │      │         │                │                └manganese\n                      │      │         │                │      ┌carbon_black\n                      │      │         ├chemical_element┼carbon┤\n                      │      │         │                │      └charcoal\n                      │      │         │                └sulfur\n                      │      │         │              ┌solid_body_substance─enamel\n                      │      │         └body_substance┤\n                      │      │                        │                     ┌blood\n                      │      │                        └liquid_body_substance┤\n                      │      │                                              │         ┌saliva\n                      │      │                                              └secretion┼musk\n                      │      │                                                        └mucus─phlegm\n                      │      │     ┌precipitate─sludge\n                      │      │     │                      ┌coral\n                      │      │     ├crystal─gem─opaque_gem┤\n                      │      │     │                      └jasper\n                      │      ├solid┤\n                      │      │     ├glass\n                      │      │     └powder\n                      ├matter┤\n                      │      │         ┌sublimate\n                      │      │     ┌gas┤\n                      │      │     │   └air\n                      │      ├fluid┤\n                      │      │     └liquid─ink\n                      │      └residue─ash\n                      │                                       ┌oil─grease\n                      │                                 ┌lipid┼fat─lard\n                      │                                 │     └wax─cerumen\n                      │     ┌unit─molecule─macromolecule┤\n                      │     │                           └carbohydrate─polysaccharide─starch─arum\n                      │     │                                       ┌marrow\n                      │     │                     ┌connective_tissue┤\n                      │     │                     │                 └bone\n                      │     │              ┌tissue┤\n                      │     │              │      └flesh\n                      │     │    ┌body_part┤\n                      │     │    │         │         ┌horny_structure─nail\n                      │     │    │         │         ├building_complex\n                      │     │    │         └structure┤\n                      │     │    │                   ├germ\n                      │     │    │                   │    ┌room─operating_room\n                      │     │    │                   └area┤\n                      │     │    │                        └center\n      ┌physical_entity┼thing┼part┤\n      │               │     │    │        ┌ember\n      │               │     │    └fragment┤\n      │               │     │             └filing\n      │               │     └body_of_water─lake\n      │               │                     ┌excavation─mine\n      │               │                     │                 ┌covering_material─plaster─stucco\n      │               │                     │                 │               ┌putty\n      │               │                     ├building_material┼concrete─cement┤\n      │               │                     │                 │               └glue\n      │               │                     │                 └brick\n      │               │                     │                ┌gilt\n      │               │                     │        ┌coating┼paint─distemper\n      │               │                     │        │       └varnish\n      │               │                     │        ├shell\n      │               │                     ├covering┤\n      │               │                     │        │    ┌cinnamon\n      │               │                     │        ├bark┤\n      │               │                     │        │    └cork\n      │               │                     │        │             ┌skin\n      │               │                     │        └body_covering┤\n      │               │                     │                      └hair\n      │               │                     │                         ┌utensil─earthenware\n      │               │                     │               ┌implement┤\n      │               │                     │               │         │                 ┌crayon\n      │               │                     │               │         └writing_implement┤\n      │               │                     │               │                           └pen─quill\n      │               │                     │               │         ┌sports_equipment─base─home_plate\n      │               │                     │               ├equipment┤\n      │               │                     │               │         └game_equipment─ball\n      │               │                     │               ├conveyance─vehicle─craft─aircraft─airplane─jet\n      │               │                     │               │      ┌magnet\n      │               │                     │               ├device┼noisemaker─horn\n      │               │                     │               │      └lamp─candle\n      │               │                     │               │        ┌ammunition\n      │               │                     ├instrumentality┼weaponry┤\n      │               │                     │               │        └armament─artillery─cannon─mortar\n      │               │                     │               ├toiletry─perfume\n      │               │                     │               │         ┌mold\n      │               │                     │               ├container┤\n      │               │                     │               │         └box─carton\n      │               │                     │               ├connection─attachment─ligament─wire\n      │               │                     │               └hardware\n      │               │                     │      ┌velvet\n      │               │                     │      ├wool\n      │               │                     │      ├linen\n      │               │                     │      ├buckram\n      │               │                     │      ├metallic\n      │               │                     ├fabric┤\n      │               │                     │      ├satin\n      │               │                     │      ├silk\n      │               │                     │      ├taffeta\n      │               │                     │      ├felt\n      │               │                     │      └cambric\n      │               │                     │         ┌string\n      │               │                     ├line─cord┤\n      │               │                     │         └thread\n      │               │            ┌artifact┤\n      │               │            │        ├sheet─foil\n      │               │            │        │                                  ┌diamond\n      │               │            │        │                    ┌jewelry─jewel┼ruby\n      │               │            │        │                    │             └pearl\n      │               │            │        │          ┌adornment┤\n      │               │            │        │          │         └rosette\n      │               │            │        ├decoration┼nailhead\n      │               │            │        │          └tinsel\n      │               │            │        ├creation─representation─document─letter\n      │               │            │        ├weight─bob─plumb_bob\n      │               │            │        │          ┌tile\n      │               │            │        ├block─slab┤\n      │               │            │        │          └tablet─slate\n      │               │            │        │         ┌grocery\n      │               │            │        └commodity┤\n      │               │            │                  └clothing─garment─spat\n      │               │            │                                                              ┌millet\n      │               │            │                                ┌gramineous_plant─grass─cereal┤\n      │               │            │                                │                             └wheat\n      │               │            │                                ├reseda\n      │               │            │                                ├oxalis\n      │               │            │                                ├viola─pansy\n      │               │            │                           ┌herb┼fraxinella\n      │               │            │                           │    ├crucifer─mustard\n      │               │            │                           │    ├fenugreek\n      │               │            │                           │    ├rosemary\n      │               │            │                           │    └rue\n      │               │            │                           │                        ┌madderwort─madder\n      │               │            │                           ├spermatophyte─angiosperm┤\n      │               │            │                           │                        │      ┌columbine\n      │               │            │                           │                        └flower┼bellwort─strawflower\n      │               │            │                           │                               └floret\n      │               │            │                           │                                   ┌nut_tree─hazelnut\n      │               │            │                           │                ┌angiospermous_tree┤\n      │               │            │                           │                │                  └fruit_tree─almond_tree─almond\n      │               │            │                           │           ┌tree┼willow\n      │               │            │                           │           │    └elm\n      │               │            │                           ├woody_plant┤\n      │               │            │                           │           │     ┌saltwort\n      │               │            │                           │           └shrub┼rose\n      │               │            │                           │                 └heath─heather\n      │               │            │                     ┌plant┤\n      │               │            │                     │     ├succulent─aloe\n      │               │            │                     │     ├pteridophyte─fern_ally─horsetail\n      │               │            │                     │     │             ┌liliaceous_plant─alliaceous_plant─garlic\n      │               │            │                     │     └bulbous_plant┤\n      │               │            │                     │                   └iridaceous_plant─crocus─saffron\n      │               │            │                     │                   ┌arthropod─arachnid─spider\n      │               │            │                     │      ┌invertebrate┤\n      │               │            │                     │      │            └worm─annelid─oligochaete─earthworm\n      │               │      ┌whole┼living_thing─organism┼animal┼larva─mealworm\n      │               │      │     │                     │      │                                ┌bovine─cattle─beef\n      │               │      │     │                     │      │        ┌ungulate─ruminant─bovid┤\n      │               │      │     │                     │      │        │                       └sheep\n      │               │      │     │                     │      └chordate┤\n      │               │      │     │                     │               └carnivore─viverrine─civet\n      │               │      │     │                     │      ┌basidiomycete─agaric─mushroom\n      │               │      │     │                     └fungus┤\n      │               │      │     │                            └puffball\n      │               │      │     │                                                ┌nut─edible_nut─walnut\n      │               │      │     │                                           ┌seed┤\n      │               │      │     │                                           │    └oilseed─rapeseed\n      │               │      │     │                                     ┌fruit┤\n      │               │      │     │                                     │     └edible_fruit─citrus─orange\n      │               │      │     │                         ┌plant_organ┼stalk─bulb─onion\n      │               │      │     │                         │           └leaf─scale\n      │               │      │     └natural_object─plant_part┤\n      │               │      │                               └plant_tissue─pith\n      │               ├object┤\n      │               │      │        ┌region─layer─crust\n      │               │      └location┤\n      │               │               └point─position─pitch\n      │               └process─phenomenon─natural_phenomenon─physical_phenomenon─cloud─aerosol─smoke\nentity┤\n      │                                                        ┌unsanitariness─filth\n      │                     ┌state─condition─sanitary_condition┤\n      │                     │                                  └dirtiness─dirt\n      │           ┌attribute┼shape─amorphous_shape─space─expanse\n      │           │         │                                              ┌purple\n      │           │         └property─visual_property─color─chromatic_color┼blue─azure\n      │           │                                                        │   ┌scarlet\n      │           │                                                        └red┤\n      │           │                                                            └crimson\n      │           ├group─social_group─organization─association─club\n      └abstraction┼communication─language─natural_language─afroasiatic─semitic─arabic\n                  │                               ┌action─change─change_of_integrity─joining─fastening─bonding\n                  ├psychological_feature─event─act┼propulsion─pull─draw─tow\n                  │                               └activity─work─labor─manual_labor─application─tinning\n                  └measure─system_of_measurement─standard\n"
    },
    {
     "output_type": "execute_result",
     "data": {
      "text/plain": "<__main__.print_custom_tree at 0x242c61a5b08>"
     },
     "metadata": {},
     "execution_count": 24
    }
   ],
   "source": [
    "entityn = Node('entity', None)\n",
    "visited = []\n",
    "skipped=0\n",
    "\n",
    "for material in simple_terms :\n",
    "    if material not in ['☉','☾','☼','☀','glueing','coryal','incarnadine','flin','spalt','grai','aquaforti','colla','vetro', 'goumiche','arene', 'theriac', 'bituman', 'aceto', 'wooden','zedoary','stagno','basan','rowan,','antho','☿','waxed','toadstone','glair', 'sandiver','fustet','potin','dyeing','taffetum','bullitoyre','ferro','canva','muddying','ferlin','leaded','salted','lucertum','soldered','glued','rooftile','earthen','milla','metalline','ambergri','stavesacre','bullitoire','couleur','arrabeic','charcoaled','cendrée','cristallin','porfidio','ferri','smoked','maplewood','arène','vernice','brouillamini','whitening','real','salpeter','k','♀','bronzing','preserf','thunderstone','clofe','litharge','purpurina','salty','felin','tinned','prele','crocum','tint','verdigri','silvered','pumouse','fremouse','fresil','verdet','dyed','oiled','horsedung','cocon.','billon','tuf','vermiculari','pulverin','unleaded','solle','felinder','coppera','quarton','batture','eau-de-vie','florey','taffer','wallwort','enameled','ferret-silk','ardide','porkfat','sanguine','magistra','vermeille','cornaline','niello','enamelling','cocon','aspalt','damascening','melli','grè','rocaille','crêpe','aurea','aspalte','solfo','chimolée','enamelled','sap-green','rutum','trwood','stuf','leady','debri','luted','galipot','vermillion','enameling','pearled','persicaire','enilanroc','oiling','otnegra','marcasite','oily','verjuice','gilded','verd','asphaltum','regulu']:   #not in wordnet or not in entity tree\n",
    "        if material in ['earth','soil','lead','filing','spat','ocher','perfume','mold','wisp','coral','germ','phlegm','foam','or','ebony','amber','carton','blue','egg']:\n",
    "            ani = wn.synsets(material, pos=wn.NOUN)[1]\n",
    "        elif material in['pitch','distemper','gold']:\n",
    "            ani = wn.synsets(material, pos=wn.NOUN)[2]\n",
    "        elif material in ['scale']:\n",
    "            ani = wn.synsets(material, pos=wn.NOUN)[3]\n",
    "        elif material in ['black']:\n",
    "            ani = wn.synsets(material, pos=wn.NOUN)[4]\n",
    "        else :\n",
    "            ani = wn.synsets(material, pos=wn.NOUN)[0]\n",
    "        an = r_node(ani)\n",
    "        lis = an.return_concept_path()[0]\n",
    "        for i in range (1,len(lis)):\n",
    "            name = lis[i].name().split('.')[0]\n",
    "            if name in ['even-toed_ungulate', 'high-angle_gun','copper-base_alloy','ovum',\"dyer's_rocket\",'edible_fat','heavier-than-air_craft','reproductive_structure','legging','consumer_goods','ceramic_ware','source_of_illumination','baseball_equipment','hospital_room','sheet_metal','vascular_plant','vertebrate','mammal','placental','plant_product','animal_tissue']: #- make everything go boom also things I don't care about\n",
    "                skipped+=1\n",
    "                visited.append(name)\n",
    "            elif name not in visited :\n",
    "                name_prec = lis[i-1-skipped].name().split('.')[0]\n",
    "                skipped=0\n",
    "                string = name+'n'+' = Node(name,'+ name_prec+'n)'\n",
    "                exec(string)\n",
    "                visited.append(name)\n",
    "            else :\n",
    "                skipped=0\n",
    "\n",
    "print_custom_tree(entityn)"
   ]
  },
  {
   "cell_type": "code",
   "execution_count": null,
   "metadata": {},
   "outputs": [],
   "source": []
  }
 ],
 "metadata": {
  "kernelspec": {
   "display_name": "Python 3",
   "language": "python",
   "name": "python3"
  },
  "language_info": {
   "codemirror_mode": {
    "name": "ipython",
    "version": 3
   },
   "file_extension": ".py",
   "mimetype": "text/x-python",
   "name": "python",
   "nbconvert_exporter": "python",
   "pygments_lexer": "ipython3",
   "version": "3.7.6-final"
  }
 },
 "nbformat": 4,
 "nbformat_minor": 4
}