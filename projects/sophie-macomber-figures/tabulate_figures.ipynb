{
 "cells": [
  {
   "cell_type": "markdown",
   "metadata": {},
   "source": [
    "This notebook articulates the process of generating a table of metadata about figures in the translation of the manuscript."
   ]
  },
  {
   "cell_type": "markdown",
   "metadata": {},
   "source": [
    "Firstly, import the `manuscript.py` file from the `manuscript-object` repo."
   ]
  },
  {
   "cell_type": "code",
   "execution_count": 1,
   "metadata": {},
   "outputs": [],
   "source": [
    "import sys, os\n",
    "sys.path.insert(0, os.path.abspath('../..')) # Some magic to make sure we are in the context of the manuscript-object root directory.\n",
    "import manuscript"
   ]
  },
  {
   "cell_type": "markdown",
   "metadata": {},
   "source": [
    "We will also use some convenient constants from the `utils.py` file."
   ]
  },
  {
   "cell_type": "code",
   "execution_count": 3,
   "metadata": {},
   "outputs": [],
   "source": [
    "import utils"
   ]
  },
  {
   "cell_type": "markdown",
   "metadata": {},
   "source": [
    "For parsing the XML of each entry, we will use the Python library BeautifulSoup.\n",
    "\n",
    "[Read the documentation here.](https://www.crummy.com/software/BeautifulSoup/bs4/doc/)"
   ]
  },
  {
   "cell_type": "code",
   "execution_count": 4,
   "metadata": {},
   "outputs": [],
   "source": [
    "from bs4 import BeautifulSoup, Tag"
   ]
  },
  {
   "cell_type": "markdown",
   "metadata": {},
   "source": [
    "Our task is essentially this:\n",
    "- for each entry in the manuscript, obtain a list of figures in that entry\n",
    "- for each of those figures, generate a row of spreadsheet data containing the following information:\n",
    "    - entry ID\n",
    "    - entry title\n",
    "    - figure ID\n",
    "    - figure size\n",
    "    - figure link\n",
    "    - figure margin data (if applicable)\n",
    "    - entry categories\n",
    "    - the terms present in the entry for each semantic tag\n",
    "- write all of these rows to a CSV"
   ]
  },
  {
   "cell_type": "markdown",
   "metadata": {},
   "source": [
    "We will begin with the smallest conceptual unit--the individual figure--and work up from there."
   ]
  },
  {
   "cell_type": "markdown",
   "metadata": {},
   "source": [
    "This first function `extract`s information from a figure element.\n",
    "\n",
    "The actual data type being passed to this function is a `Tag` object parsed by BeautifulSoup. This kind of object is more intelligent than a string of XML; it possess information about its own attributes and the structure of the XML document. We take advantage of this when searching for margin metadata, since figures in the margin may encode their position as an attribute of the `figure` tag or as an attribute of their enclosing `ab` tag.\n",
    "\n",
    "For the rest of the metadata, it suffices to simply request the attribute from the element.\n",
    "\n",
    "The `size` attribute is not included if the figure has the default size `medium`. We would like to see this explicitly, though, so we tell it to default to `medium` if no `size` attribute was found.\n",
    "\n",
    "Finally we return this metadata as a Python dictionary keyed by what will eventually become the names of the columns of our spreadsheet."
   ]
  },
  {
   "cell_type": "markdown",
   "metadata": {},
   "source": [
    "_Note:_ while it is theoretically possible in XML that there could be an intermediate enclosing tag between the `ab` and the `figure` which would ruin our ability to request the margin attribute from the enclosing `ab` tag, in fact the manuscript is encoded such that this does not happen.\n",
    "\n",
    "So, the following _never_ happens:\n",
    "```xml\n",
    "<ab margin='blah'>\n",
    "<intermediate_parent_tag>\n",
    "<figure></figure>\n",
    "</intermediate_parent_tag>\n",
    "</ab>\n",
    "```\n",
    "This means we can trust that the margin metadata is either in the attributes of the figure tag, the attributes of its parent, or it is not there at all.\n",
    "\n",
    "See the end of this notebook for proof of this fact."
   ]
  },
  {
   "cell_type": "code",
   "execution_count": 5,
   "metadata": {},
   "outputs": [],
   "source": [
    "def extract(figure):\n",
    "    size = figure.get('size') or 'medium'\n",
    "    fig_id = figure.get('id')\n",
    "    link = figure.get('link')\n",
    "    \n",
    "    # Use a short-circuiting 'or' to search for margin metadata first in the tag's attributes,\n",
    "    # then in the attributes of the enclosing `ab` tag, and then finally return None if neither one yielded data.\n",
    "    margin = figure.get('margin') or figure.parent.get('margin')\n",
    "        \n",
    "    return {'size':size,\n",
    "            'fig_id':fig_id,\n",
    "            'margin':margin,\n",
    "            'link':link}"
   ]
  },
  {
   "cell_type": "markdown",
   "metadata": {},
   "source": [
    "The next conceptual stage to consider is the level of the entry. Each entry may contain several figures.\n",
    "\n",
    "The actual data type being given as input to be `transform`ed into several rows of data is an `Entry` object as defined in `entry.py`. This custom class possess information about its ID, title, categories, properties (i.e. semantic tags), and XML contents, among other things. This metadata combined with what we get from each individual figure tag accounts for each of the columns we wish to represent in our spreadsheet.\n",
    "\n",
    "After we get the basic metadata information, we parse the XML content of the entry using BeautifulSoup. This gives us a \"souped\" XML element representing the root. We use the `find_all` method to recursively get every `figure` element in the entry as a list. These are exactly the objects we pass to `extract` in order to get their particular metadata.\n",
    "\n",
    "We use a list comprehension to `extract` the metadata from all of the figures, giving us all of the rows we need from this entry.\n",
    "Then it remains to add to each of these rows the metadata about the entry itself. We do this in a `for` loop that simply adds more key-value pairs to the dictionary. We have a nested `for` loop which adds all of the semantic tags and associated lists of terms as individual columns."
   ]
  },
  {
   "cell_type": "code",
   "execution_count": 6,
   "metadata": {},
   "outputs": [],
   "source": [
    "def transform(entry):\n",
    "    entry_id = entry.identity\n",
    "    categories = entry.categories\n",
    "    title = entry.title\n",
    "    \n",
    "    soup = BeautifulSoup(entry.xml_string, 'lxml')\n",
    "    figures = soup.find_all('figure')\n",
    "    data = [extract(fig) for fig in figures]\n",
    "    \n",
    "    for row in data:\n",
    "        row['title'] = title\n",
    "        row['entry_id'] = entry_id\n",
    "        row['categories'] = categories\n",
    "        for prop, tag in utils.prop_dict.items():\n",
    "            row[tag] = entry.properties[prop]\n",
    "            \n",
    "    return data"
   ]
  },
  {
   "cell_type": "markdown",
   "metadata": {},
   "source": [
    "With the ability to now transform an entry object into several rows of figure metadata, it remains to apply this transformation to each fo the entries in the manuscript."
   ]
  },
  {
   "cell_type": "markdown",
   "metadata": {},
   "source": [
    "First, we must generate the manuscript object and all of the entry objects from the `ms-xml/tl` path."
   ]
  },
  {
   "cell_type": "code",
   "execution_count": 8,
   "metadata": {},
   "outputs": [],
   "source": [
    "%%capture\n",
    "m = manuscript.Manuscript.from_dirs(utils.tl_path)"
   ]
  },
  {
   "cell_type": "markdown",
   "metadata": {},
   "source": [
    "Then all we must do is iterate over the entries, transforming each one and extending our initially empty list of rows as we go."
   ]
  },
  {
   "cell_type": "code",
   "execution_count": 14,
   "metadata": {},
   "outputs": [],
   "source": [
    "rows = []\n",
    "for entry in m.entries['tl'].values():\n",
    "    rows.extend(transform(entry))"
   ]
  },
  {
   "cell_type": "markdown",
   "metadata": {},
   "source": [
    "Since there are 162 figures in the manuscript, we should expect there to be 162 rows."
   ]
  },
  {
   "cell_type": "code",
   "execution_count": 15,
   "metadata": {},
   "outputs": [
    {
     "data": {
      "text/plain": [
       "162"
      ]
     },
     "execution_count": 15,
     "metadata": {},
     "output_type": "execute_result"
    }
   ],
   "source": [
    "len(rows)"
   ]
  },
  {
   "cell_type": "markdown",
   "metadata": {},
   "source": [
    "The most convenient way to write this data to a CSV file is using the DataFrame module from the pandas library."
   ]
  },
  {
   "cell_type": "code",
   "execution_count": 11,
   "metadata": {},
   "outputs": [],
   "source": [
    "from pandas import DataFrame"
   ]
  },
  {
   "cell_type": "markdown",
   "metadata": {},
   "source": [
    "Here we define the order and names of our spreadsheet columns, which matches to the keys of our dictionaries.\n",
    "\n",
    "Instead of painstakingly writing out each of the semantic tags, we cleverly use the `prop_dict` constant from `utils.py` and `*`-expand the abbreviated values into items in this list of column names."
   ]
  },
  {
   "cell_type": "code",
   "execution_count": 16,
   "metadata": {},
   "outputs": [],
   "source": [
    "columns=['entry_id', 'title', 'fig_id', 'link', 'size', 'margin', 'categories', *utils.prop_dict.values()]"
   ]
  },
  {
   "cell_type": "markdown",
   "metadata": {},
   "source": [
    "The DataFrame module has a constructor method specifically designed to form a table from a list of dictionary records like we have. We provide it our data and our desired columns and it returns the table."
   ]
  },
  {
   "cell_type": "code",
   "execution_count": 17,
   "metadata": {},
   "outputs": [],
   "source": [
    "df = DataFrame.from_records(rows, columns=columns)"
   ]
  },
  {
   "cell_type": "code",
   "execution_count": 18,
   "metadata": {},
   "outputs": [
    {
     "data": {
      "text/html": [
       "<div>\n",
       "<style scoped>\n",
       "    .dataframe tbody tr th:only-of-type {\n",
       "        vertical-align: middle;\n",
       "    }\n",
       "\n",
       "    .dataframe tbody tr th {\n",
       "        vertical-align: top;\n",
       "    }\n",
       "\n",
       "    .dataframe thead th {\n",
       "        text-align: right;\n",
       "    }\n",
       "</style>\n",
       "<table border=\"1\" class=\"dataframe\">\n",
       "  <thead>\n",
       "    <tr style=\"text-align: right;\">\n",
       "      <th></th>\n",
       "      <th>entry_id</th>\n",
       "      <th>title</th>\n",
       "      <th>fig_id</th>\n",
       "      <th>link</th>\n",
       "      <th>size</th>\n",
       "      <th>margin</th>\n",
       "      <th>categories</th>\n",
       "      <th>al</th>\n",
       "      <th>bp</th>\n",
       "      <th>cn</th>\n",
       "      <th>...</th>\n",
       "      <th>tl</th>\n",
       "      <th>tmp</th>\n",
       "      <th>wp</th>\n",
       "      <th>de</th>\n",
       "      <th>el</th>\n",
       "      <th>it</th>\n",
       "      <th>la</th>\n",
       "      <th>fr</th>\n",
       "      <th>oc</th>\n",
       "      <th>po</th>\n",
       "    </tr>\n",
       "  </thead>\n",
       "  <tbody>\n",
       "    <tr>\n",
       "      <th>0</th>\n",
       "      <td>3r3</td>\n",
       "      <td>Thick varnish for planks</td>\n",
       "      <td>fig_p003v_1</td>\n",
       "      <td>https://drive.google.com/open?id=0B9-oNrvWdlO5...</td>\n",
       "      <td>medium</td>\n",
       "      <td>None</td>\n",
       "      <td>[varnish]</td>\n",
       "      <td>[]</td>\n",
       "      <td>[]</td>\n",
       "      <td>[sous, sous, sous]</td>\n",
       "      <td>...</td>\n",
       "      <td>[vessel, vessel, vessel, oven, copper vessel, ...</td>\n",
       "      <td>[months, times past, hour]</td>\n",
       "      <td>[]</td>\n",
       "      <td>[]</td>\n",
       "      <td>[]</td>\n",
       "      <td>[]</td>\n",
       "      <td>[pix græca]</td>\n",
       "      <td>[tou]</td>\n",
       "      <td>[]</td>\n",
       "      <td>[warp]</td>\n",
       "    </tr>\n",
       "    <tr>\n",
       "      <th>1</th>\n",
       "      <td>6v1</td>\n",
       "      <td>For   cages</td>\n",
       "      <td>fig_p006v_1</td>\n",
       "      <td>https://drive.google.com/open?id=0B9-oNrvWdlO5...</td>\n",
       "      <td>medium</td>\n",
       "      <td>None</td>\n",
       "      <td>[glass process]</td>\n",
       "      <td>[]</td>\n",
       "      <td>[hand]</td>\n",
       "      <td>[]</td>\n",
       "      <td>...</td>\n",
       "      <td>[enamel cannules, cannules, cutting file, wood...</td>\n",
       "      <td>[]</td>\n",
       "      <td>[]</td>\n",
       "      <td>[]</td>\n",
       "      <td>[]</td>\n",
       "      <td>[]</td>\n",
       "      <td>[]</td>\n",
       "      <td>[ga, cach]</td>\n",
       "      <td>[]</td>\n",
       "      <td>[]</td>\n",
       "    </tr>\n",
       "    <tr>\n",
       "      <th>2</th>\n",
       "      <td>14r1</td>\n",
       "      <td>For walls of earth and rustic construction</td>\n",
       "      <td>fig_p014r_1</td>\n",
       "      <td>https://drive.google.com/open?id=0B9-oNrvWdlO5...</td>\n",
       "      <td>small</td>\n",
       "      <td>left-middle</td>\n",
       "      <td>[household and daily life]</td>\n",
       "      <td>[Swallows]</td>\n",
       "      <td>[foot]</td>\n",
       "      <td>[]</td>\n",
       "      <td>...</td>\n",
       "      <td>[ditch-spade, measuring line, long &lt;-ch-&gt; pole...</td>\n",
       "      <td>[]</td>\n",
       "      <td>[]</td>\n",
       "      <td>[]</td>\n",
       "      <td>[]</td>\n",
       "      <td>[]</td>\n",
       "      <td>[]</td>\n",
       "      <td>[arene, la, ch, m, a]</td>\n",
       "      <td>[]</td>\n",
       "      <td>[ditch-spade, tamp, tamps]</td>\n",
       "    </tr>\n",
       "    <tr>\n",
       "      <th>3</th>\n",
       "      <td>16r1</td>\n",
       "      <td>Founding of soft iron</td>\n",
       "      <td>fig_p016r_1</td>\n",
       "      <td>https://drive.google.com/open?id=0B9-oNrvWdlO5...</td>\n",
       "      <td>large</td>\n",
       "      <td>left-middle</td>\n",
       "      <td>[metal process]</td>\n",
       "      <td>[]</td>\n",
       "      <td>[handfuls]</td>\n",
       "      <td>[]</td>\n",
       "      <td>...</td>\n",
       "      <td>[small forges, iron pots, furnace, blast-pipe,...</td>\n",
       "      <td>[]</td>\n",
       "      <td>[]</td>\n",
       "      <td>[]</td>\n",
       "      <td>[]</td>\n",
       "      <td>[]</td>\n",
       "      <td>[]</td>\n",
       "      <td>[d, pan, pan, pans, pan, pan, pan, pan, f, d, ...</td>\n",
       "      <td>[]</td>\n",
       "      <td>[]</td>\n",
       "    </tr>\n",
       "    <tr>\n",
       "      <th>4</th>\n",
       "      <td>17r1</td>\n",
       "      <td>On the gunner</td>\n",
       "      <td>fig_p019r_1</td>\n",
       "      <td>https://drive.google.com/open?id=0B9-oNrvWdlO5...</td>\n",
       "      <td>x-small</td>\n",
       "      <td>None</td>\n",
       "      <td>[arms and armor]</td>\n",
       "      <td>[horses, horses, horses, horses, horses, good ...</td>\n",
       "      <td>[thumb]</td>\n",
       "      <td>[lb, lb, lb, lb]</td>\n",
       "      <td>...</td>\n",
       "      <td>[ladle, ladles, cauldrons, burin, burin, ladle...</td>\n",
       "      <td>[longer, day, by night]</td>\n",
       "      <td>[cannon, cannon-perrier, small, short cannons,...</td>\n",
       "      <td>[]</td>\n",
       "      <td>[]</td>\n",
       "      <td>[]</td>\n",
       "      <td>[]</td>\n",
       "      <td>[gr, pans, pan, pan, pan, ce, pan, cano, metal...</td>\n",
       "      <td>[]</td>\n",
       "      <td>[]</td>\n",
       "    </tr>\n",
       "    <tr>\n",
       "      <th>...</th>\n",
       "      <td>...</td>\n",
       "      <td>...</td>\n",
       "      <td>...</td>\n",
       "      <td>...</td>\n",
       "      <td>...</td>\n",
       "      <td>...</td>\n",
       "      <td>...</td>\n",
       "      <td>...</td>\n",
       "      <td>...</td>\n",
       "      <td>...</td>\n",
       "      <td>...</td>\n",
       "      <td>...</td>\n",
       "      <td>...</td>\n",
       "      <td>...</td>\n",
       "      <td>...</td>\n",
       "      <td>...</td>\n",
       "      <td>...</td>\n",
       "      <td>...</td>\n",
       "      <td>...</td>\n",
       "      <td>...</td>\n",
       "      <td>...</td>\n",
       "    </tr>\n",
       "    <tr>\n",
       "      <th>157</th>\n",
       "      <td>167r1</td>\n",
       "      <td>Petards</td>\n",
       "      <td>fig_p168r_1</td>\n",
       "      <td>https://drive.google.com/open?id=0B9-oNrvWdlO5...</td>\n",
       "      <td>small</td>\n",
       "      <td>left-middle</td>\n",
       "      <td>[arms and armor]</td>\n",
       "      <td>[oxen, mules]</td>\n",
       "      <td>[thumbs breadth, fingers, saliva, hand]</td>\n",
       "      <td>[]</td>\n",
       "      <td>...</td>\n",
       "      <td>[crucible, forks, pegs, tools, thick canvas, t...</td>\n",
       "      <td>[]</td>\n",
       "      <td>[Petards, Petards, petard, petard, petard, pet...</td>\n",
       "      <td>[]</td>\n",
       "      <td>[]</td>\n",
       "      <td>[]</td>\n",
       "      <td>[]</td>\n",
       "      <td>[metal, metal, ch, e, s, p, q, l, pulverin, s,...</td>\n",
       "      <td>[crucible, gimlet, gimlet, gimlets, gimlets]</td>\n",
       "      <td>[cake, presses, strap hinge]</td>\n",
       "    </tr>\n",
       "    <tr>\n",
       "      <th>158</th>\n",
       "      <td>169v2</td>\n",
       "      <td>Reducing a round figure to a hollow form</td>\n",
       "      <td>fig_p169v_3</td>\n",
       "      <td>https://drive.google.com/open?id=0B9-oNrvWdlO5...</td>\n",
       "      <td>small</td>\n",
       "      <td>left-middle</td>\n",
       "      <td>[casting]</td>\n",
       "      <td>[]</td>\n",
       "      <td>[warm urine]</td>\n",
       "      <td>[]</td>\n",
       "      <td>...</td>\n",
       "      <td>[clay slab, mold, mold, clay slab]</td>\n",
       "      <td>[]</td>\n",
       "      <td>[]</td>\n",
       "      <td>[]</td>\n",
       "      <td>[]</td>\n",
       "      <td>[]</td>\n",
       "      <td>[]</td>\n",
       "      <td>[b, noyau, en noyau, en noyau, m, en, du]</td>\n",
       "      <td>[]</td>\n",
       "      <td>[]</td>\n",
       "    </tr>\n",
       "    <tr>\n",
       "      <th>159</th>\n",
       "      <td>170r6</td>\n",
       "      <td>Cleaning closed molds</td>\n",
       "      <td>fig_p170r_1</td>\n",
       "      <td>https://drive.google.com/open?id=0B9-oNrvWdlO5...</td>\n",
       "      <td>x-small</td>\n",
       "      <td>left-bottom</td>\n",
       "      <td>[casting]</td>\n",
       "      <td>[]</td>\n",
       "      <td>[]</td>\n",
       "      <td>[]</td>\n",
       "      <td>...</td>\n",
       "      <td>[chaple, molds, thin wire of latten, delicate ...</td>\n",
       "      <td>[]</td>\n",
       "      <td>[]</td>\n",
       "      <td>[]</td>\n",
       "      <td>[]</td>\n",
       "      <td>[]</td>\n",
       "      <td>[]</td>\n",
       "      <td>[chaple]</td>\n",
       "      <td>[]</td>\n",
       "      <td>[]</td>\n",
       "    </tr>\n",
       "    <tr>\n",
       "      <th>160</th>\n",
       "      <td>170r6</td>\n",
       "      <td>Cleaning closed molds</td>\n",
       "      <td>fig_p170r_2</td>\n",
       "      <td>https://drive.google.com/open?id=0B9-oNrvWdlO5...</td>\n",
       "      <td>x-small</td>\n",
       "      <td>None</td>\n",
       "      <td>[casting]</td>\n",
       "      <td>[]</td>\n",
       "      <td>[]</td>\n",
       "      <td>[]</td>\n",
       "      <td>...</td>\n",
       "      <td>[chaple, molds, thin wire of latten, delicate ...</td>\n",
       "      <td>[]</td>\n",
       "      <td>[]</td>\n",
       "      <td>[]</td>\n",
       "      <td>[]</td>\n",
       "      <td>[]</td>\n",
       "      <td>[]</td>\n",
       "      <td>[chaple]</td>\n",
       "      <td>[]</td>\n",
       "      <td>[]</td>\n",
       "    </tr>\n",
       "    <tr>\n",
       "      <th>161</th>\n",
       "      <td>170v1</td>\n",
       "      <td>[Original first page (1578–1579)]</td>\n",
       "      <td>fig_p170v_2</td>\n",
       "      <td>https://drive.google.com/file/d/1pPcyOohw3Ayga...</td>\n",
       "      <td>x-small</td>\n",
       "      <td>None</td>\n",
       "      <td>[manuscript structure]</td>\n",
       "      <td>[]</td>\n",
       "      <td>[]</td>\n",
       "      <td>[écus, livres, écus, livres]</td>\n",
       "      <td>...</td>\n",
       "      <td>[]</td>\n",
       "      <td>[year, July, year]</td>\n",
       "      <td>[]</td>\n",
       "      <td>[]</td>\n",
       "      <td>[]</td>\n",
       "      <td>[]</td>\n",
       "      <td>[]</td>\n",
       "      <td>[e, qu]</td>\n",
       "      <td>[]</td>\n",
       "      <td>[]</td>\n",
       "    </tr>\n",
       "  </tbody>\n",
       "</table>\n",
       "<p>162 rows × 31 columns</p>\n",
       "</div>"
      ],
      "text/plain": [
       "    entry_id                                       title       fig_id  \\\n",
       "0        3r3                    Thick varnish for planks  fig_p003v_1   \n",
       "1        6v1                                 For   cages  fig_p006v_1   \n",
       "2       14r1  For walls of earth and rustic construction  fig_p014r_1   \n",
       "3       16r1                       Founding of soft iron  fig_p016r_1   \n",
       "4       17r1                               On the gunner  fig_p019r_1   \n",
       "..       ...                                         ...          ...   \n",
       "157    167r1                                     Petards  fig_p168r_1   \n",
       "158    169v2    Reducing a round figure to a hollow form  fig_p169v_3   \n",
       "159    170r6                       Cleaning closed molds  fig_p170r_1   \n",
       "160    170r6                       Cleaning closed molds  fig_p170r_2   \n",
       "161    170v1           [Original first page (1578–1579)]  fig_p170v_2   \n",
       "\n",
       "                                                  link     size       margin  \\\n",
       "0    https://drive.google.com/open?id=0B9-oNrvWdlO5...   medium         None   \n",
       "1    https://drive.google.com/open?id=0B9-oNrvWdlO5...   medium         None   \n",
       "2    https://drive.google.com/open?id=0B9-oNrvWdlO5...    small  left-middle   \n",
       "3    https://drive.google.com/open?id=0B9-oNrvWdlO5...    large  left-middle   \n",
       "4    https://drive.google.com/open?id=0B9-oNrvWdlO5...  x-small         None   \n",
       "..                                                 ...      ...          ...   \n",
       "157  https://drive.google.com/open?id=0B9-oNrvWdlO5...    small  left-middle   \n",
       "158  https://drive.google.com/open?id=0B9-oNrvWdlO5...    small  left-middle   \n",
       "159  https://drive.google.com/open?id=0B9-oNrvWdlO5...  x-small  left-bottom   \n",
       "160  https://drive.google.com/open?id=0B9-oNrvWdlO5...  x-small         None   \n",
       "161  https://drive.google.com/file/d/1pPcyOohw3Ayga...  x-small         None   \n",
       "\n",
       "                     categories  \\\n",
       "0                     [varnish]   \n",
       "1               [glass process]   \n",
       "2    [household and daily life]   \n",
       "3               [metal process]   \n",
       "4              [arms and armor]   \n",
       "..                          ...   \n",
       "157            [arms and armor]   \n",
       "158                   [casting]   \n",
       "159                   [casting]   \n",
       "160                   [casting]   \n",
       "161      [manuscript structure]   \n",
       "\n",
       "                                                    al  \\\n",
       "0                                                   []   \n",
       "1                                                   []   \n",
       "2                                           [Swallows]   \n",
       "3                                                   []   \n",
       "4    [horses, horses, horses, horses, horses, good ...   \n",
       "..                                                 ...   \n",
       "157                                      [oxen, mules]   \n",
       "158                                                 []   \n",
       "159                                                 []   \n",
       "160                                                 []   \n",
       "161                                                 []   \n",
       "\n",
       "                                          bp                            cn  \\\n",
       "0                                         []            [sous, sous, sous]   \n",
       "1                                     [hand]                            []   \n",
       "2                                     [foot]                            []   \n",
       "3                                 [handfuls]                            []   \n",
       "4                                    [thumb]              [lb, lb, lb, lb]   \n",
       "..                                       ...                           ...   \n",
       "157  [thumbs breadth, fingers, saliva, hand]                            []   \n",
       "158                             [warm urine]                            []   \n",
       "159                                       []                            []   \n",
       "160                                       []                            []   \n",
       "161                                       []  [écus, livres, écus, livres]   \n",
       "\n",
       "     ...                                                 tl  \\\n",
       "0    ...  [vessel, vessel, vessel, oven, copper vessel, ...   \n",
       "1    ...  [enamel cannules, cannules, cutting file, wood...   \n",
       "2    ...  [ditch-spade, measuring line, long <-ch-> pole...   \n",
       "3    ...  [small forges, iron pots, furnace, blast-pipe,...   \n",
       "4    ...  [ladle, ladles, cauldrons, burin, burin, ladle...   \n",
       "..   ...                                                ...   \n",
       "157  ...  [crucible, forks, pegs, tools, thick canvas, t...   \n",
       "158  ...                 [clay slab, mold, mold, clay slab]   \n",
       "159  ...  [chaple, molds, thin wire of latten, delicate ...   \n",
       "160  ...  [chaple, molds, thin wire of latten, delicate ...   \n",
       "161  ...                                                 []   \n",
       "\n",
       "                            tmp  \\\n",
       "0    [months, times past, hour]   \n",
       "1                            []   \n",
       "2                            []   \n",
       "3                            []   \n",
       "4       [longer, day, by night]   \n",
       "..                          ...   \n",
       "157                          []   \n",
       "158                          []   \n",
       "159                          []   \n",
       "160                          []   \n",
       "161          [year, July, year]   \n",
       "\n",
       "                                                    wp  de  el  it  \\\n",
       "0                                                   []  []  []  []   \n",
       "1                                                   []  []  []  []   \n",
       "2                                                   []  []  []  []   \n",
       "3                                                   []  []  []  []   \n",
       "4    [cannon, cannon-perrier, small, short cannons,...  []  []  []   \n",
       "..                                                 ...  ..  ..  ..   \n",
       "157  [Petards, Petards, petard, petard, petard, pet...  []  []  []   \n",
       "158                                                 []  []  []  []   \n",
       "159                                                 []  []  []  []   \n",
       "160                                                 []  []  []  []   \n",
       "161                                                 []  []  []  []   \n",
       "\n",
       "              la                                                 fr  \\\n",
       "0    [pix græca]                                              [tou]   \n",
       "1             []                                         [ga, cach]   \n",
       "2             []                              [arene, la, ch, m, a]   \n",
       "3             []  [d, pan, pan, pans, pan, pan, pan, pan, f, d, ...   \n",
       "4             []  [gr, pans, pan, pan, pan, ce, pan, cano, metal...   \n",
       "..           ...                                                ...   \n",
       "157           []  [metal, metal, ch, e, s, p, q, l, pulverin, s,...   \n",
       "158           []          [b, noyau, en noyau, en noyau, m, en, du]   \n",
       "159           []                                           [chaple]   \n",
       "160           []                                           [chaple]   \n",
       "161           []                                            [e, qu]   \n",
       "\n",
       "                                               oc  \\\n",
       "0                                              []   \n",
       "1                                              []   \n",
       "2                                              []   \n",
       "3                                              []   \n",
       "4                                              []   \n",
       "..                                            ...   \n",
       "157  [crucible, gimlet, gimlet, gimlets, gimlets]   \n",
       "158                                            []   \n",
       "159                                            []   \n",
       "160                                            []   \n",
       "161                                            []   \n",
       "\n",
       "                               po  \n",
       "0                          [warp]  \n",
       "1                              []  \n",
       "2      [ditch-spade, tamp, tamps]  \n",
       "3                              []  \n",
       "4                              []  \n",
       "..                            ...  \n",
       "157  [cake, presses, strap hinge]  \n",
       "158                            []  \n",
       "159                            []  \n",
       "160                            []  \n",
       "161                            []  \n",
       "\n",
       "[162 rows x 31 columns]"
      ]
     },
     "execution_count": 18,
     "metadata": {},
     "output_type": "execute_result"
    }
   ],
   "source": [
    "df"
   ]
  },
  {
   "cell_type": "markdown",
   "metadata": {},
   "source": [
    "Finally, this table can easily be written to a CSV."
   ]
  },
  {
   "cell_type": "code",
   "execution_count": 19,
   "metadata": {},
   "outputs": [],
   "source": [
    "df.to_csv('figures.csv', index=False)"
   ]
  },
  {
   "cell_type": "markdown",
   "metadata": {},
   "source": [
    "The following query proves that there are no `ab` tags in the manuscript which have an intermediate tag between itself and a child `figure` tag."
   ]
  },
  {
   "cell_type": "code",
   "execution_count": 20,
   "metadata": {},
   "outputs": [],
   "source": [
    "%%capture\n",
    "a = m.generate_all_folios(method='xml', version='tl') # Generate one giant XML document to search representing the entire manuscript in translation."
   ]
  },
  {
   "cell_type": "code",
   "execution_count": 21,
   "metadata": {},
   "outputs": [],
   "source": [
    "soup = BeautifulSoup(a, 'lxml') # Soupify the document."
   ]
  },
  {
   "cell_type": "code",
   "execution_count": 22,
   "metadata": {},
   "outputs": [],
   "source": [
    "all_ab = soup.find_all('ab') # Get a list of all the `ab` tags."
   ]
  },
  {
   "cell_type": "markdown",
   "metadata": {},
   "source": [
    "Technically, you should never write a list comprehension as horrible as the one you see below.\n",
    "However, this is merely for querying purposes.\n",
    "Essentially, it asks the following:\n",
    "\n",
    "**\"Give me every `ab` tag in the manuscript for which any of its descendants themselves have child tags which are `figure` tags.\"**\n",
    "\n",
    "Or, put another way:\n",
    "\n",
    "**\"List those `ab` tags which have grandchildren (or great-grandchildren, or great-great-grandchildren...) that are `figure` tags.\"**\n",
    "\n",
    "See? Not that bad at all.\n",
    "It returns an empty list, meaning there are no such tags. Every figure tag inside an `ab` tag is a direct descendant with no intermediate parents."
   ]
  },
  {
   "cell_type": "code",
   "execution_count": 23,
   "metadata": {},
   "outputs": [
    {
     "data": {
      "text/plain": [
       "[]"
      ]
     },
     "execution_count": 23,
     "metadata": {},
     "output_type": "execute_result"
    }
   ],
   "source": [
    "[ab for ab in all_ab if any([len(list(c.children))>0 and any([d.name == 'figure' for d in c.children]) for c in ab.descendants if isinstance(c, Tag)])]"
   ]
  }
 ],
 "metadata": {
  "kernelspec": {
   "display_name": "Python 3",
   "language": "python",
   "name": "python3"
  },
  "language_info": {
   "codemirror_mode": {
    "name": "ipython",
    "version": 3
   },
   "file_extension": ".py",
   "mimetype": "text/x-python",
   "name": "python",
   "nbconvert_exporter": "python",
   "pygments_lexer": "ipython3",
   "version": "3.8.2"
  }
 },
 "nbformat": 4,
 "nbformat_minor": 4
}
