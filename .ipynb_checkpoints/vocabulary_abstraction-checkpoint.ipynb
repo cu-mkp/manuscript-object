{
 "cells": [
  {
   "cell_type": "code",
   "execution_count": 2,
   "metadata": {},
   "outputs": [
    {
     "name": "stderr",
     "output_type": "stream",
     "text": [
      "[nltk_data] Downloading package wordnet to\n",
      "[nltk_data]     C:\\Users\\danac\\AppData\\Roaming\\nltk_data...\n",
      "[nltk_data]   Package wordnet is already up-to-date!\n"
     ]
    }
   ],
   "source": [
    "import os\n",
    "import pandas as pd\n",
    "import nltk\n",
    "nltk.download('wordnet')\n",
    "wn = nltk.corpus.wordnet\n",
    "from digital_manuscript import BnF"
   ]
  },
  {
   "cell_type": "code",
   "execution_count": 3,
   "metadata": {},
   "outputs": [
    {
     "data": {
      "text/plain": [
       "['aucupio',\n",
       " 'passerine',\n",
       " 'cat',\n",
       " 'goat',\n",
       " 'horse',\n",
       " 'daot',\n",
       " 'louse',\n",
       " 'lamb',\n",
       " 'chicken',\n",
       " 'earthworm',\n",
       " 'dogfish',\n",
       " 'chick',\n",
       " 'crow',\n",
       " 'dormouse',\n",
       " 'mule',\n",
       " 'siskin',\n",
       " 'partridge',\n",
       " 'cow',\n",
       " 'lark',\n",
       " 'ant',\n",
       " 'wolf',\n",
       " 'worm',\n",
       " 'porcupine',\n",
       " 'oyster',\n",
       " 'snail',\n",
       " 'goldfinch',\n",
       " 'ewe',\n",
       " 'pork',\n",
       " 'pig',\n",
       " 'fish',\n",
       " 'tellin',\n",
       " 'linnet',\n",
       " 'rat',\n",
       " 'viper',\n",
       " 'petit-gri',\n",
       " 'sheep',\n",
       " 'ortolan',\n",
       " 'verdaule',\n",
       " 'bird',\n",
       " 'bat',\n",
       " 'animal',\n",
       " 'codfish',\n",
       " 'og',\n",
       " 'swan',\n",
       " 'calf',\n",
       " 'silkworm',\n",
       " 'beef',\n",
       " 'squirrel',\n",
       " 'water-dog',\n",
       " 'fly',\n",
       " 'shell',\n",
       " 'calandra',\n",
       " 'cuckoo',\n",
       " 'dragon',\n",
       " 'barbel',\n",
       " 'crab',\n",
       " 'pigeon',\n",
       " 'swallow',\n",
       " 'colt',\n",
       " 'bittern',\n",
       " 'mussel',\n",
       " 'turtle',\n",
       " 'flea',\n",
       " 'frog',\n",
       " 'chaffinch',\n",
       " 'swine',\n",
       " 'lizard',\n",
       " 'weasel',\n",
       " 'snake',\n",
       " 'duck',\n",
       " 'eagle',\n",
       " 'mouse',\n",
       " 'hen',\n",
       " 'calendra',\n",
       " 'hart',\n",
       " 'grasshopper',\n",
       " 'cicada',\n",
       " 'ox',\n",
       " 'mealworm',\n",
       " 'toad',\n",
       " 'butterfly',\n",
       " 'dog',\n",
       " 'mutton',\n",
       " 'nightingale',\n",
       " 'cuttlefish',\n",
       " 'bombicum',\n",
       " 'spider',\n",
       " 'hog',\n",
       " 'turtledofe',\n",
       " 'rabbit',\n",
       " 'crayfish',\n",
       " 'human']"
      ]
     },
     "execution_count": 3,
     "metadata": {},
     "output_type": "execute_result"
    }
   ],
   "source": [
    "path = os.getcwd() + '/../manuscript-object/thesaurus/animal.csv'\n",
    "\n",
    "df = pd.read_csv(path)\n",
    "terms = list(set(df['prefLabel_en']))\n",
    "simple_terms = [t for t in terms if ' ' not in t]\n",
    "simple_terms"
   ]
  },
  {
   "cell_type": "code",
   "execution_count": 4,
   "metadata": {},
   "outputs": [
    {
     "data": {
      "text/plain": [
       "[Synset('dog.n.01'),\n",
       " Synset('frump.n.01'),\n",
       " Synset('dog.n.03'),\n",
       " Synset('cad.n.01'),\n",
       " Synset('frank.n.02'),\n",
       " Synset('pawl.n.01'),\n",
       " Synset('andiron.n.01')]"
      ]
     },
     "execution_count": 4,
     "metadata": {},
     "output_type": "execute_result"
    }
   ],
   "source": [
    "term = 'dog'\n",
    "dog = wn.synsets(term, pos=wn.NOUN)\n",
    "dog\n",
    "# hyper = dog[0].hypernyms()\n",
    "# for x in hyper:\n",
    "#     print(x, x.hypernyms())\n",
    "\n",
    "# from nltk.corpus import wordnet as wn\n",
    "# for ss in wn.synsets(term):\n",
    "#     print (ss, ss.hypernyms())"
   ]
  },
  {
   "cell_type": "code",
   "execution_count": 5,
   "metadata": {},
   "outputs": [],
   "source": [
    "animal = wn.synset('animal.n.01')\n",
    "\n",
    "class r_node:\n",
    "    def __init__(self, lemma, children=[]):\n",
    "        self.lemma = lemma\n",
    "        \n",
    "#         if lemma == animal:\n",
    "#             print(children + [lemma,])\n",
    "        \n",
    "        self.children = children\n",
    "        self.hypernyms = lemma.hypernyms()\n",
    "        self.parents = [r_node(h, children + [lemma,]) for h in self.hypernyms]\n",
    "        \n",
    "    def return_animal_path(self):\n",
    "        if self.lemma == animal:\n",
    "            return [[self.lemma,],]\n",
    "        else:\n",
    "            parent_paths = [n.return_animal_path() for n in self.parents]\n",
    "            parent_paths = [p for p in parent_paths if len(p) > 0]\n",
    "            paths = []\n",
    "            for p in parent_paths:\n",
    "                paths += p\n",
    "            for p in paths:\n",
    "                p.append(self.lemma)\n",
    "            return paths"
   ]
  },
  {
   "cell_type": "code",
   "execution_count": 6,
   "metadata": {},
   "outputs": [
    {
     "data": {
      "text/plain": [
       "[[Synset('animal.n.01'),\n",
       "  Synset('chordate.n.01'),\n",
       "  Synset('vertebrate.n.01'),\n",
       "  Synset('mammal.n.01'),\n",
       "  Synset('placental.n.01'),\n",
       "  Synset('carnivore.n.01'),\n",
       "  Synset('canine.n.02'),\n",
       "  Synset('dog.n.01')],\n",
       " [Synset('animal.n.01'), Synset('domestic_animal.n.01'), Synset('dog.n.01')]]"
      ]
     },
     "execution_count": 6,
     "metadata": {},
     "output_type": "execute_result"
    }
   ],
   "source": [
    "dog = wn.synsets('dog', pos=wn.NOUN)[0]\n",
    "dn = r_node(dog)\n",
    "dn.return_animal_path()\n",
    "# print([p.parents[0].lemma for p in dn.parents])\n",
    "\n",
    "# animal\n"
   ]
  },
  {
   "cell_type": "code",
   "execution_count": 7,
   "metadata": {},
   "outputs": [
    {
     "data": {
      "text/plain": [
       "[[Synset('animal.n.01'),\n",
       "  Synset('chordate.n.01'),\n",
       "  Synset('vertebrate.n.01'),\n",
       "  Synset('mammal.n.01'),\n",
       "  Synset('placental.n.01'),\n",
       "  Synset('rodent.n.01'),\n",
       "  Synset('squirrel.n.01')]]"
      ]
     },
     "execution_count": 7,
     "metadata": {},
     "output_type": "execute_result"
    }
   ],
   "source": [
    "squirrel = wn.synsets('squirrel')[0]\n",
    "sn = r_node(squirrel)\n",
    "sn.return_animal_path()"
   ]
  },
  {
   "cell_type": "code",
   "execution_count": 8,
   "metadata": {},
   "outputs": [
    {
     "data": {
      "text/plain": [
       "[[Synset('animal.n.01'),\n",
       "  Synset('chordate.n.01'),\n",
       "  Synset('vertebrate.n.01'),\n",
       "  Synset('aquatic_vertebrate.n.01'),\n",
       "  Synset('fish.n.01')]]"
      ]
     },
     "execution_count": 8,
     "metadata": {},
     "output_type": "execute_result"
    }
   ],
   "source": [
    "fish = wn.synsets('fish', pos=wn.NOUN)[0]\n",
    "fn = r_node(fish)\n",
    "fn.return_animal_path()"
   ]
  },
  {
   "cell_type": "code",
   "execution_count": 9,
   "metadata": {},
   "outputs": [
    {
     "data": {
      "text/plain": [
       "[[Synset('animal.n.01'),\n",
       "  Synset('invertebrate.n.01'),\n",
       "  Synset('arthropod.n.01'),\n",
       "  Synset('insect.n.01'),\n",
       "  Synset('louse.n.01')]]"
      ]
     },
     "execution_count": 9,
     "metadata": {},
     "output_type": "execute_result"
    }
   ],
   "source": [
    "louse = wn.synsets('louse')[0]\n",
    "ln = r_node(louse)\n",
    "ln.return_animal_path()"
   ]
  },
  {
   "cell_type": "code",
   "execution_count": 10,
   "metadata": {},
   "outputs": [
    {
     "data": {
      "text/plain": [
       "[[Synset('animal.n.01'),\n",
       "  Synset('invertebrate.n.01'),\n",
       "  Synset('mollusk.n.01'),\n",
       "  Synset('bivalve.n.01'),\n",
       "  Synset('oyster.n.01')]]"
      ]
     },
     "execution_count": 10,
     "metadata": {},
     "output_type": "execute_result"
    }
   ],
   "source": [
    "oyster = wn.synsets('oyster')[0]\n",
    "on = r_node(oyster)\n",
    "on.return_animal_path()"
   ]
  },
  {
   "cell_type": "code",
   "execution_count": null,
   "metadata": {},
   "outputs": [],
   "source": []
  },
  {
   "cell_type": "code",
   "execution_count": null,
   "metadata": {},
   "outputs": [],
   "source": []
  },
  {
   "cell_type": "code",
   "execution_count": 11,
   "metadata": {},
   "outputs": [],
   "source": [
    "def get_animal_paths(lemma):\n",
    "    paths = []\n",
    "    node = r_node(lemma)\n",
    "    \n",
    "    \n",
    "    \n",
    "    "
   ]
  },
  {
   "cell_type": "code",
   "execution_count": 12,
   "metadata": {},
   "outputs": [
    {
     "name": "stdout",
     "output_type": "stream",
     "text": [
      "[Synset('vertebrate.n.01')]\n",
      "[Synset('vertebrate.n.01')]\n",
      "[Synset('reptile.n.01')]\n",
      "[Synset('vertebrate.n.01')]\n",
      "[Synset('vertebrate.n.01')]\n",
      "[Synset('vertebrate.n.01')]\n",
      "[Synset('animal.n.01')]\n",
      "[Synset('invertebrate.n.01')]\n"
     ]
    }
   ],
   "source": [
    "squirrel = wn.synsets('squirrel')[0]\n",
    "weasel = wn.synsets('weasel')[1] # index 0 is a sneaky person\n",
    "squirrel.lowest_common_hypernyms(weasel)\n",
    "\n",
    "snake = wn.synsets('snake')[0]\n",
    "print(snake.lowest_common_hypernyms(weasel))\n",
    "print(snake.lowest_common_hypernyms(squirrel))\n",
    "\n",
    "turtle = wn.synsets('turtle')[1] # index 0 is a turtleneck (lmao)\n",
    "print(turtle.lowest_common_hypernyms(snake))\n",
    "print(turtle.lowest_common_hypernyms(squirrel))\n",
    "\n",
    "fish = wn.synsets('fish', pos=wn.NOUN)[0] # pos = part of speech\n",
    "swan = wn.synsets('swan')[0]\n",
    "print(fish.lowest_common_hypernyms(turtle))\n",
    "print(fish.lowest_common_hypernyms(snake))\n",
    "\n",
    "louse = wn.synsets('louse')[0]\n",
    "oyster = wn.synsets('oyster')[0]\n",
    "print(louse.lowest_common_hypernyms(snake))\n",
    "print(louse.lowest_common_hypernyms(oyster))"
   ]
  },
  {
   "cell_type": "code",
   "execution_count": 13,
   "metadata": {},
   "outputs": [],
   "source": [
    "class Node(object):\n",
    "\n",
    "    def __init__(self, value, parent):\n",
    "        self.value = value\n",
    "        self.children = []\n",
    "        if parent is not None:\n",
    "            parent.children.append(self)"
   ]
  },
  {
   "cell_type": "code",
   "execution_count": 14,
   "metadata": {},
   "outputs": [],
   "source": [
    "from print_tree import print_tree   #actually using package print-tree2 from pypi\n",
    "\n",
    "class print_custom_tree(print_tree):\n",
    "\n",
    "    def get_children(self, node):\n",
    "        return node.children\n",
    "\n",
    "    def get_node_str(self, node):\n",
    "        return str(node.value)"
   ]
  },
  {
   "cell_type": "code",
   "execution_count": 15,
   "metadata": {
    "tags": [
     "outputPrepend"
    ]
   },
   "outputs": [
    {
     "name": "stdout",
     "output_type": "stream",
     "text": [
      "any of several small tropical Asian lizards capable of gliding by spreading winglike membranes on each side of the body\n",
      "\n",
      "                                ┌crow\n",
      "                                │     ┌siskin\n",
      "                                │     ├goldfinch\n",
      "                                ├finch┼linnet\n",
      "                                │     ├bunting─ortolan\n",
      "                                │     └chaffinch\n",
      "                      ┌passerine┼lark\n",
      "                      │         ├swallow\n",
      "                      │         └nightingale\n",
      "                      │                                       ┌chick\n",
      "                      │                 ┌domestic_fowl─chicken┤\n",
      "                      │                 │                     └hen\n",
      "                      ├gallinaceous_bird┼game_bird─partridge\n",
      "                      │                 └pigeon─dove─turtledove\n",
      "                      │            ┌swan\n",
      "                 ┌bird┼aquatic_bird┼heron─bittern\n",
      "                 │    │            └waterfowl─duck\n",
      "                 │    ├cuckoo\n",
      "                 │    └bird_of_prey─eagle\n",
      "                 │                ┌feline─cat\n",
      "                 │                │      ┌wolf\n",
      "                 │      ┌carnivore┼canine┤\n",
      "                 │      │         │      └dog\n",
      "                 │      │         └musteline_mammal─weasel\n",
      "                 │      │        ┌goat\n",
      "                 │      │        │      ┌cow\n",
      "                 │      │        ├cattle┼beef\n",
      "                 │      │        │      └ox\n",
      "                 │      ├ruminant┤\n",
      "                 │      │        ├sheep─ewe\n",
      "                 │      │        └deer─hart\n",
      "                 │      │      ┌horse\n",
      "                 │      ├equine┤\n",
      "                 │      │      └mule\n",
      "                 │      │      ┌dormouse\n",
      "                 │      │      ├porcupine\n",
      "                 │      ├rodent┼rat\n",
      "                 │      │      ├squirrel\n",
      "                 │      │      └mouse\n",
      "                 ├mammal┤\n",
      "                 │      ├swine─hog\n",
      "                 │      ├bat\n",
      "                 │      ├rabbit\n",
      "                 │      └primate─homo\n",
      "                 │    ┌bowfin\n",
      "      ┌vertebrate┼fish┤\n",
      "      │          │    └cod\n",
      "      │          │       ┌snake─viper\n",
      "      │          ├reptile┼saurian─lizard─dragon\n",
      "      │          │       └turtle\n",
      "      │          │         ┌salamander─waterdog\n",
      "      │          └amphibian┤\n",
      "      │                    └frog\n",
      "      │                             ┌louse\n",
      "      │                             ├hymenopterous_insect─ant\n",
      "      │                             ├dipterous_insect─fly\n",
      "      │                      ┌insect┼flea\n",
      "      │                      │      ├grasshopper\n",
      "      │                      │      ├homopterous_insect─cicada\n",
      "      │                      │      └lepidopterous_insect─butterfly\n",
      "      │                      │          ┌crab\n",
      "      │            ┌arthropod┼crustacean┤\n",
      "      │            │         │          └crayfish\n",
      "      │            │         └arachnid─spider\n",
      "      ├invertebrate┼worm─earthworm\n",
      "      │            │               ┌oyster\n",
      "      │            │       ┌bivalve┤\n",
      "      │            │       │       └mussel\n",
      "      │            └mollusk┼gastropod─snail\n",
      "      │                    └cephalopod─cuttlefish\n",
      "animal┤\n",
      "      │                  ┌lamb\n",
      "      ├young─young_mammal┼calf\n",
      "      │                  └foal─colt\n",
      "      │     ┌caterpillar─silkworm\n",
      "      └larva┤\n",
      "            └mealworm\n"
     ]
    },
    {
     "data": {
      "text/plain": [
       "<__main__.print_custom_tree at 0x27ba3245d88>"
      ]
     },
     "execution_count": 15,
     "metadata": {},
     "output_type": "execute_result"
    }
   ],
   "source": [
    "animaln = Node('animal', None)\n",
    "visited = []\n",
    "skipped=0\n",
    "\n",
    "for animals in simple_terms :\n",
    "    if animals not in ['bombicum','og','verdaule','tellin','petit-gri','aucupio','daot','shell','mutton','barbel','pork']:   #not in wordnet or not in tree\n",
    "        if animals == \"turtledofe\" :\n",
    "            animals = \"turtledove\"\n",
    "        elif animals in [\"calendra\",'calandra']:\n",
    "            animals = 'lark'\n",
    "        elif animals == 'water-dog':\n",
    "            animals = 'waterdog'\n",
    "        if animals in ['weasel','hog','turtle','cuckoo','codfish','mussel','chicken','goldfinch','turtledove','linnet']: #first meaning is not the animal. Birds tend to have another bird as first meaning\n",
    "            ani = wn.synsets(animals)[1]\n",
    "        elif animals in ['ewe','swallow','crayfish','partridge','hart','lark']:  #have to go to third meaning to get the animal\n",
    "             ani = wn.synsets(animals)[2]\n",
    "        elif animals in ['dragon']: #the mythical creature does not have a link to animal. This is \"any of several small tropical Asian lizards capable of gliding by spreading winglike membranes on each side of the body\"\n",
    "            ani = wn.synsets(animals)[3]\n",
    "            print(ani.definition())\n",
    "        else :\n",
    "            ani = wn.synsets(animals)[0]\n",
    "        an = r_node(ani)\n",
    "        lis = an.return_animal_path()[0]\n",
    "        for i in range (1,len(lis)):\n",
    "            name = lis[i].name().split('.')[0]\n",
    "            if name in ['even-toed_ungulate','odd-toed_ungulate','orthopterous_insect','chordate','placental','ungulate','thrush','oscine','leporid','lagomorph','decapod_crustacean','chordate','diapsid','anapsid','chelonian','bovid','bovine',\"anseriform_bird\",'wading_bird','columbiform_bird','corvine_bird','cuculiform_bird','aquatic_vertebrate','bony_fish','teleost_fish','gadoid','ganoid','annelid','oligochaete','decapod','soft-finned_fish','phasianid','ambystomid','red_deer','hominid','agamid']: #- make everything go boom also things I don't care about\n",
    "                skipped+=1\n",
    "                visited.append(name)\n",
    "            elif name not in visited :\n",
    "                name_prec = lis[i-1-skipped].name().split('.')[0]\n",
    "                skipped=0\n",
    "                string = name+'n'+' = Node(name,'+ name_prec+'n)'\n",
    "                exec(string)\n",
    "                visited.append(name)\n",
    "            else :\n",
    "                skipped=0\n",
    "\n",
    "print_custom_tree(animaln) "
   ]
  },
  {
   "cell_type": "code",
   "execution_count": null,
   "metadata": {},
   "outputs": [],
   "source": []
  }
 ],
 "metadata": {
  "kernelspec": {
   "display_name": "Python 3",
   "language": "python",
   "name": "python3"
  },
  "language_info": {
   "codemirror_mode": {
    "name": "ipython",
    "version": 3
   },
   "file_extension": ".py",
   "mimetype": "text/x-python",
   "name": "python",
   "nbconvert_exporter": "python",
   "pygments_lexer": "ipython3",
   "version": "3.7.6"
  }
 },
 "nbformat": 4,
 "nbformat_minor": 4
}
