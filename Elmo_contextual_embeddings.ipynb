{
 "cells": [
  {
   "cell_type": "markdown",
   "metadata": {
    "colab_type": "text",
    "id": "ZU3MR71VpovV"
   },
   "source": [
    "# ELMo\n",
    "\n",
    "The point of this notebook is to associate sentences with vectors so as to be able to compare them semantically uing the machine. It is very memory heavy and to run it you might have to use digitalocean"
   ]
  },
  {
   "cell_type": "markdown",
   "metadata": {
    "colab_type": "text",
    "id": "-q8JYD36CdYr"
   },
   "source": [
    "## Imports:\n",
    "\n",
    "packages needed for this notebook : numpy pandas tensorflow tensorflow_hub scikit-learn spacy ipython chart_studio"
   ]
  },
  {
   "cell_type": "code",
   "execution_count": 4,
   "metadata": {
    "colab": {
     "base_uri": "https://localhost:8080/",
     "height": 423
    },
    "colab_type": "code",
    "id": "_Qgy7Jmr5wSx",
    "outputId": "594fd358-683d-45bd-effc-ee3661527aa2"
   },
   "outputs": [],
   "source": [
    "import os\n",
    "import numpy as np\n",
    "import pandas as pd\n",
    "import tensorflow as tf\n",
    "import tensorflow_hub as hub\n",
    "from sklearn import preprocessing\n"
   ]
  },
  {
   "cell_type": "markdown",
   "metadata": {},
   "source": [
    "If the below cell does not work on the first try, restart the kernel and try again"
   ]
  },
  {
   "cell_type": "code",
   "execution_count": 5,
   "metadata": {
    "tags": []
   },
   "outputs": [],
   "source": [
    "#!python3 -m spacy download en_core_web_md\n",
    "import spacy\n",
    "from spacy.lang.en import English\n",
    "from spacy import displacy\n",
    "nlp = spacy.load('en_core_web_md')"
   ]
  },
  {
   "cell_type": "code",
   "execution_count": 6,
   "metadata": {},
   "outputs": [],
   "source": [
    "from IPython.display import HTML\n",
    "import logging\n",
    "logging.getLogger('tensorflow').disabled = True #OPTIONAL - to disable outputs from Tensorflow"
   ]
  },
  {
   "cell_type": "markdown",
   "metadata": {
    "colab_type": "text",
    "id": "WMknjdZpCgR0"
   },
   "source": [
    "## Get the data \n",
    "\n",
    "We have a two options to do that\n"
   ]
  },
  {
   "cell_type": "markdown",
   "metadata": {},
   "source": [
    "## only get entries of certain categories\n",
    "\n",
    "Here we use the metadata found in m-k-manuscript-data/metadata/entry_metadata.csv to select entries with the proper category"
   ]
  },
  {
   "cell_type": "code",
   "execution_count": 8,
   "metadata": {
    "tags": []
   },
   "outputs": [
    {
     "output_type": "stream",
     "name": "stdout",
     "text": "120 33 48\n"
    },
    {
     "output_type": "execute_result",
     "data": {
      "text/plain": "    folio folio_display  div_id            categories  \\\n0    001r            1r  001r_1                 lists   \n1    001r            1r  001r_2                 lists   \n2    001r            1r  001r_3                 lists   \n3    001r            1r  001r_4                 lists   \n4    001v            1v  001v_1              medicine   \n..    ...           ...     ...                   ...   \n924  170r          170r  170r_6               casting   \n925  170v          170v  170v_1  manuscript structure   \n926  170v          170v  170v_2              medicine   \n927  170v          170v  170v_3              medicine   \n928  170v          170v  170v_4                 lists   \n\n                                heading_tc  \\\n0                          [Liste de noms]   \n1                                  [Liste]   \n2          [Liste de livres et d'autheurs]   \n3                        [Liste de livres]   \n4                   Pour lascher le ventre   \n..                                     ...   \n924                   Nettoyer moules clos   \n925  [Première page d'origine (1578–1579)]   \n926                           Contre peste   \n927                         Pour preserver   \n928                      [Liste de livres]   \n\n                               heading_tcn                         heading_tl  \\\n0                          [Liste de noms]                    [List of names]   \n1                                  [Liste]                             [List]   \n2          [Liste de livres et d'autheurs]        [List of books and authors]   \n3                        [Liste de livres]                    [List of books]   \n4                   Pour lascher le ventre            For loosening the belly   \n..                                     ...                                ...   \n924                   Nettoyer moules clos              Cleaning closed molds   \n925  [Première page d'origine (1578–1579)]  [Original first page (1578–1579)]   \n926                           Contre peste                     Against plague   \n927                         Pour preserver                     For preserving   \n928                      [Liste de livres]                    [List of books]   \n\n       al_tc   al_tcn    al_tl  ... it_tl  \\\n0        NaN      NaN      NaN  ...   NaN   \n1        NaN      NaN      NaN  ...   NaN   \n2    aucupio  aucupio  aucupio  ...   NaN   \n3        NaN      NaN      NaN  ...   NaN   \n4     poulet   poulet  chicken  ...   NaN   \n..       ...      ...      ...  ...   ...   \n924      NaN      NaN      NaN  ...   NaN   \n925      NaN      NaN      NaN  ...   NaN   \n926      NaN      NaN      NaN  ...   NaN   \n927      NaN      NaN      NaN  ...   NaN   \n928      NaN      NaN      NaN  ...   NaN   \n\n                                                 la_tc  \\\n0                                                  NaN   \n1                   sacra eleusinæ deæ propalare nefas   \n2    cum permultis aliis; in aeneidem; thebaidos; m...   \n3    aquatilium animalium historiæ hypolito salvian...   \n4                                                  NaN   \n..                                                 ...   \n924                                                NaN   \n925                                                NaN   \n926       othonis episcopi frisigensis ab orbe condito   \n927  acetum paratum ex ruta baccis juniperi simul t...   \n928  tilesius de coloribus vascosan; rerum scoticar...   \n\n                                                la_tcn  \\\n0                                                  NaN   \n1                sacra eleusinae deae propalare nefas.   \n2    cum permultis aliis; mathematicus ingolstadien...   \n3    aquatilium animalium historiae, hypolito salvi...   \n4                                                  NaN   \n..                                                 ...   \n924                                                NaN   \n925                                                NaN   \n926       othonis episcopi frisigensis ab orbe condito   \n927  hyeronimus mercurialis variarum; abbatis usper...   \n928  rembertus dodonaeus mechliniensis medicus, de ...   \n\n                                                 la_tl oc_tc oc_tcn oc_tl  \\\n0                                                  NaN   NaN    NaN   NaN   \n1                 sacra eleusinae deae propalare nefas   NaN    NaN   NaN   \n2    cum permultis aliis; mathematicus ingolstadien...   NaN    NaN   NaN   \n3    aquatilium animalium historiae, hypolito salvi...   NaN    NaN   NaN   \n4                                                  NaN   NaN    NaN   NaN   \n..                                                 ...   ...    ...   ...   \n924                                                NaN   NaN    NaN   NaN   \n925                                                NaN   NaN    NaN   NaN   \n926       othonis episcopi frisigensis ab orbe condito   NaN    NaN   NaN   \n927  hyeronimus mercurialis, variarum; abbatis ursp...   NaN    NaN   NaN   \n928  rembertus dodonaeus, mechliniensis medicus, de...   NaN    NaN   NaN   \n\n    po_tc po_tcn po_tl  \n0     NaN    NaN   NaN  \n1     NaN    NaN   NaN  \n2     NaN    NaN   NaN  \n3     NaN    NaN   NaN  \n4     NaN    NaN   NaN  \n..    ...    ...   ...  \n924   NaN    NaN   NaN  \n925   NaN    NaN   NaN  \n926   NaN    NaN   NaN  \n927   NaN    NaN   NaN  \n928   NaN    NaN   NaN  \n\n[929 rows x 76 columns]",
      "text/html": "<div>\n<style scoped>\n    .dataframe tbody tr th:only-of-type {\n        vertical-align: middle;\n    }\n\n    .dataframe tbody tr th {\n        vertical-align: top;\n    }\n\n    .dataframe thead th {\n        text-align: right;\n    }\n</style>\n<table border=\"1\" class=\"dataframe\">\n  <thead>\n    <tr style=\"text-align: right;\">\n      <th></th>\n      <th>folio</th>\n      <th>folio_display</th>\n      <th>div_id</th>\n      <th>categories</th>\n      <th>heading_tc</th>\n      <th>heading_tcn</th>\n      <th>heading_tl</th>\n      <th>al_tc</th>\n      <th>al_tcn</th>\n      <th>al_tl</th>\n      <th>...</th>\n      <th>it_tl</th>\n      <th>la_tc</th>\n      <th>la_tcn</th>\n      <th>la_tl</th>\n      <th>oc_tc</th>\n      <th>oc_tcn</th>\n      <th>oc_tl</th>\n      <th>po_tc</th>\n      <th>po_tcn</th>\n      <th>po_tl</th>\n    </tr>\n  </thead>\n  <tbody>\n    <tr>\n      <th>0</th>\n      <td>001r</td>\n      <td>1r</td>\n      <td>001r_1</td>\n      <td>lists</td>\n      <td>[Liste de noms]</td>\n      <td>[Liste de noms]</td>\n      <td>[List of names]</td>\n      <td>NaN</td>\n      <td>NaN</td>\n      <td>NaN</td>\n      <td>...</td>\n      <td>NaN</td>\n      <td>NaN</td>\n      <td>NaN</td>\n      <td>NaN</td>\n      <td>NaN</td>\n      <td>NaN</td>\n      <td>NaN</td>\n      <td>NaN</td>\n      <td>NaN</td>\n      <td>NaN</td>\n    </tr>\n    <tr>\n      <th>1</th>\n      <td>001r</td>\n      <td>1r</td>\n      <td>001r_2</td>\n      <td>lists</td>\n      <td>[Liste]</td>\n      <td>[Liste]</td>\n      <td>[List]</td>\n      <td>NaN</td>\n      <td>NaN</td>\n      <td>NaN</td>\n      <td>...</td>\n      <td>NaN</td>\n      <td>sacra eleusinæ deæ propalare nefas</td>\n      <td>sacra eleusinae deae propalare nefas.</td>\n      <td>sacra eleusinae deae propalare nefas</td>\n      <td>NaN</td>\n      <td>NaN</td>\n      <td>NaN</td>\n      <td>NaN</td>\n      <td>NaN</td>\n      <td>NaN</td>\n    </tr>\n    <tr>\n      <th>2</th>\n      <td>001r</td>\n      <td>1r</td>\n      <td>001r_3</td>\n      <td>lists</td>\n      <td>[Liste de livres et d'autheurs]</td>\n      <td>[Liste de livres et d'autheurs]</td>\n      <td>[List of books and authors]</td>\n      <td>aucupio</td>\n      <td>aucupio</td>\n      <td>aucupio</td>\n      <td>...</td>\n      <td>NaN</td>\n      <td>cum permultis aliis; in aeneidem; thebaidos; m...</td>\n      <td>cum permultis aliis; mathematicus ingolstadien...</td>\n      <td>cum permultis aliis; mathematicus ingolstadien...</td>\n      <td>NaN</td>\n      <td>NaN</td>\n      <td>NaN</td>\n      <td>NaN</td>\n      <td>NaN</td>\n      <td>NaN</td>\n    </tr>\n    <tr>\n      <th>3</th>\n      <td>001r</td>\n      <td>1r</td>\n      <td>001r_4</td>\n      <td>lists</td>\n      <td>[Liste de livres]</td>\n      <td>[Liste de livres]</td>\n      <td>[List of books]</td>\n      <td>NaN</td>\n      <td>NaN</td>\n      <td>NaN</td>\n      <td>...</td>\n      <td>NaN</td>\n      <td>aquatilium animalium historiæ hypolito salvian...</td>\n      <td>aquatilium animalium historiae, hypolito salvi...</td>\n      <td>aquatilium animalium historiae, hypolito salvi...</td>\n      <td>NaN</td>\n      <td>NaN</td>\n      <td>NaN</td>\n      <td>NaN</td>\n      <td>NaN</td>\n      <td>NaN</td>\n    </tr>\n    <tr>\n      <th>4</th>\n      <td>001v</td>\n      <td>1v</td>\n      <td>001v_1</td>\n      <td>medicine</td>\n      <td>Pour lascher le ventre</td>\n      <td>Pour lascher le ventre</td>\n      <td>For loosening the belly</td>\n      <td>poulet</td>\n      <td>poulet</td>\n      <td>chicken</td>\n      <td>...</td>\n      <td>NaN</td>\n      <td>NaN</td>\n      <td>NaN</td>\n      <td>NaN</td>\n      <td>NaN</td>\n      <td>NaN</td>\n      <td>NaN</td>\n      <td>NaN</td>\n      <td>NaN</td>\n      <td>NaN</td>\n    </tr>\n    <tr>\n      <th>...</th>\n      <td>...</td>\n      <td>...</td>\n      <td>...</td>\n      <td>...</td>\n      <td>...</td>\n      <td>...</td>\n      <td>...</td>\n      <td>...</td>\n      <td>...</td>\n      <td>...</td>\n      <td>...</td>\n      <td>...</td>\n      <td>...</td>\n      <td>...</td>\n      <td>...</td>\n      <td>...</td>\n      <td>...</td>\n      <td>...</td>\n      <td>...</td>\n      <td>...</td>\n      <td>...</td>\n    </tr>\n    <tr>\n      <th>924</th>\n      <td>170r</td>\n      <td>170r</td>\n      <td>170r_6</td>\n      <td>casting</td>\n      <td>Nettoyer moules clos</td>\n      <td>Nettoyer moules clos</td>\n      <td>Cleaning closed molds</td>\n      <td>NaN</td>\n      <td>NaN</td>\n      <td>NaN</td>\n      <td>...</td>\n      <td>NaN</td>\n      <td>NaN</td>\n      <td>NaN</td>\n      <td>NaN</td>\n      <td>NaN</td>\n      <td>NaN</td>\n      <td>NaN</td>\n      <td>NaN</td>\n      <td>NaN</td>\n      <td>NaN</td>\n    </tr>\n    <tr>\n      <th>925</th>\n      <td>170v</td>\n      <td>170v</td>\n      <td>170v_1</td>\n      <td>manuscript structure</td>\n      <td>[Première page d'origine (1578–1579)]</td>\n      <td>[Première page d'origine (1578–1579)]</td>\n      <td>[Original first page (1578–1579)]</td>\n      <td>NaN</td>\n      <td>NaN</td>\n      <td>NaN</td>\n      <td>...</td>\n      <td>NaN</td>\n      <td>NaN</td>\n      <td>NaN</td>\n      <td>NaN</td>\n      <td>NaN</td>\n      <td>NaN</td>\n      <td>NaN</td>\n      <td>NaN</td>\n      <td>NaN</td>\n      <td>NaN</td>\n    </tr>\n    <tr>\n      <th>926</th>\n      <td>170v</td>\n      <td>170v</td>\n      <td>170v_2</td>\n      <td>medicine</td>\n      <td>Contre peste</td>\n      <td>Contre peste</td>\n      <td>Against plague</td>\n      <td>NaN</td>\n      <td>NaN</td>\n      <td>NaN</td>\n      <td>...</td>\n      <td>NaN</td>\n      <td>othonis episcopi frisigensis ab orbe condito</td>\n      <td>othonis episcopi frisigensis ab orbe condito</td>\n      <td>othonis episcopi frisigensis ab orbe condito</td>\n      <td>NaN</td>\n      <td>NaN</td>\n      <td>NaN</td>\n      <td>NaN</td>\n      <td>NaN</td>\n      <td>NaN</td>\n    </tr>\n    <tr>\n      <th>927</th>\n      <td>170v</td>\n      <td>170v</td>\n      <td>170v_3</td>\n      <td>medicine</td>\n      <td>Pour preserver</td>\n      <td>Pour preserver</td>\n      <td>For preserving</td>\n      <td>NaN</td>\n      <td>NaN</td>\n      <td>NaN</td>\n      <td>...</td>\n      <td>NaN</td>\n      <td>acetum paratum ex ruta baccis juniperi simul t...</td>\n      <td>hyeronimus mercurialis variarum; abbatis usper...</td>\n      <td>hyeronimus mercurialis, variarum; abbatis ursp...</td>\n      <td>NaN</td>\n      <td>NaN</td>\n      <td>NaN</td>\n      <td>NaN</td>\n      <td>NaN</td>\n      <td>NaN</td>\n    </tr>\n    <tr>\n      <th>928</th>\n      <td>170v</td>\n      <td>170v</td>\n      <td>170v_4</td>\n      <td>lists</td>\n      <td>[Liste de livres]</td>\n      <td>[Liste de livres]</td>\n      <td>[List of books]</td>\n      <td>NaN</td>\n      <td>NaN</td>\n      <td>NaN</td>\n      <td>...</td>\n      <td>NaN</td>\n      <td>tilesius de coloribus vascosan; rerum scoticar...</td>\n      <td>rembertus dodonaeus mechliniensis medicus, de ...</td>\n      <td>rembertus dodonaeus, mechliniensis medicus, de...</td>\n      <td>NaN</td>\n      <td>NaN</td>\n      <td>NaN</td>\n      <td>NaN</td>\n      <td>NaN</td>\n      <td>NaN</td>\n    </tr>\n  </tbody>\n</table>\n<p>929 rows × 76 columns</p>\n</div>"
     },
     "metadata": {},
     "execution_count": 8
    }
   ],
   "source": [
    "metadata=pd.read_csv(os.getcwd() + '/../metadata/entry_metadata.csv')\n",
    "painting_entries=[]\n",
    "varnish_entries=[]\n",
    "armor_entries=[]\n",
    "for i in range(929):\n",
    "    if metadata['categories'][i]=='painting':\n",
    "        painting_entries.append(metadata['div_id'][i])\n",
    "    if metadata['categories'][i]=='varnish':\n",
    "        varnish_entries.append(metadata['div_id'][i])\n",
    "    if metadata['categories'][i]=='arms and armor':\n",
    "        armor_entries.append(metadata['div_id'][i])\n",
    "\n",
    "\n",
    "entries"
   ]
  },
  {
   "cell_type": "code",
   "execution_count": 9,
   "metadata": {
    "tags": []
   },
   "outputs": [],
   "source": [
    "text=''\n",
    "for entry in painting_entries:\n",
    "    fil = open(os.getcwd() + '/../entries/txt/tl/tl_'+entry+'.txt')\n",
    "    text = text + fil.read()\n",
    "    fil.close()\n",
    "for entry in armor_entries:\n",
    "    fil = open(os.getcwd() + '/../entries/txt/tl/tl_'+entry+'.txt')\n",
    "    text = text + fil.read()\n",
    "    fil.close()"
   ]
  },
  {
   "cell_type": "markdown",
   "metadata": {},
   "source": [
    "## don't discriminate by entry and just get the full text\n",
    "\n",
    "for that we take the full untagged txt file in m-k-manuscript-data/allFolios/txt/all_tl.txt"
   ]
  },
  {
   "cell_type": "code",
   "execution_count": 7,
   "metadata": {},
   "outputs": [],
   "source": [
    "fileo = open(os.getcwd()+'/../allFolios/txt/all_tl.txt','r',encoding='utf-8')\n",
    "text=fileo.read()\n",
    "fileo.close()"
   ]
  },
  {
   "cell_type": "markdown",
   "metadata": {
    "colab_type": "text",
    "id": "FxkL4RXwVToa"
   },
   "source": [
    "## Create sentence embeddings"
   ]
  },
  {
   "cell_type": "code",
   "execution_count": 8,
   "metadata": {
    "colab": {},
    "colab_type": "code",
    "id": "UIhHrFsmOC6C",
    "tags": []
   },
   "outputs": [],
   "source": [
    "url = \"https://tfhub.dev/google/elmo/3\"\n",
    "path2=os.getcwd()+\"/ELMo2\"\n",
    "path3=os.getcwd()+\"/ELMo3\"  #these were backup plans when the caching of the online model stopped working\n",
    "embed = hub.Module(url)"
   ]
  },
  {
   "cell_type": "code",
   "execution_count": 9,
   "metadata": {
    "colab": {
     "base_uri": "https://localhost:8080/",
     "height": 34
    },
    "colab_type": "code",
    "id": "AU_MS6MXVe_L",
    "outputId": "9be10b70-5ec5-4cd4-bd80-6273878ddecd",
    "tags": []
   },
   "outputs": [
    {
     "output_type": "execute_result",
     "data": {
      "text/plain": "100"
     },
     "metadata": {},
     "execution_count": 9
    }
   ],
   "source": [
    "import re\n",
    "\n",
    "text = text.lower().replace('\\n', ' ').replace('\\t', ' ').replace('\\xa0',' ').replace('&amp;','&')\n",
    "text = ' '.join(text.split())\n",
    "doc = nlp(text)\n",
    "\n",
    "counter=0\n",
    "sentences = []\n",
    "for i in doc.sents:\n",
    "  if len(i)>1 and counter<100:   #the counter here ensures that the data you want to encode is not too big for your memory, adjust it to your needs\n",
    "    sentences.append(i.string.strip())\n",
    "    counter+=1\n",
    "    \n",
    "len(sentences)"
   ]
  },
  {
   "cell_type": "markdown",
   "metadata": {},
   "source": [
    "Here we visualize the sentences to make sure that they were properly cut"
   ]
  },
  {
   "cell_type": "code",
   "execution_count": 8,
   "metadata": {
    "colab": {
     "base_uri": "https://localhost:8080/",
     "height": 205
    },
    "colab_type": "code",
    "id": "SjGbrUhapvXE",
    "outputId": "4598cf69-e8de-477b-debb-991dbe9bd799"
   },
   "outputs": [
    {
     "output_type": "execute_result",
     "data": {
      "text/plain": "['venice masks are made with the hollow & the male face of copper.',\n 'the flemish do not use any whites for flesh colors in oil other than lead white because the ceruse turns yellow.',\n '4 or 5 year-old walnut oil which is clear is the best color, it keeps off dust.',\n 'the kind which has recently been drawn with the press in the manner of almond oil is white, especially if the walnutsâ€™ skin is removed.',\n 'one needs to make at least three layers of flesh color to accomplish faces in oil.',\n 'and at the beginning, one puts the black and umber where it is appropriate.',\n 'next, the heightening with lead white must not be put on the black.',\n 'flesh colors, and where the ceruse enters will yellow in five or six months, but lead white does not change.',\n 'florence lake is better than that from flanders for in florence the best dyes are made.',\n 'to make a beautiful flesh color, the reddest & liveliest lake is the best, for the kind that contains purple & violet, by admixture of too much alum, makes flesh color like that of one who is very cold.']"
     },
     "metadata": {},
     "execution_count": 8
    }
   ],
   "source": [
    "sentences[110:120]"
   ]
  },
  {
   "cell_type": "code",
   "execution_count": 10,
   "metadata": {
    "colab": {
     "base_uri": "https://localhost:8080/",
     "height": 195
    },
    "colab_type": "code",
    "id": "HsGkzCltOMOl",
    "outputId": "3622cbd4-f88c-4ad0-b745-e0a8560ad59b",
    "tags": []
   },
   "outputs": [],
   "source": [
    "embeddings = embed(\n",
    "    sentences,\n",
    "    signature=\"default\",\n",
    "    as_dict=True)[\"default\"]"
   ]
  },
  {
   "cell_type": "markdown",
   "metadata": {},
   "source": [
    "The cell that requires a lot of memory is the below cell"
   ]
  },
  {
   "cell_type": "code",
   "execution_count": 11,
   "metadata": {
    "colab": {
     "base_uri": "https://localhost:8080/",
     "height": 51
    },
    "colab_type": "code",
    "id": "oA6BO4a_Oswf",
    "outputId": "13433258-113e-433e-94a2-b61cb44caf13",
    "tags": []
   },
   "outputs": [
    {
     "output_type": "stream",
     "name": "stdout",
     "text": "(100, 1024)\nWall time: 26.5 s\n"
    }
   ],
   "source": [
    "%%time\n",
    "gpu_options = tf.GPUOptions(allow_growth=True) \n",
    "with tf.Session(config=tf.ConfigProto(gpu_options=gpu_options)) as sess:\n",
    "  sess.run(tf.global_variables_initializer())\n",
    "  sess.run(tf.tables_initializer())\n",
    "  x = sess.run(embeddings)"
   ]
  },
  {
   "cell_type": "markdown",
   "metadata": {
    "colab_type": "text",
    "id": "Qwlt2Husrtzo"
   },
   "source": [
    "## Visualize the sentences using PCA and TSNE"
   ]
  },
  {
   "cell_type": "code",
   "execution_count": 16,
   "metadata": {
    "colab": {},
    "colab_type": "code",
    "id": "xAGj0yJyUD3W",
    "tags": []
   },
   "outputs": [],
   "source": [
    "from sklearn.decomposition import PCA\n",
    "\n",
    "pca = PCA(n_components=50)\n",
    "y = pca.fit_transform(x)\n",
    "from sklearn.manifold import TSNE\n",
    "\n",
    "y = TSNE(n_components=2).fit_transform(y)"
   ]
  },
  {
   "cell_type": "code",
   "execution_count": 17,
   "metadata": {
    "colab": {
     "base_uri": "https://localhost:8080/",
     "height": 17
    },
    "colab_type": "code",
    "id": "KGUyrjcMfdJp",
    "outputId": "d71380cd-1775-47fb-95af-ac5d0711a505"
   },
   "outputs": [
    {
     "output_type": "display_data",
     "data": {
      "text/html": "        <script type=\"text/javascript\">\n        window.PlotlyConfig = {MathJaxConfig: 'local'};\n        if (window.MathJax) {MathJax.Hub.Config({SVG: {font: \"STIX-Web\"}});}\n        if (typeof require !== 'undefined') {\n        require.undef(\"plotly\");\n        requirejs.config({\n            paths: {\n                'plotly': ['https://cdn.plot.ly/plotly-latest.min']\n            }\n        });\n        require(['plotly'], function(Plotly) {\n            window._Plotly = Plotly;\n        });\n        }\n        </script>\n        "
     },
     "metadata": {}
    }
   ],
   "source": [
    "import chart_studio.plotly as py\n",
    "import plotly.graph_objs as go\n",
    "from plotly.offline import download_plotlyjs, init_notebook_mode, plot, iplot\n",
    "\n",
    "init_notebook_mode(connected=True)\n",
    "\n",
    "\n",
    "data = [\n",
    "    go.Scatter(\n",
    "        x=[i[0] for i in y],\n",
    "        y=[i[1] for i in y],\n",
    "        mode='markers',\n",
    "        text=[i for i in sentences],\n",
    "    marker=dict(\n",
    "        size=16,\n",
    "        color = [len(i) for i in sentences], #set color equal to a variable\n",
    "        opacity= 0.8,\n",
    "        colorscale='Viridis',\n",
    "        showscale=False\n",
    "    )\n",
    "    )\n",
    "]\n",
    "layout = go.Layout()\n",
    "layout = dict(\n",
    "              yaxis = dict(zeroline = False),\n",
    "              xaxis = dict(zeroline = False)\n",
    "             )\n",
    "fig = go.Figure(data=data, layout=layout)\n",
    "file = plot(fig, filename='Sentence_encode/test.html')"
   ]
  },
  {
   "cell_type": "markdown",
   "metadata": {
    "colab_type": "text",
    "id": "eAu1zHOjrzzj"
   },
   "source": [
    "## Create a semantic search engine:"
   ]
  },
  {
   "cell_type": "markdown",
   "metadata": {},
   "source": [
    "Enter a set of words to find matching sentences. 'results_returned' can be used to modify the number of matching sentences retured\n",
    "\n",
    "This will take tons of memory again"
   ]
  },
  {
   "cell_type": "code",
   "execution_count": 25,
   "metadata": {
    "cellView": "form",
    "colab": {
     "base_uri": "https://localhost:8080/",
     "height": 183
    },
    "colab_type": "code",
    "id": "HfgIfOxXQ8ba",
    "outputId": "0fb88e52-c62a-4b4e-9b63-ad3a276e492f",
    "tags": []
   },
   "outputs": [
    {
     "output_type": "stream",
     "name": "stdout",
     "text": "INFO:tensorflow:Saver not created because there are no variables in the graph to restore\n"
    },
    {
     "output_type": "display_data",
     "data": {
      "text/plain": "<IPython.core.display.HTML object>",
      "text/html": "<h3>Results:</h3><p style=\"font-family:verdana; font-size:110%;\">  mais cestuy</p><hr><p style=\"font-family:verdana; font-size:110%;\">  aprés mects</p><hr><p style=\"font-family:verdana; font-size:110%;\">  aprés mects dans</p><hr><p style=\"font-family:verdana; font-size:110%;\">  appianus athenaeus pausanias statius thebaidos servius <b>in</b> aeneidem</p><hr><p style=\"font-family:verdana; font-size:110%;\">  sacra eleusinae deae propalare nefas.</p><hr>"
     },
     "metadata": {}
    }
   ],
   "source": [
    "search_string = \"turpentine\" #@param {type:\"string\"}\n",
    "results_returned = \"5\" \n",
    "\n",
    "from sklearn.metrics.pairwise import cosine_similarity\n",
    "\n",
    "\n",
    "embeddings2 = embed(\n",
    "    [search_string],\n",
    "    signature=\"default\",\n",
    "    as_dict=True)[\"default\"]\n",
    "\n",
    "with tf.Session() as sess:\n",
    "  sess.run(tf.global_variables_initializer())\n",
    "  sess.run(tf.tables_initializer())\n",
    "  search_vect = sess.run(embeddings2)\n",
    "  \n",
    "\n",
    "cosine_similarities = pd.Series(cosine_similarity(search_vect, x).flatten())\n",
    "output =\"\"\n",
    "for i,j in cosine_similarities.nlargest(int(results_returned)).iteritems():\n",
    "  output +='<p style=\"font-family:verdana; font-size:110%;\"> '\n",
    "  for i in sentences[i].split():\n",
    "    if i.lower() in search_string:\n",
    "      output += \" <b>\"+str(i)+\"</b>\"\n",
    "    else:\n",
    "      output += \" \"+str(i)\n",
    "  output += \"</p><hr>\"\n",
    "    \n",
    "output = '<h3>Results:</h3>'+output\n",
    "display(HTML(output))\n",
    "#   print(sentences[i])\n",
    "#   print('\\n')\n"
   ]
  }
 ],
 "metadata": {
  "colab": {
   "collapsed_sections": [],
   "name": "Copie de Elmo contextual embeddings.ipynb",
   "provenance": []
  },
  "kernelspec": {
   "display_name": "Python 3",
   "language": "python",
   "name": "python3"
  },
  "language_info": {
   "codemirror_mode": {
    "name": "ipython",
    "version": 3
   },
   "file_extension": ".py",
   "mimetype": "text/x-python",
   "name": "python",
   "nbconvert_exporter": "python",
   "pygments_lexer": "ipython3",
   "version": "3.7.6"
  }
 },
 "nbformat": 4,
 "nbformat_minor": 1
}