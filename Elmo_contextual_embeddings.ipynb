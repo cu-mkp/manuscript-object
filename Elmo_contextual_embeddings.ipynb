{
  "cells": [
    {
      "cell_type": "markdown",
      "metadata": {
        "id": "ZU3MR71VpovV",
        "colab_type": "text"
      },
      "source": [
        "# ELMo\n",
        "\n",
        "Note that you will need to use the non-GPU accelerated run-time on this notebook due to the large memory useage of the ELMo model."
      ]
    },
    {
      "cell_type": "markdown",
      "metadata": {
        "id": "-q8JYD36CdYr",
        "colab_type": "text"
      },
      "source": [
        "## Imports:"
      ]
    },
    {
      "cell_type": "code",
      "metadata": {
        "id": "_Qgy7Jmr5wSx",
        "colab_type": "code",
        "colab": {
          "base_uri": "https://localhost:8080/",
          "height": 423
        },
        "outputId": "594fd358-683d-45bd-effc-ee3661527aa2"
      },
      "source": [
        "import os\n",
        "import numpy as np\n",
        "import pandas as pd\n",
        "import tensorflow as tf\n",
        "import tensorflow_hub as hub\n",
        "from sklearn import preprocessing"
      ],
      "execution_count": 1,
      "outputs": []
    },
    {
      "cell_type": "markdown",
      "metadata": {},
      "source": [
        "If the below cell does not work on first try, restart the kernel and try again"
      ]
    },
    {
      "cell_type": "code",
      "execution_count": 2,
      "metadata": {
        "tags": []
      },
      "outputs": [
        {
          "output_type": "stream",
          "name": "stdout",
          "text": "Requirement already satisfied: en_core_web_md==2.2.5 from https://github.com/explosion/spacy-models/releases/download/en_core_web_md-2.2.5/en_core_web_md-2.2.5.tar.gz#egg=en_core_web_md==2.2.5 in d:\\anaconda\\lib\\site-packages (2.2.5)\nRequirement already satisfied: spacy>=2.2.2 in d:\\anaconda\\lib\\site-packages (from en_core_web_md==2.2.5) (2.2.4)\nRequirement already satisfied: cymem<2.1.0,>=2.0.2 in d:\\anaconda\\lib\\site-packages (from spacy>=2.2.2->en_core_web_md==2.2.5) (2.0.3)\nRequirement already satisfied: thinc==7.4.0 in d:\\anaconda\\lib\\site-packages (from spacy>=2.2.2->en_core_web_md==2.2.5) (7.4.0)\nRequirement already satisfied: setuptools in d:\\anaconda\\lib\\site-packages (from spacy>=2.2.2->en_core_web_md==2.2.5) (45.2.0.post20200210)\nRequirement already satisfied: wasabi<1.1.0,>=0.4.0 in d:\\anaconda\\lib\\site-packages (from spacy>=2.2.2->en_core_web_md==2.2.5) (0.6.0)\nRequirement already satisfied: srsly<1.1.0,>=1.0.2 in d:\\anaconda\\lib\\site-packages (from spacy>=2.2.2->en_core_web_md==2.2.5) (1.0.2)\nRequirement already satisfied: blis<0.5.0,>=0.4.0 in d:\\anaconda\\lib\\site-packages (from spacy>=2.2.2->en_core_web_md==2.2.5) (0.4.1)\nRequirement already satisfied: murmurhash<1.1.0,>=0.28.0 in d:\\anaconda\\lib\\site-packages (from spacy>=2.2.2->en_core_web_md==2.2.5) (1.0.2)\nRequirement already satisfied: catalogue<1.1.0,>=0.0.7 in d:\\anaconda\\lib\\site-packages (from spacy>=2.2.2->en_core_web_md==2.2.5) (1.0.0)\nRequirement already satisfied: tqdm<5.0.0,>=4.38.0 in d:\\anaconda\\lib\\site-packages (from spacy>=2.2.2->en_core_web_md==2.2.5) (4.42.1)\nRequirement already satisfied: numpy>=1.15.0 in d:\\anaconda\\lib\\site-packages (from spacy>=2.2.2->en_core_web_md==2.2.5) (1.18.1)\nRequirement already satisfied: requests<3.0.0,>=2.13.0 in d:\\anaconda\\lib\\site-packages (from spacy>=2.2.2->en_core_web_md==2.2.5) (2.22.0)\nRequirement already satisfied: preshed<3.1.0,>=3.0.2 in d:\\anaconda\\lib\\site-packages (from spacy>=2.2.2->en_core_web_md==2.2.5) (3.0.2)\nRequirement already satisfied: plac<1.2.0,>=0.9.6 in d:\\anaconda\\lib\\site-packages (from spacy>=2.2.2->en_core_web_md==2.2.5) (1.1.3)\nRequirement already satisfied: importlib-metadata>=0.20; python_version < \"3.8\" in d:\\anaconda\\lib\\site-packages (from catalogue<1.1.0,>=0.0.7->spacy>=2.2.2->en_core_web_md==2.2.5) (1.5.0)\nRequirement already satisfied: chardet<3.1.0,>=3.0.2 in d:\\anaconda\\lib\\site-packages (from requests<3.0.0,>=2.13.0->spacy>=2.2.2->en_core_web_md==2.2.5) (3.0.4)\nRequirement already satisfied: idna<2.9,>=2.5 in d:\\anaconda\\lib\\site-packages (from requests<3.0.0,>=2.13.0->spacy>=2.2.2->en_core_web_md==2.2.5) (2.8)\nRequirement already satisfied: certifi>=2017.4.17 in d:\\anaconda\\lib\\site-packages (from requests<3.0.0,>=2.13.0->spacy>=2.2.2->en_core_web_md==2.2.5) (2019.11.28)\nRequirement already satisfied: urllib3!=1.25.0,!=1.25.1,<1.26,>=1.21.1 in d:\\anaconda\\lib\\site-packages (from requests<3.0.0,>=2.13.0->spacy>=2.2.2->en_core_web_md==2.2.5) (1.25.8)\nRequirement already satisfied: zipp>=0.5 in d:\\anaconda\\lib\\site-packages (from importlib-metadata>=0.20; python_version < \"3.8\"->catalogue<1.1.0,>=0.0.7->spacy>=2.2.2->en_core_web_md==2.2.5) (2.2.0)\n✔ Download and installation successful\nYou can now load the model via spacy.load('en_core_web_md')\n"
        }
      ],
      "source": [
        "!python -m spacy download en_core_web_md\n",
        "import spacy\n",
        "from spacy.lang.en import English\n",
        "from spacy import displacy\n",
        "nlp = spacy.load('en_core_web_md')"
      ]
    },
    {
      "cell_type": "code",
      "execution_count": 3,
      "metadata": {},
      "outputs": [],
      "source": [
        "from IPython.display import HTML\n",
        "import logging\n",
        "logging.getLogger('tensorflow').disabled = True #OPTIONAL - to disable outputs from Tensorflow"
      ]
    },
    {
      "cell_type": "markdown",
      "metadata": {
        "id": "WMknjdZpCgR0",
        "colab_type": "text"
      },
      "source": [
        "## Get the data \n",
        "\n",
        "The below downloads a Pandas Dataframe which is publically hosted on Google Drive (this should therefore work for anyone)\n",
        "\n",
        "(this is from an earlier version and serves no purpose but I'm keeping it because it looks cool)"
      ]
    },
    {
      "cell_type": "code",
      "metadata": {
        "id": "7_Oy1nXa6dLi",
        "colab_type": "code",
        "colab": {
          "base_uri": "https://localhost:8080/",
          "height": 414
        },
        "outputId": "3ddab1a4-3a92-49e5-fe13-c15b2e4dc08d"
      },
      "source": [
        "import requests\n",
        "\n",
        "def download_file_from_google_drive(id, destination):\n",
        "    URL = \"https://docs.google.com/uc?export=download\"\n",
        "\n",
        "    session = requests.Session()\n",
        "\n",
        "    response = session.get(URL, params = { 'id' : id }, stream = True)\n",
        "    token = get_confirm_token(response)\n",
        "\n",
        "    if token:\n",
        "        params = { 'id' : id, 'confirm' : token }\n",
        "        response = session.get(URL, params = params, stream = True)\n",
        "\n",
        "    save_response_content(response, destination)    \n",
        "\n",
        "def get_confirm_token(response):\n",
        "    for key, value in response.cookies.items():\n",
        "        if key.startswith('download_warning'):\n",
        "            return value\n",
        "\n",
        "    return None\n",
        "\n",
        "def save_response_content(response, destination):\n",
        "    CHUNK_SIZE = 32768\n",
        "\n",
        "    with open(destination, \"wb\") as f:\n",
        "        for chunk in response.iter_content(CHUNK_SIZE):\n",
        "            if chunk: # filter out keep-alive new chunks\n",
        "                f.write(chunk)\n",
        "\n",
        "\n",
        "file_id = '1M_XljfV5t_nGjvhyfTPO9n2nfOweMwYx'\n",
        "destination = 'temp'\n",
        "download_file_from_google_drive(file_id, destination)\n",
        "\n",
        "combined = pd.read_pickle('temp')\n",
        "\n",
        "combined.head()"
      ],
      "execution_count": 5,
      "outputs": [
        {
          "output_type": "execute_result",
          "data": {
            "text/plain": "           Company                                                URL  \\\n0    118 118 Money  https://www.118118money.com/anti-slavery-state...   \n1     1Spatial Plc  https://1spatial.com/who-we-are/legal/modern-s...   \n2  20/20 Projects   http://www.2020projects.co.uk/modernslaverypolicy   \n3  2M Holdings Ltd  https://www.2m-holdings.com/2m-holdings-ltd-mo...   \n4     3i Group plc  https://www.3i.com/media/3815/modern-slavery-s...   \n\n                         Industry              HQ Also Covers Companies  \\\n0                Consumer Finance  United Kingdom                   NaN   \n1                        Software  United Kingdom                   NaN   \n2  Commercial Services & Supplies  United Kingdom                   NaN   \n3                    Distributors  United Kingdom                   NaN   \n4                 Capital Markets  United Kingdom                   NaN   \n\n   UK Modern Slavery Act  California Transparency in Supply Chains Act  \\\n0                   True                                         False   \n1                   True                                         False   \n2                   True                                         False   \n3                   True                                         False   \n4                   True                                         False   \n\n  Period Covered                                               text  pdf  \\\n0      2016-2017  Introduction\\n\\nThis statement is made pursuan...    0   \n1           2017  While 1Spatial’s turnover is below £36m and th...    0   \n2      2015-2016                                         html error    0   \n3      2015-2016  Modern slavery is a crime resulting in an abho...    0   \n4      2017-2018                                     pdf error tika    1   \n\n   error                                           FT_tfidf  \n0      0  [-0.09019677307999371, 0.23825215930123844, 0....  \n1      0  [-0.5010607985753625, 0.42660413175930045, -0....  \n2      1  [0.9405487179756165, 0.40332984924316406, 0.70...  \n3      0  [-0.390252637821283, 0.488747594191321, -0.238...  \n4      1  [1.0879868624172204, 0.44540999591903685, 0.80...  ",
            "text/html": "<div>\n<style scoped>\n    .dataframe tbody tr th:only-of-type {\n        vertical-align: middle;\n    }\n\n    .dataframe tbody tr th {\n        vertical-align: top;\n    }\n\n    .dataframe thead th {\n        text-align: right;\n    }\n</style>\n<table border=\"1\" class=\"dataframe\">\n  <thead>\n    <tr style=\"text-align: right;\">\n      <th></th>\n      <th>Company</th>\n      <th>URL</th>\n      <th>Industry</th>\n      <th>HQ</th>\n      <th>Also Covers Companies</th>\n      <th>UK Modern Slavery Act</th>\n      <th>California Transparency in Supply Chains Act</th>\n      <th>Period Covered</th>\n      <th>text</th>\n      <th>pdf</th>\n      <th>error</th>\n      <th>FT_tfidf</th>\n    </tr>\n  </thead>\n  <tbody>\n    <tr>\n      <th>0</th>\n      <td>118 118 Money</td>\n      <td>https://www.118118money.com/anti-slavery-state...</td>\n      <td>Consumer Finance</td>\n      <td>United Kingdom</td>\n      <td>NaN</td>\n      <td>True</td>\n      <td>False</td>\n      <td>2016-2017</td>\n      <td>Introduction\\n\\nThis statement is made pursuan...</td>\n      <td>0</td>\n      <td>0</td>\n      <td>[-0.09019677307999371, 0.23825215930123844, 0....</td>\n    </tr>\n    <tr>\n      <th>1</th>\n      <td>1Spatial Plc</td>\n      <td>https://1spatial.com/who-we-are/legal/modern-s...</td>\n      <td>Software</td>\n      <td>United Kingdom</td>\n      <td>NaN</td>\n      <td>True</td>\n      <td>False</td>\n      <td>2017</td>\n      <td>While 1Spatial’s turnover is below £36m and th...</td>\n      <td>0</td>\n      <td>0</td>\n      <td>[-0.5010607985753625, 0.42660413175930045, -0....</td>\n    </tr>\n    <tr>\n      <th>2</th>\n      <td>20/20 Projects</td>\n      <td>http://www.2020projects.co.uk/modernslaverypolicy</td>\n      <td>Commercial Services &amp; Supplies</td>\n      <td>United Kingdom</td>\n      <td>NaN</td>\n      <td>True</td>\n      <td>False</td>\n      <td>2015-2016</td>\n      <td>html error</td>\n      <td>0</td>\n      <td>1</td>\n      <td>[0.9405487179756165, 0.40332984924316406, 0.70...</td>\n    </tr>\n    <tr>\n      <th>3</th>\n      <td>2M Holdings Ltd</td>\n      <td>https://www.2m-holdings.com/2m-holdings-ltd-mo...</td>\n      <td>Distributors</td>\n      <td>United Kingdom</td>\n      <td>NaN</td>\n      <td>True</td>\n      <td>False</td>\n      <td>2015-2016</td>\n      <td>Modern slavery is a crime resulting in an abho...</td>\n      <td>0</td>\n      <td>0</td>\n      <td>[-0.390252637821283, 0.488747594191321, -0.238...</td>\n    </tr>\n    <tr>\n      <th>4</th>\n      <td>3i Group plc</td>\n      <td>https://www.3i.com/media/3815/modern-slavery-s...</td>\n      <td>Capital Markets</td>\n      <td>United Kingdom</td>\n      <td>NaN</td>\n      <td>True</td>\n      <td>False</td>\n      <td>2017-2018</td>\n      <td>pdf error tika</td>\n      <td>1</td>\n      <td>1</td>\n      <td>[1.0879868624172204, 0.44540999591903685, 0.80...</td>\n    </tr>\n  </tbody>\n</table>\n</div>"
          },
          "metadata": {},
          "execution_count": 5
        }
      ]
    },
    {
      "cell_type": "markdown",
      "metadata": {
        "id": "FxkL4RXwVToa",
        "colab_type": "text"
      },
      "source": [
        "## Create sentence embeddings"
      ]
    },
    {
      "cell_type": "code",
      "metadata": {
        "id": "UIhHrFsmOC6C",
        "colab_type": "code",
        "colab": {}
      },
      "source": [
        "url = \"https://tfhub.dev/google/elmo/2\"\n",
        "embed = hub.Module(url)"
      ],
      "execution_count": 4,
      "outputs": []
    },
    {
      "cell_type": "code",
      "metadata": {
        "id": "Df76NYQcnQ3W",
        "colab_type": "code",
        "colab": {
          "base_uri": "https://localhost:8080/",
          "height": 278
        },
        "outputId": "5f507f4d-2d08-42a9-ab52-d7fcd5d12002"
      },
      "source": [
        "combined.loc[combined.Company.str.contains(\"Asos\")]"
      ],
      "execution_count": 7,
      "outputs": [
        {
          "output_type": "execute_result",
          "data": {
            "text/plain": "      Company                                                URL  \\\n494  Asos plc  https://www.asosplc.com/~/media/Files/A/Asos-V...   \n495  Asos plc  https://www.asosplc.com/~/media/Files/A/ASOS/r...   \n\n                               Industry              HQ Also Covers Companies  \\\n494  Internet & Direct Marketing Retail  United Kingdom                   NaN   \n495  Internet & Direct Marketing Retail  United Kingdom                   NaN   \n\n     UK Modern Slavery Act  California Transparency in Supply Chains Act  \\\n494                   True                                         False   \n495                   True                                         False   \n\n    Period Covered                                               text  pdf  \\\n494      2016-2018  \\n\\n\\n\\n\\n\\n\\n\\n\\n\\n\\n\\n\\n\\n\\n\\n\\n\\n\\n\\n\\n\\n\\n...    1   \n495      2015-2016  \\n\\n\\n\\n\\n\\n\\n\\n\\n\\n\\n\\n\\n\\n\\n\\n\\n\\n\\n\\n\\n\\n\\n...    1   \n\n     error                                           FT_tfidf  \n494      0  [-0.8573993510860287, 0.11926992131730585, -0....  \n495      0  [-0.6513810935113411, 0.04600498146602333, 0.0...  ",
            "text/html": "<div>\n<style scoped>\n    .dataframe tbody tr th:only-of-type {\n        vertical-align: middle;\n    }\n\n    .dataframe tbody tr th {\n        vertical-align: top;\n    }\n\n    .dataframe thead th {\n        text-align: right;\n    }\n</style>\n<table border=\"1\" class=\"dataframe\">\n  <thead>\n    <tr style=\"text-align: right;\">\n      <th></th>\n      <th>Company</th>\n      <th>URL</th>\n      <th>Industry</th>\n      <th>HQ</th>\n      <th>Also Covers Companies</th>\n      <th>UK Modern Slavery Act</th>\n      <th>California Transparency in Supply Chains Act</th>\n      <th>Period Covered</th>\n      <th>text</th>\n      <th>pdf</th>\n      <th>error</th>\n      <th>FT_tfidf</th>\n    </tr>\n  </thead>\n  <tbody>\n    <tr>\n      <th>494</th>\n      <td>Asos plc</td>\n      <td>https://www.asosplc.com/~/media/Files/A/Asos-V...</td>\n      <td>Internet &amp; Direct Marketing Retail</td>\n      <td>United Kingdom</td>\n      <td>NaN</td>\n      <td>True</td>\n      <td>False</td>\n      <td>2016-2018</td>\n      <td>\\n\\n\\n\\n\\n\\n\\n\\n\\n\\n\\n\\n\\n\\n\\n\\n\\n\\n\\n\\n\\n\\n\\n...</td>\n      <td>1</td>\n      <td>0</td>\n      <td>[-0.8573993510860287, 0.11926992131730585, -0....</td>\n    </tr>\n    <tr>\n      <th>495</th>\n      <td>Asos plc</td>\n      <td>https://www.asosplc.com/~/media/Files/A/ASOS/r...</td>\n      <td>Internet &amp; Direct Marketing Retail</td>\n      <td>United Kingdom</td>\n      <td>NaN</td>\n      <td>True</td>\n      <td>False</td>\n      <td>2015-2016</td>\n      <td>\\n\\n\\n\\n\\n\\n\\n\\n\\n\\n\\n\\n\\n\\n\\n\\n\\n\\n\\n\\n\\n\\n\\n...</td>\n      <td>1</td>\n      <td>0</td>\n      <td>[-0.6513810935113411, 0.04600498146602333, 0.0...</td>\n    </tr>\n  </tbody>\n</table>\n</div>"
          },
          "metadata": {},
          "execution_count": 7
        }
      ]
    },
    {
      "cell_type": "code",
      "metadata": {
        "id": "AU_MS6MXVe_L",
        "colab_type": "code",
        "colab": {
          "base_uri": "https://localhost:8080/",
          "height": 34
        },
        "outputId": "9be10b70-5ec5-4cd4-bd80-6273878ddecd",
        "tags": []
      },
      "source": [
        "#text = combined.iloc[494].text\n",
        "import re\n",
        "\n",
        "\n",
        "fileo = open('D:/danac/Documents/Info/M&K/m-k-manuscript-data/allFolios/txt/all_tl.txt','r',encoding='utf-8')\n",
        "text=fileo.read()\n",
        "fileo.close()\n",
        "\n",
        "text = text.lower().replace('\\n', ' ').replace('\\t', ' ').replace('\\xa0',' ')\n",
        "text = ' '.join(text.split())\n",
        "doc = nlp(text)\n",
        "\n",
        "counter=0\n",
        "sentences = []\n",
        "for i in doc.sents:\n",
        "  if len(i)>1 and counter<350:\n",
        "    sentences.append(i.string.strip())\n",
        "    counter+=1\n",
        "    \n",
        "len(sentences)"
      ],
      "execution_count": 5,
      "outputs": [
        {
          "output_type": "execute_result",
          "data": {
            "text/plain": "350"
          },
          "metadata": {},
          "execution_count": 5
        }
      ]
    },
    {
      "cell_type": "code",
      "metadata": {
        "id": "SjGbrUhapvXE",
        "colab_type": "code",
        "colab": {
          "base_uri": "https://localhost:8080/",
          "height": 205
        },
        "outputId": "4598cf69-e8de-477b-debb-991dbe9bd799"
      },
      "source": [
        "sentences[60:70]"
      ],
      "execution_count": 6,
      "outputs": [
        {
          "output_type": "execute_result",
          "data": {
            "text/plain": "['it could be made well without fire, but, when heated, it is more desiccative.',\n 'it is appropriate for panel paintings and other painted things without corrupting the colors or yellowing.',\n 'and it dries both in the shade and in the sun, and overnight, and during the winter as well as in the summer.',\n 'it is commonly sold 15 sous a lb.',\n 'a little more turpentine than turpentine oil is needed in order to give body to the varnish, which needs to be applied with the finger in order to spread it thinner and less thick, for when it is thick, it turns yellow and sticks.',\n 'one does not varnish to make paintings shine, for it just takes the light out of them.',\n 'but it is used to heighten colors which have soaked in and to keep them from dust.',\n 'mastic varnish does not resist rain, whereas that of oil and rosin does.',\n 'thick varnish for planks',\n 'there is a varnish that takes a long time to dry &amp;']"
          },
          "metadata": {},
          "execution_count": 6
        }
      ]
    },
    {
      "cell_type": "code",
      "metadata": {
        "id": "HsGkzCltOMOl",
        "colab_type": "code",
        "colab": {
          "base_uri": "https://localhost:8080/",
          "height": 195
        },
        "outputId": "3622cbd4-f88c-4ad0-b745-e0a8560ad59b"
      },
      "source": [
        "embeddings = embed(\n",
        "    sentences,\n",
        "    signature=\"default\",\n",
        "    as_dict=True)[\"default\"]"
      ],
      "execution_count": 7,
      "outputs": []
    },
    {
      "cell_type": "code",
      "metadata": {
        "id": "oA6BO4a_Oswf",
        "colab_type": "code",
        "colab": {
          "base_uri": "https://localhost:8080/",
          "height": 51
        },
        "outputId": "13433258-113e-433e-94a2-b61cb44caf13",
        "tags": []
      },
      "source": [
        "%%time\n",
        "with tf.Session() as sess:\n",
        "  sess.run(tf.global_variables_initializer())\n",
        "  sess.run(tf.tables_initializer())\n",
        "  x = sess.run(embeddings)"
      ],
      "execution_count": 8,
      "outputs": [
        {
          "output_type": "stream",
          "name": "stdout",
          "text": "Wall time: 1min 14s\n"
        }
      ]
    },
    {
      "cell_type": "markdown",
      "metadata": {
        "colab_type": "text",
        "id": "Qwlt2Husrtzo"
      },
      "source": [
        "## Visualize the sentences using PCA and TSNE"
      ]
    },
    {
      "cell_type": "code",
      "metadata": {
        "id": "xAGj0yJyUD3W",
        "colab_type": "code",
        "colab": {}
      },
      "source": [
        "from sklearn.decomposition import PCA\n",
        "\n",
        "pca = PCA(n_components=50)\n",
        "y = pca.fit_transform(x)\n",
        "\n",
        "from sklearn.manifold import TSNE\n",
        "\n",
        "y = TSNE(n_components=2).fit_transform(y)"
      ],
      "execution_count": 9,
      "outputs": []
    },
    {
      "cell_type": "code",
      "metadata": {
        "id": "KGUyrjcMfdJp",
        "colab_type": "code",
        "colab": {
          "base_uri": "https://localhost:8080/",
          "height": 17
        },
        "outputId": "d71380cd-1775-47fb-95af-ac5d0711a505"
      },
      "source": [
        "import plotly.plotly as py\n",
        "import plotly.graph_objs as go\n",
        "from plotly.offline import download_plotlyjs, init_notebook_mode, plot, iplot\n",
        "\n",
        "init_notebook_mode(connected=True)\n",
        "\n",
        "\n",
        "data = [\n",
        "    go.Scatter(\n",
        "        x=[i[0] for i in y],\n",
        "        y=[i[1] for i in y],\n",
        "        mode='markers',\n",
        "        text=[i for i in sentences],\n",
        "    marker=dict(\n",
        "        size=16,\n",
        "        color = [len(i) for i in sentences], #set color equal to a variable\n",
        "        opacity= 0.8,\n",
        "        colorscale='Viridis',\n",
        "        showscale=False\n",
        "    )\n",
        "    )\n",
        "]\n",
        "layout = go.Layout()\n",
        "layout = dict(\n",
        "              yaxis = dict(zeroline = False),\n",
        "              xaxis = dict(zeroline = False)\n",
        "             )\n",
        "fig = go.Figure(data=data, layout=layout)\n",
        "file = plot(fig, filename='Sentence encode.html')"
      ],
      "execution_count": 10,
      "outputs": [
        {
          "output_type": "display_data",
          "data": {
            "text/html": "        <script type=\"text/javascript\">\n        window.PlotlyConfig = {MathJaxConfig: 'local'};\n        if (window.MathJax) {MathJax.Hub.Config({SVG: {font: \"STIX-Web\"}});}\n        if (typeof require !== 'undefined') {\n        require.undef(\"plotly\");\n        requirejs.config({\n            paths: {\n                'plotly': ['https://cdn.plot.ly/plotly-latest.min']\n            }\n        });\n        require(['plotly'], function(Plotly) {\n            window._Plotly = Plotly;\n        });\n        }\n        </script>\n        "
          },
          "metadata": {}
        }
      ]
    },
    {
      "cell_type": "markdown",
      "metadata": {
        "id": "eAu1zHOjrzzj",
        "colab_type": "text"
      },
      "source": [
        "## Create a semantic search engine:"
      ]
    },
    {
      "cell_type": "code",
      "metadata": {
        "id": "HfgIfOxXQ8ba",
        "colab_type": "code",
        "cellView": "form",
        "colab": {
          "base_uri": "https://localhost:8080/",
          "height": 183
        },
        "outputId": "0fb88e52-c62a-4b4e-9b63-ad3a276e492f"
      },
      "source": [
        "#@title Sementic search\n",
        "#@markdown Enter a set of words to find matching sentences. 'results_returned' can beused to modify the number of matching sentences retured. To view the code behind this cell, use the menu in the top right to unhide...\n",
        "search_string = \"mouse\" #@param {type:\"string\"}\n",
        "results_returned = \"3\" #@param [1, 2, 3]\n",
        "\n",
        "from sklearn.metrics.pairwise import cosine_similarity\n",
        "\n",
        "\n",
        "embeddings2 = embed(\n",
        "    [search_string],\n",
        "    signature=\"default\",\n",
        "    as_dict=True)[\"default\"]\n",
        "\n",
        "with tf.Session() as sess:\n",
        "  sess.run(tf.global_variables_initializer())\n",
        "  sess.run(tf.tables_initializer())\n",
        "  search_vect = sess.run(embeddings2)\n",
        "  \n",
        "\n",
        "cosine_similarities = pd.Series(cosine_similarity(search_vect, x).flatten())\n",
        "output =\"\"\n",
        "for i,j in cosine_similarities.nlargest(int(results_returned)).iteritems():\n",
        "  output +='<p style=\"font-family:verdana; font-size:110%;\"> '\n",
        "  for i in sentences[i].split():\n",
        "    if i.lower() in search_string:\n",
        "      output += \" <b>\"+str(i)+\"</b>\"\n",
        "    else:\n",
        "      output += \" \"+str(i)\n",
        "  output += \"</p><hr>\"\n",
        "    \n",
        "output = '<h3>Results:</h3>'+output\n",
        "display(HTML(output))\n",
        "#   print(sentences[i])\n",
        "#   print('\\n')\n"
      ],
      "execution_count": 11,
      "outputs": [
        {
          "output_type": "display_data",
          "data": {
            "text/plain": "<IPython.core.display.HTML object>",
            "text/html": "<h3>Results:</h3><p style=\"font-family:verdana; font-size:110%;\">  but on wood &amp; on colors which have do not have gum or distemper glue, it is necessary to lay one coat of the said hide glue &amp; to let it dry &amp; to varnish.</p><hr><p style=\"font-family:verdana; font-size:110%;\">  and when the large cannule is red, they seize the hot end using small pincers with a long beak, such that one prong of the beak of the small pincers enters inside the end of the cannule, &amp; thus it is lengthened without becoming stopped, &amp; the other end of the cannule is held with the hand, because it is not hot.</p><hr><p style=\"font-family:verdana; font-size:110%;\">  mouth glue is made of parchment scrapings and one uses it without fire, for glueing paper or similar things, wetting it with the mouth.</p><hr>"
          },
          "metadata": {}
        }
      ]
    },
    {
      "cell_type": "code",
      "execution_count": null,
      "metadata": {},
      "outputs": [],
      "source": []
    }
  ],
  "metadata": {
    "colab": {
      "name": "Copie de Elmo contextual embeddings.ipynb",
      "provenance": [],
      "collapsed_sections": []
    },
    "kernelspec": {
      "name": "python3",
      "display_name": "Python 3"
    }
  },
  "nbformat": 4,
  "nbformat_minor": 0
}